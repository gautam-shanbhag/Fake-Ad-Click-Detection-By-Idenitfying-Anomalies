{
  "nbformat": 4,
  "nbformat_minor": 0,
  "metadata": {
    "colab": {
      "name": "Fake Ad Click Detection",
      "version": "0.3.2",
      "provenance": [],
      "machine_shape": "hm"
    },
    "kernelspec": {
      "name": "python3",
      "display_name": "Python 3"
    },
    "accelerator": "GPU"
  },
  "cells": [
    {
      "cell_type": "markdown",
      "metadata": {
        "id": "4XcK7SYsB3cZ",
        "colab_type": "text"
      },
      "source": [
        "#Inital Run"
      ]
    },
    {
      "cell_type": "code",
      "metadata": {
        "id": "KzTRkO3aazNV",
        "colab_type": "code",
        "outputId": "d8986dc8-e380-426a-9b1f-9453918c90f8",
        "colab": {
          "base_uri": "https://localhost:8080/",
          "height": 122
        }
      },
      "source": [
        "# Run this cell to mount your Google Drive.\n",
        "from google.colab import drive\n",
        "drive.mount('/content/drive')"
      ],
      "execution_count": 0,
      "outputs": [
        {
          "output_type": "stream",
          "text": [
            "Go to this URL in a browser: https://accounts.google.com/o/oauth2/auth?client_id=947318989803-6bn6qk8qdgf4n4g3pfee6491hc0brc4i.apps.googleusercontent.com&redirect_uri=urn%3Aietf%3Awg%3Aoauth%3A2.0%3Aoob&scope=email%20https%3A%2F%2Fwww.googleapis.com%2Fauth%2Fdocs.test%20https%3A%2F%2Fwww.googleapis.com%2Fauth%2Fdrive%20https%3A%2F%2Fwww.googleapis.com%2Fauth%2Fdrive.photos.readonly%20https%3A%2F%2Fwww.googleapis.com%2Fauth%2Fpeopleapi.readonly&response_type=code\n",
            "\n",
            "Enter your authorization code:\n",
            "··········\n",
            "Mounted at /content/drive\n"
          ],
          "name": "stdout"
        }
      ]
    },
    {
      "cell_type": "code",
      "metadata": {
        "id": "21VguNm9bcOo",
        "colab_type": "code",
        "outputId": "ecbc12da-5447-45c2-cf64-fa084aa905d9",
        "colab": {
          "base_uri": "https://localhost:8080/",
          "height": 34
        }
      },
      "source": [
        "# This Python 3 environment comes with many helpful analytics libraries installed\n",
        "# It is defined by the kaggle/python docker image: https://github.com/kaggle/docker-python\n",
        "# For example, here's several helpful packages to load in \n",
        "\n",
        "import numpy as np # linear algebra\n",
        "import pandas as pd # data processing, CSV file I/O (e.g. pd.read_csv)\n",
        "\n",
        "import os\n",
        "import gc\n",
        "import matplotlib.pyplot as plt\n",
        "import seaborn as sns\n",
        "import datetime\n",
        "import time\n",
        "%matplotlib inline\n",
        "\n",
        "pal = sns.color_palette()\n",
        "# Input data files are available in the \"../input/\" directory.\n",
        "# For example, running this (by clicking run or pressing Shift+Enter) will list the files in the input directory\n",
        "\n",
        "import os\n",
        "# Any results you write to the current directory are saved as output.\n",
        "\n",
        "#make wider graphs\n",
        "sns.set(rc={'figure.figsize':(12,5)});\n",
        "plt.figure(figsize=(12,5));"
      ],
      "execution_count": 0,
      "outputs": [
        {
          "output_type": "display_data",
          "data": {
            "text/plain": [
              "<Figure size 864x360 with 0 Axes>"
            ]
          },
          "metadata": {
            "tags": []
          }
        }
      ]
    },
    {
      "cell_type": "code",
      "metadata": {
        "id": "LXFjWotwee8M",
        "colab_type": "code",
        "outputId": "a9371640-a5bf-4ab4-edc9-573bd7a28e17",
        "colab": {
          "base_uri": "https://localhost:8080/",
          "height": 71
        }
      },
      "source": [
        "#data = pd.read_csv('/content/drive/My Drive/Practicum Data Set/final_dataset.csv', index_col=0)\n",
        "fullData = pd.read_csv('/content/drive/My Drive/Practicum Data Set/fullData.csv', index_col=0)\n",
        "underSample = pd.read_csv('/content/drive/My Drive/Practicum Data Set/underSample.csv', index_col=0)\n",
        "merge = pd.read_csv('/content/drive/My Drive/Practicum Data Set/merge.csv', index_col=0)\n"
      ],
      "execution_count": 0,
      "outputs": [
        {
          "output_type": "stream",
          "text": [
            "/usr/local/lib/python3.6/dist-packages/numpy/lib/arraysetops.py:569: FutureWarning: elementwise comparison failed; returning scalar instead, but in the future will perform elementwise comparison\n",
            "  mask |= (ar1 == a)\n"
          ],
          "name": "stderr"
        }
      ]
    },
    {
      "cell_type": "markdown",
      "metadata": {
        "id": "xkREK0ZtCFRp",
        "colab_type": "text"
      },
      "source": [
        "## Initial Data Desc"
      ]
    },
    {
      "cell_type": "code",
      "metadata": {
        "id": "u9pJaoyQgWLN",
        "colab_type": "code",
        "colab": {}
      },
      "source": [
        "pip install impyute"
      ],
      "execution_count": 0,
      "outputs": []
    },
    {
      "cell_type": "code",
      "metadata": {
        "id": "wIfHceI5gYVD",
        "colab_type": "code",
        "colab": {}
      },
      "source": [
        "pip install fancyimpute "
      ],
      "execution_count": 0,
      "outputs": []
    },
    {
      "cell_type": "code",
      "metadata": {
        "id": "K6yMgSR5yWkd",
        "colab_type": "code",
        "colab": {}
      },
      "source": [
        "pub1 = pd.read_csv('/content/drive/My Drive/Practicum Data Set/publishers_08mar12.csv')\n",
        "pub2 = pd.read_csv('/content/drive/My Drive/Practicum Data Set/publishers_09feb12.csv')\n",
        "pub3= pd.read_csv('/content/drive/My Drive/Practicum Data Set/publishers_23feb12.csv')\n",
        "\n",
        "frames = [pub1,pub2,pub3]\n",
        "\n",
        "pub = pd.concat(frames,sort=True)\n",
        "\n",
        "click1 = pd.read_csv('/content/drive/My Drive/Practicum Data Set/clicks_08mar12.csv')\n",
        "click2 = pd.read_csv('/content/drive/My Drive/Practicum Data Set/clicks_09feb12.csv')\n",
        "click3 = pd.read_csv('/content/drive/My Drive/Practicum Data Set/clicks_23feb12.csv')\n",
        "\n",
        "frames2 =[click1,click2,click3]\n",
        "\n",
        "click = pd.concat(frames2,sort=True)"
      ],
      "execution_count": 0,
      "outputs": []
    },
    {
      "cell_type": "code",
      "metadata": {
        "colab_type": "code",
        "id": "fT6Tv2wlCRLz",
        "colab": {}
      },
      "source": [
        "#pub1 = pd.read_csv('C:/Users/Gautam/Desktop/DCU/Practicum/Dataset/BuzzFeed Data/publishers_08mar12.csv')\n",
        "#pub2 = pd.read_csv('C:/Users/Gautam/Desktop/DCU/Practicum/Dataset/BuzzFeed Data/publishers_09feb12.csv')\n",
        "#pub3= pd.read_csv('C:/Users/Gautam/Desktop/DCU/Practicum/Dataset/BuzzFeed Data/publishers_23feb12.csv')\n",
        "\n",
        "#frames = [pub1,pub2,pub3]\n",
        "\n",
        "#pub = pd.concat(frames,sort=True)\n",
        "\n",
        "#click1 = pd.read_csv('C:/Users/Gautam/Desktop/DCU/Practicum/Dataset/BuzzFeed Data/clicks_08mar12.csv')\n",
        "#click2 = pd.read_csv('C:/Users/Gautam/Desktop/DCU/Practicum/Dataset/BuzzFeed Data/clicks_09feb12.csv')\n",
        "#click3 = pd.read_csv('C:/Users/Gautam/Desktop/DCU/Practicum/Dataset/BuzzFeed Data/clicks_23feb12.csv')\n",
        "\n",
        "#frames2 =[click1,click2,click3]\n",
        "\n",
        "#click = pd.concat(frames2,sort=True)"
      ],
      "execution_count": 0,
      "outputs": []
    },
    {
      "cell_type": "code",
      "metadata": {
        "id": "tpkE_cFEi-BE",
        "colab_type": "code",
        "colab": {}
      },
      "source": [
        "data_test1 = pd.merge(click1, pub1, on='partnerid')\n",
        "data_test2 = pd.merge(click2, pub2, on='partnerid')\n",
        "data_test3 = pd.merge(click3, pub3, on='partnerid')\n",
        "\n",
        "data_test1['status'] = data_test1['status'].replace('Observation_New','Observation')\n",
        "data_test1 = data_test1[data_test1.status != 'Observation']\n",
        "data_test1 = data_test1.drop(columns=['id','partnerid','cid','address','bankaccount'])\n",
        "\n",
        "data_test2['status'] = data_test2['status'].replace('Observation_New','Observation')\n",
        "data_test2 = data_test2[data_test2.status != 'Observation']\n",
        "data_test2 = data_test2.drop(columns=['id','partnerid','cid','address','bankaccount'])\n",
        "\n",
        "data_test3['status'] = data_test3['status'].replace('Observation_New','Observation')\n",
        "data_test3 = data_test3[data_test3.status != 'Observation']\n",
        "data_test3 = data_test3.drop(columns=['id','partnerid','cid','address','bankaccount'])"
      ],
      "execution_count": 0,
      "outputs": []
    },
    {
      "cell_type": "code",
      "metadata": {
        "id": "F7UMByXqjMN8",
        "colab_type": "code",
        "outputId": "a311d204-810e-439c-d27d-474f5e593d78",
        "colab": {
          "base_uri": "https://localhost:8080/",
          "height": 374
        }
      },
      "source": [
        "print(data_test1.groupby('status').count())\n",
        "print(data_test1['status'].size)\n",
        "print (data_test1.timeat.min())\n",
        "print (data_test1.timeat.max())\n",
        "\n",
        "\n",
        "print(data_test2.groupby('status').count())\n",
        "print(data_test2['status'].size)\n",
        "print (data_test2.timeat.min())\n",
        "print (data_test2.timeat.max())\n",
        "\n",
        "\n",
        "print(data_test3.groupby('status').count())\n",
        "print(data_test3['status'].size)\n",
        "print (data_test3.timeat.min())\n",
        "print (data_test3.timeat.max())"
      ],
      "execution_count": 0,
      "outputs": [
        {
          "output_type": "stream",
          "text": [
            "         iplong    agent     cntr   timeat  category  referer\n",
            "status                                                       \n",
            "Fraud    134866   134816   134418   134866    134866   105288\n",
            "OK      2177722  2175309  2175192  2177722   2177722  1216014\n",
            "2312588\n",
            "2012-03-08 00:00:00.0\n",
            "2012-03-10 23:59:59.0\n",
            "         iplong    agent     cntr   timeat  category  referer\n",
            "status                                                       \n",
            "Fraud    127010   125080   126753   127010    127010    92166\n",
            "OK      2726705  2720493  2723930  2726705   2726705  1456213\n",
            "2853715\n",
            "2012-02-09 00:00:00.0\n",
            "2012-02-11 23:59:59.0\n",
            "         iplong    agent     cntr   timeat  category  referer\n",
            "status                                                       \n",
            "Fraud    155387   154988   154985   155387    155387   112700\n",
            "OK      2145403  2143142  2142283  2145403   2145403  1221417\n",
            "2300790\n",
            "2012-02-23 00:00:00.0\n",
            "2012-02-25 23:59:59.0\n"
          ],
          "name": "stdout"
        }
      ]
    },
    {
      "cell_type": "code",
      "metadata": {
        "id": "5kv3dA6YzEsj",
        "colab_type": "code",
        "colab": {}
      },
      "source": [
        "pub.head(5)"
      ],
      "execution_count": 0,
      "outputs": []
    },
    {
      "cell_type": "code",
      "metadata": {
        "id": "aJP6DEB7zHLj",
        "colab_type": "code",
        "colab": {}
      },
      "source": [
        "click.head(5)"
      ],
      "execution_count": 0,
      "outputs": []
    },
    {
      "cell_type": "code",
      "metadata": {
        "id": "rZI43gd7zJgb",
        "colab_type": "code",
        "colab": {}
      },
      "source": [
        "data = pd.merge(click, pub, on='partnerid')"
      ],
      "execution_count": 0,
      "outputs": []
    },
    {
      "cell_type": "code",
      "metadata": {
        "id": "Gz5hRW9GzJoj",
        "colab_type": "code",
        "colab": {}
      },
      "source": [
        "#data.to_csv('dataset.csv',index=False)"
      ],
      "execution_count": 0,
      "outputs": []
    },
    {
      "cell_type": "markdown",
      "metadata": {
        "id": "0R327Cz7zPlt",
        "colab_type": "text"
      },
      "source": [
        "COLUMN Description :\n",
        "\n",
        "partnerid - partnerid - Unique identifier of a publisher.\n",
        "\n",
        "Bankaccount - Bank account associated with a publisher (may be empty)\n",
        "\n",
        "address - Mailing address of a publisher (obfuscated; may be empty)\n",
        "\n",
        "status - Label of a publisher, which can be the following:\n",
        "\"OK\" - Publishers whom BuzzCity deems as having healthy traffic (or those who slipped their detection mechanisms)\n",
        "\"Observation\" - Publishers who may have just started their traffic or their traffic statistics deviates from system wide average. BuzzCity does not have any conclusive stand with these publishers yet\n",
        "\"Fraud\" - Publishers who are deemed as fraudulent with clear proof. Buzzcity suspends their accounts and their earnings will not be paid\n",
        "\n",
        "\n",
        "agent - deviceua - Phone model used by a clicker/visitor\n",
        "\n",
        "category - publisherchannel - Publisher's channel type, which can be the following:\n",
        "ad - Adult sites\n",
        "co - Community\n",
        "es - Entertainment and lifestyle\n",
        "gd - Glamour and dating\n",
        "in - Information\n",
        "mc - Mobile content\n",
        "pp - Premium portal\n",
        "se - Search, portal, services\n",
        "mg - \n",
        "ow - \n",
        "\n",
        "cid - adscampaignid - Unique identifier of a given advertisement campaign\n",
        "\n",
        "cntr - usercountry - Country from which the surfer is\n",
        "\n",
        "id - id - Unique identifier of a particular click\n",
        "\n",
        "iplong - numericip - Public IP address of a clicker/visitor\n",
        "\n",
        "referer - referredurl - URL where the ad banners were clicked (obfuscated; may be empty). \n",
        "\n",
        "timeat - clicktime - Timestamp of a given click (in YYYY-MM-DD format)\n",
        "\n",
        "partnerid - publisherid - Unique identifier of a publisher\n"
      ]
    },
    {
      "cell_type": "code",
      "metadata": {
        "id": "7vgv-nMrzJqz",
        "colab_type": "code",
        "outputId": "ae399a14-b364-478a-b1af-5305dafbf39c",
        "colab": {
          "base_uri": "https://localhost:8080/",
          "height": 204
        }
      },
      "source": [
        "data.head(5)"
      ],
      "execution_count": 0,
      "outputs": [
        {
          "output_type": "execute_result",
          "data": {
            "text/html": [
              "<div>\n",
              "<style scoped>\n",
              "    .dataframe tbody tr th:only-of-type {\n",
              "        vertical-align: middle;\n",
              "    }\n",
              "\n",
              "    .dataframe tbody tr th {\n",
              "        vertical-align: top;\n",
              "    }\n",
              "\n",
              "    .dataframe thead th {\n",
              "        text-align: right;\n",
              "    }\n",
              "</style>\n",
              "<table border=\"1\" class=\"dataframe\">\n",
              "  <thead>\n",
              "    <tr style=\"text-align: right;\">\n",
              "      <th></th>\n",
              "      <th>Unnamed: 0</th>\n",
              "      <th>agent</th>\n",
              "      <th>category</th>\n",
              "      <th>cntr</th>\n",
              "      <th>iplong</th>\n",
              "      <th>referer</th>\n",
              "      <th>timeat</th>\n",
              "      <th>status</th>\n",
              "    </tr>\n",
              "  </thead>\n",
              "  <tbody>\n",
              "    <tr>\n",
              "      <th>0</th>\n",
              "      <td>0</td>\n",
              "      <td>SonyEricsson_K70</td>\n",
              "      <td>ad</td>\n",
              "      <td>us</td>\n",
              "      <td>1071324855</td>\n",
              "      <td>NaN</td>\n",
              "      <td>2012-03-08 00:00:00.0</td>\n",
              "      <td>OK</td>\n",
              "    </tr>\n",
              "    <tr>\n",
              "      <th>1</th>\n",
              "      <td>1</td>\n",
              "      <td>Nokia_2730c</td>\n",
              "      <td>ad</td>\n",
              "      <td>au</td>\n",
              "      <td>1868310973</td>\n",
              "      <td>NaN</td>\n",
              "      <td>2012-03-08 00:00:02.0</td>\n",
              "      <td>OK</td>\n",
              "    </tr>\n",
              "    <tr>\n",
              "      <th>2</th>\n",
              "      <td>2</td>\n",
              "      <td>Nokia_2330c</td>\n",
              "      <td>ad</td>\n",
              "      <td>ke</td>\n",
              "      <td>3301565714</td>\n",
              "      <td>tbuyyyoychgjo1ndlucxgt9o6</td>\n",
              "      <td>2012-03-08 00:00:11.0</td>\n",
              "      <td>OK</td>\n",
              "    </tr>\n",
              "    <tr>\n",
              "      <th>3</th>\n",
              "      <td>3</td>\n",
              "      <td>SonyEricsson_W20</td>\n",
              "      <td>ad</td>\n",
              "      <td>iq</td>\n",
              "      <td>1605039771</td>\n",
              "      <td>thqfa0sa55mqsv58thp2f4mig</td>\n",
              "      <td>2012-03-08 00:00:15.0</td>\n",
              "      <td>OK</td>\n",
              "    </tr>\n",
              "    <tr>\n",
              "      <th>4</th>\n",
              "      <td>4</td>\n",
              "      <td>Samsung_GT-B3210</td>\n",
              "      <td>ad</td>\n",
              "      <td>za</td>\n",
              "      <td>3309442764</td>\n",
              "      <td>gbb407skm0shiglvo2tekqo7r</td>\n",
              "      <td>2012-03-08 00:00:16.0</td>\n",
              "      <td>OK</td>\n",
              "    </tr>\n",
              "  </tbody>\n",
              "</table>\n",
              "</div>"
            ],
            "text/plain": [
              "   Unnamed: 0             agent  ...                 timeat status\n",
              "0           0  SonyEricsson_K70  ...  2012-03-08 00:00:00.0     OK\n",
              "1           1       Nokia_2730c  ...  2012-03-08 00:00:02.0     OK\n",
              "2           2       Nokia_2330c  ...  2012-03-08 00:00:11.0     OK\n",
              "3           3  SonyEricsson_W20  ...  2012-03-08 00:00:15.0     OK\n",
              "4           4  Samsung_GT-B3210  ...  2012-03-08 00:00:16.0     OK\n",
              "\n",
              "[5 rows x 8 columns]"
            ]
          },
          "metadata": {
            "tags": []
          },
          "execution_count": 37
        }
      ]
    },
    {
      "cell_type": "code",
      "metadata": {
        "id": "WlFd1XumZ-Gg",
        "colab_type": "code",
        "colab": {}
      },
      "source": [
        "data['status'] = data['status'].replace('Observation_New','Observation')"
      ],
      "execution_count": 0,
      "outputs": []
    },
    {
      "cell_type": "code",
      "metadata": {
        "id": "MG9XlsLeaAuh",
        "colab_type": "code",
        "colab": {}
      },
      "source": [
        "data = data[data.status != 'Observation']"
      ],
      "execution_count": 0,
      "outputs": []
    },
    {
      "cell_type": "code",
      "metadata": {
        "id": "jUTG31aXcQYe",
        "colab_type": "code",
        "outputId": "384b22d0-1300-40b2-fc58-c4764eb78693",
        "colab": {
          "base_uri": "https://localhost:8080/",
          "height": 289
        }
      },
      "source": [
        "data.head(5)"
      ],
      "execution_count": 0,
      "outputs": [
        {
          "output_type": "execute_result",
          "data": {
            "text/html": [
              "<div>\n",
              "<style scoped>\n",
              "    .dataframe tbody tr th:only-of-type {\n",
              "        vertical-align: middle;\n",
              "    }\n",
              "\n",
              "    .dataframe tbody tr th {\n",
              "        vertical-align: top;\n",
              "    }\n",
              "\n",
              "    .dataframe thead th {\n",
              "        text-align: right;\n",
              "    }\n",
              "</style>\n",
              "<table border=\"1\" class=\"dataframe\">\n",
              "  <thead>\n",
              "    <tr style=\"text-align: right;\">\n",
              "      <th></th>\n",
              "      <th>agent</th>\n",
              "      <th>category</th>\n",
              "      <th>cid</th>\n",
              "      <th>cntr</th>\n",
              "      <th>id</th>\n",
              "      <th>iplong</th>\n",
              "      <th>partnerid</th>\n",
              "      <th>referer</th>\n",
              "      <th>timeat</th>\n",
              "      <th>address</th>\n",
              "      <th>bankaccount</th>\n",
              "      <th>status</th>\n",
              "    </tr>\n",
              "  </thead>\n",
              "  <tbody>\n",
              "    <tr>\n",
              "      <th>0</th>\n",
              "      <td>SonyEricsson_K70</td>\n",
              "      <td>ad</td>\n",
              "      <td>dsfag</td>\n",
              "      <td>us</td>\n",
              "      <td>9794476</td>\n",
              "      <td>1071324855</td>\n",
              "      <td>dv3va</td>\n",
              "      <td>NaN</td>\n",
              "      <td>2012-03-08 00:00:00.0</td>\n",
              "      <td>g9rffau0b792mpai1m3gj20a3</td>\n",
              "      <td>NaN</td>\n",
              "      <td>OK</td>\n",
              "    </tr>\n",
              "    <tr>\n",
              "      <th>1</th>\n",
              "      <td>Nokia_2730c</td>\n",
              "      <td>ad</td>\n",
              "      <td>drvnr</td>\n",
              "      <td>au</td>\n",
              "      <td>9794499</td>\n",
              "      <td>1868310973</td>\n",
              "      <td>dv3va</td>\n",
              "      <td>NaN</td>\n",
              "      <td>2012-03-08 00:00:02.0</td>\n",
              "      <td>g9rffau0b792mpai1m3gj20a3</td>\n",
              "      <td>NaN</td>\n",
              "      <td>OK</td>\n",
              "    </tr>\n",
              "    <tr>\n",
              "      <th>2</th>\n",
              "      <td>Nokia_2330c</td>\n",
              "      <td>ad</td>\n",
              "      <td>dvfqu</td>\n",
              "      <td>ke</td>\n",
              "      <td>9794726</td>\n",
              "      <td>3301565714</td>\n",
              "      <td>dv3va</td>\n",
              "      <td>tbuyyyoychgjo1ndlucxgt9o6</td>\n",
              "      <td>2012-03-08 00:00:11.0</td>\n",
              "      <td>g9rffau0b792mpai1m3gj20a3</td>\n",
              "      <td>NaN</td>\n",
              "      <td>OK</td>\n",
              "    </tr>\n",
              "    <tr>\n",
              "      <th>3</th>\n",
              "      <td>SonyEricsson_W20</td>\n",
              "      <td>ad</td>\n",
              "      <td>dsftc</td>\n",
              "      <td>iq</td>\n",
              "      <td>9794828</td>\n",
              "      <td>1605039771</td>\n",
              "      <td>dv3va</td>\n",
              "      <td>thqfa0sa55mqsv58thp2f4mig</td>\n",
              "      <td>2012-03-08 00:00:15.0</td>\n",
              "      <td>g9rffau0b792mpai1m3gj20a3</td>\n",
              "      <td>NaN</td>\n",
              "      <td>OK</td>\n",
              "    </tr>\n",
              "    <tr>\n",
              "      <th>4</th>\n",
              "      <td>Samsung_GT-B3210</td>\n",
              "      <td>ad</td>\n",
              "      <td>du4v5</td>\n",
              "      <td>za</td>\n",
              "      <td>9794839</td>\n",
              "      <td>3309442764</td>\n",
              "      <td>dv3va</td>\n",
              "      <td>gbb407skm0shiglvo2tekqo7r</td>\n",
              "      <td>2012-03-08 00:00:16.0</td>\n",
              "      <td>g9rffau0b792mpai1m3gj20a3</td>\n",
              "      <td>NaN</td>\n",
              "      <td>OK</td>\n",
              "    </tr>\n",
              "  </tbody>\n",
              "</table>\n",
              "</div>"
            ],
            "text/plain": [
              "              agent category  ... bankaccount status\n",
              "0  SonyEricsson_K70       ad  ...         NaN     OK\n",
              "1       Nokia_2730c       ad  ...         NaN     OK\n",
              "2       Nokia_2330c       ad  ...         NaN     OK\n",
              "3  SonyEricsson_W20       ad  ...         NaN     OK\n",
              "4  Samsung_GT-B3210       ad  ...         NaN     OK\n",
              "\n",
              "[5 rows x 12 columns]"
            ]
          },
          "metadata": {
            "tags": []
          },
          "execution_count": 12
        }
      ]
    },
    {
      "cell_type": "code",
      "metadata": {
        "id": "1c9z0ZTSfeO0",
        "colab_type": "code",
        "colab": {}
      },
      "source": [
        "data = data.drop(columns=['id','partnerid','cid','address','bankaccount'])"
      ],
      "execution_count": 0,
      "outputs": []
    },
    {
      "cell_type": "code",
      "metadata": {
        "id": "621N__UPj1Bw",
        "colab_type": "code",
        "outputId": "72775ec1-fa20-4907-cf23-68e48dd20ef2",
        "colab": {
          "base_uri": "https://localhost:8080/",
          "height": 34
        }
      },
      "source": [
        "!pwd"
      ],
      "execution_count": 0,
      "outputs": [
        {
          "output_type": "stream",
          "text": [
            "/content\n"
          ],
          "name": "stdout"
        }
      ]
    },
    {
      "cell_type": "code",
      "metadata": {
        "id": "DpnUpiD5h6Bn",
        "colab_type": "code",
        "colab": {}
      },
      "source": [
        "#data.to_csv(path_or_buf ='/content/drive/My Drive/Practicum Data Set/final_dataset.csv',sep=',', header=True)"
      ],
      "execution_count": 0,
      "outputs": []
    },
    {
      "cell_type": "code",
      "metadata": {
        "id": "8PiU3qHOIW63",
        "colab_type": "code",
        "colab": {}
      },
      "source": [
        ""
      ],
      "execution_count": 0,
      "outputs": []
    },
    {
      "cell_type": "markdown",
      "metadata": {
        "id": "KLHrdCb3CWbZ",
        "colab_type": "text"
      },
      "source": [
        "## Visualisations"
      ]
    },
    {
      "cell_type": "code",
      "metadata": {
        "id": "y3UduVAmzJtL",
        "colab_type": "code",
        "outputId": "454190d1-04f0-450c-f7a2-d32e12ac75f9",
        "colab": {
          "base_uri": "https://localhost:8080/",
          "height": 523
        }
      },
      "source": [
        "plt.figure(figsize=(15, 8))\n",
        "cols = data.columns\n",
        "uniques = [len(fullData[col].unique()) for col in cols]\n",
        "sns.set(font_scale=1.2)\n",
        "ax = sns.barplot(cols, uniques, palette=pal, log=True)\n",
        "ax.set(xlabel='Feature', ylabel='log(unique count)', title='Number of unique values per feature')\n",
        "for p, uniq in zip(ax.patches, uniques):\n",
        "    height = p.get_height()\n",
        "    ax.text(p.get_x()+p.get_width()/2.,\n",
        "            height + 10,\n",
        "            uniq,\n",
        "            ha=\"center\") "
      ],
      "execution_count": 0,
      "outputs": [
        {
          "output_type": "display_data",
          "data": {
            "image/png": "[encoded data removed]",
            "text/plain": [
              "<Figure size 1080x576 with 1 Axes>"
            ]
          },
          "metadata": {
            "tags": []
          }
        }
      ]
    },
    {
      "cell_type": "code",
      "metadata": {
        "id": "tkOG3c65Cjff",
        "colab_type": "code",
        "colab": {}
      },
      "source": [
        "print(data['category'].value_counts())\n"
      ],
      "execution_count": 0,
      "outputs": []
    },
    {
      "cell_type": "code",
      "metadata": {
        "id": "AQx_rhXnK1gJ",
        "colab_type": "code",
        "colab": {}
      },
      "source": [
        "print(data['cntr'].value_counts())\n"
      ],
      "execution_count": 0,
      "outputs": []
    },
    {
      "cell_type": "code",
      "metadata": {
        "id": "YW-2Eix6MCEH",
        "colab_type": "code",
        "colab": {}
      },
      "source": [
        "print(data['agent'].value_counts())\n"
      ],
      "execution_count": 0,
      "outputs": []
    },
    {
      "cell_type": "code",
      "metadata": {
        "id": "oYfRL-kfCvod",
        "colab_type": "code",
        "outputId": "663fd1ee-566e-4df1-fc58-9597fe7776fe",
        "colab": {
          "base_uri": "https://localhost:8080/",
          "height": 301
        }
      },
      "source": [
        "%matplotlib inline\n",
        "import seaborn as sns\n",
        "import matplotlib.pyplot as plt\n",
        "carrier_count = data['category'].value_counts()\n",
        "sns.set(style=\"darkgrid\")\n",
        "sns.barplot(carrier_count.index, carrier_count.values, alpha=0.9)\n",
        "plt.title('Frequency Distribution By Category')\n",
        "plt.ylabel('Number of Occurrences', fontsize=12)\n",
        "plt.xlabel('Category', fontsize=12)\n",
        "plt.show()"
      ],
      "execution_count": 0,
      "outputs": [
        {
          "output_type": "display_data",
          "data": {
            "image/png": "[encoded data removed]",
            "text/plain": [
              "<Figure size 432x288 with 1 Axes>"
            ]
          },
          "metadata": {
            "tags": []
          }
        }
      ]
    },
    {
      "cell_type": "code",
      "metadata": {
        "id": "YwAvf-MFDBnH",
        "colab_type": "code",
        "outputId": "49749209-7aa9-434b-de80-e661e85fee43",
        "colab": {
          "base_uri": "https://localhost:8080/",
          "height": 260
        }
      },
      "source": [
        "labels = data['category'].astype('category').cat.categories.tolist()\n",
        "counts = data['category'].value_counts()\n",
        "sizes = [counts[var_cat] for var_cat in labels]\n",
        "fig1, ax1 = plt.subplots()\n",
        "ax1.pie(sizes, labels=labels, autopct='%1.1f%%', shadow=True) #autopct is show the % on plot\n",
        "ax1.axis('equal')\n",
        "plt.show()"
      ],
      "execution_count": 0,
      "outputs": [
        {
          "output_type": "display_data",
          "data": {
            "image/png": "[encoded data removed]",
            "text/plain": [
              "<Figure size 432x288 with 1 Axes>"
            ]
          },
          "metadata": {
            "tags": []
          }
        }
      ]
    },
    {
      "cell_type": "code",
      "metadata": {
        "id": "0BEXd6CkzJvW",
        "colab_type": "code",
        "outputId": "758c8be1-f53b-4f72-912f-2bb3616056a4",
        "colab": {
          "base_uri": "https://localhost:8080/",
          "height": 170
        }
      },
      "source": [
        "data.count()"
      ],
      "execution_count": 0,
      "outputs": [
        {
          "output_type": "execute_result",
          "data": {
            "text/plain": [
              "Unnamed: 0    12387540\n",
              "agent         12364814\n",
              "category      12387540\n",
              "cntr          12371637\n",
              "iplong        12387540\n",
              "referer        6959884\n",
              "timeat        12387540\n",
              "status        12387540\n",
              "dtype: int64"
            ]
          },
          "metadata": {
            "tags": []
          },
          "execution_count": 45
        }
      ]
    },
    {
      "cell_type": "code",
      "metadata": {
        "id": "Lf9QIhXFeZHR",
        "colab_type": "code",
        "outputId": "0e2dd18e-bfa6-4681-e06d-c215e3d06c4e",
        "colab": {
          "base_uri": "https://localhost:8080/",
          "height": 170
        }
      },
      "source": [
        "data.isnull().sum()\n"
      ],
      "execution_count": 0,
      "outputs": [
        {
          "output_type": "execute_result",
          "data": {
            "text/plain": [
              "Unnamed: 0          0\n",
              "agent           22726\n",
              "category            0\n",
              "cntr            15903\n",
              "iplong              0\n",
              "referer       5427656\n",
              "timeat              0\n",
              "status              0\n",
              "dtype: int64"
            ]
          },
          "metadata": {
            "tags": []
          },
          "execution_count": 46
        }
      ]
    },
    {
      "cell_type": "code",
      "metadata": {
        "id": "VMbCKEDsgO1m",
        "colab_type": "code",
        "colab": {}
      },
      "source": [
        "fullData = data.dropna()"
      ],
      "execution_count": 0,
      "outputs": []
    },
    {
      "cell_type": "code",
      "metadata": {
        "id": "mfB8AOhXt9lu",
        "colab_type": "code",
        "outputId": "6bc7977b-c303-41fd-bd1b-c72b41b2c094",
        "colab": {
          "base_uri": "https://localhost:8080/",
          "height": 34
        }
      },
      "source": [
        "fullData.columns"
      ],
      "execution_count": 0,
      "outputs": [
        {
          "output_type": "execute_result",
          "data": {
            "text/plain": [
              "Index(['agent', 'category', 'cntr', 'iplong', 'referer', 'timeat', 'status'], dtype='object')"
            ]
          },
          "metadata": {
            "tags": []
          },
          "execution_count": 5
        }
      ]
    },
    {
      "cell_type": "code",
      "metadata": {
        "id": "ujdXZlOA7ems",
        "colab_type": "code",
        "outputId": "39c657e5-bc94-40e3-8072-c11e4546d240",
        "colab": {
          "base_uri": "https://localhost:8080/",
          "height": 360
        }
      },
      "source": [
        "\n",
        "cols = fullData.columns\n",
        "uniques = [len(fullData[col].unique()) for col in cols]\n",
        "sns.set(font_scale=1.2)\n",
        "ax = sns.barplot(cols, uniques, palette=pal, log=True)\n",
        "ax.set(xlabel='Feature', ylabel='log(unique count)', title='Number of unique values per feature')\n",
        "for p, uniq in zip(ax.patches, uniques):\n",
        "    height = p.get_height()\n",
        "    ax.text(p.get_x()+p.get_width()/2.,\n",
        "            height + 10,\n",
        "            uniq,\n",
        "            ha=\"center\") "
      ],
      "execution_count": 0,
      "outputs": [
        {
          "output_type": "display_data",
          "data": {
            "image/png": "[encoded data removed]",
            "text/plain": [
              "<Figure size 864x360 with 1 Axes>"
            ]
          },
          "metadata": {
            "tags": []
          }
        }
      ]
    },
    {
      "cell_type": "code",
      "metadata": {
        "id": "0x4HkvrZn71A",
        "colab_type": "code",
        "outputId": "91fd0737-ecc6-41fb-90dd-6d076336f6b0",
        "colab": {
          "base_uri": "https://localhost:8080/",
          "height": 153
        }
      },
      "source": [
        "fullData.count()"
      ],
      "execution_count": 0,
      "outputs": [
        {
          "output_type": "execute_result",
          "data": {
            "text/plain": [
              "agent       6938523\n",
              "category    6938523\n",
              "cntr        6938523\n",
              "iplong      6938523\n",
              "referer     6938523\n",
              "timeat      6938523\n",
              "status      6938523\n",
              "dtype: int64"
            ]
          },
          "metadata": {
            "tags": []
          },
          "execution_count": 6
        }
      ]
    },
    {
      "cell_type": "code",
      "metadata": {
        "id": "dls-Jh87_2aX",
        "colab_type": "code",
        "outputId": "c3c3c88f-8577-473a-891b-d65068ef4c77",
        "colab": {
          "base_uri": "https://localhost:8080/",
          "height": 68
        }
      },
      "source": [
        "print(fullData['status'].value_counts())"
      ],
      "execution_count": 0,
      "outputs": [
        {
          "output_type": "stream",
          "text": [
            "OK       6494084\n",
            "Fraud     444439\n",
            "Name: status, dtype: int64\n"
          ],
          "name": "stdout"
        }
      ]
    },
    {
      "cell_type": "code",
      "metadata": {
        "id": "3JfA5FqfgO42",
        "colab_type": "code",
        "outputId": "cb7bb3ac-1ab6-4c0f-dd0a-0b5f21e80410",
        "colab": {
          "base_uri": "https://localhost:8080/",
          "height": 153
        }
      },
      "source": [
        "fullData.isnull().sum()"
      ],
      "execution_count": 0,
      "outputs": [
        {
          "output_type": "execute_result",
          "data": {
            "text/plain": [
              "agent       0\n",
              "category    0\n",
              "cntr        0\n",
              "iplong      0\n",
              "referer     0\n",
              "timeat      0\n",
              "status      0\n",
              "dtype: int64"
            ]
          },
          "metadata": {
            "tags": []
          },
          "execution_count": 8
        }
      ]
    },
    {
      "cell_type": "code",
      "metadata": {
        "id": "Cen4na-U8ZnW",
        "colab_type": "code",
        "colab": {}
      },
      "source": [
        "fullData['iplong'] = fullData['iplong'].astype('category')"
      ],
      "execution_count": 0,
      "outputs": []
    },
    {
      "cell_type": "code",
      "metadata": {
        "id": "DG5G4ZpfVhvA",
        "colab_type": "code",
        "colab": {}
      },
      "source": [
        "#fullData.to_csv(path_or_buf ='/content/drive/My Drive/Practicum Data Set/fullData.csv',sep=',', header=True)"
      ],
      "execution_count": 0,
      "outputs": []
    },
    {
      "cell_type": "code",
      "metadata": {
        "id": "D9i7jwdfmTvc",
        "colab_type": "code",
        "outputId": "17cf3cdb-9066-432d-acb5-7c84e24f3029",
        "colab": {
          "base_uri": "https://localhost:8080/",
          "height": 153
        }
      },
      "source": [
        "fullData.dtypes"
      ],
      "execution_count": 0,
      "outputs": [
        {
          "output_type": "execute_result",
          "data": {
            "text/plain": [
              "agent         object\n",
              "category      object\n",
              "cntr          object\n",
              "iplong      category\n",
              "referer       object\n",
              "timeat        object\n",
              "status        object\n",
              "dtype: object"
            ]
          },
          "metadata": {
            "tags": []
          },
          "execution_count": 11
        }
      ]
    },
    {
      "cell_type": "code",
      "metadata": {
        "id": "lFdoLw8-MBKU",
        "colab_type": "code",
        "colab": {}
      },
      "source": [
        "no_frauds = len(fullData[fullData['status'] == 'Fraud'])\n",
        "no_frauds\n",
        "non_fraud_indices = fullData[fullData.status == 'OK'].index\n",
        "random_indices = np.random.choice(non_fraud_indices,no_frauds, replace=False)\n",
        "fraud_indices = fullData[fullData.status == 'Fraud'].index\n",
        "under_sample_indices = np.concatenate([fraud_indices,random_indices])\n",
        "underSample = fullData.loc[under_sample_indices]\n",
        "#underSample.to_csv(path_or_buf ='/content/drive/My Drive/Practicum Data Set/underSample.csv',sep=',', header=True)"
      ],
      "execution_count": 0,
      "outputs": []
    },
    {
      "cell_type": "code",
      "metadata": {
        "id": "f10DWlRcMBHR",
        "colab_type": "code",
        "outputId": "328feba2-9e0b-4a24-ddf3-4ee3116ec2b6",
        "colab": {
          "base_uri": "https://localhost:8080/",
          "height": 68
        }
      },
      "source": [
        "print(underSample['status'].value_counts())\n"
      ],
      "execution_count": 0,
      "outputs": [
        {
          "output_type": "stream",
          "text": [
            "Fraud    444439\n",
            "OK       444439\n",
            "Name: status, dtype: int64\n"
          ],
          "name": "stdout"
        }
      ]
    },
    {
      "cell_type": "code",
      "metadata": {
        "id": "URjO3NnwtwG6",
        "colab_type": "code",
        "outputId": "e30cc956-3a35-4d5a-e710-395bd9aa035d",
        "colab": {
          "base_uri": "https://localhost:8080/",
          "height": 34
        }
      },
      "source": [
        "underSample.columns"
      ],
      "execution_count": 0,
      "outputs": [
        {
          "output_type": "execute_result",
          "data": {
            "text/plain": [
              "Index(['agent', 'category', 'cntr', 'iplong', 'referer', 'timeat', 'status'], dtype='object')"
            ]
          },
          "metadata": {
            "tags": []
          },
          "execution_count": 10
        }
      ]
    },
    {
      "cell_type": "code",
      "metadata": {
        "id": "7hMqcu5DXiL9",
        "colab_type": "code",
        "colab": {}
      },
      "source": [
        "underSample['iplong'] = underSample['iplong'].astype('category')"
      ],
      "execution_count": 0,
      "outputs": []
    },
    {
      "cell_type": "code",
      "metadata": {
        "id": "Mk3uZPbjHvKk",
        "colab_type": "code",
        "outputId": "d1eb89b3-82fe-46bb-ebf6-5b29f8b30d78",
        "colab": {
          "base_uri": "https://localhost:8080/",
          "height": 510
        }
      },
      "source": [
        "underSample.dtypes"
      ],
      "execution_count": 0,
      "outputs": [
        {
          "output_type": "execute_result",
          "data": {
            "text/plain": [
              "agent                 object\n",
              "category              object\n",
              "cntr                  object\n",
              "iplong                 int64\n",
              "referer               object\n",
              "timeat                object\n",
              "status                object\n",
              "status_binary          int64\n",
              "datetime              object\n",
              "click_day              int64\n",
              "click_hour             int64\n",
              "click_min              int64\n",
              "click_sec              int64\n",
              "click_month            int64\n",
              "clicks_by_ip           int64\n",
              "clicks_by_cntr         int64\n",
              "clicks_by_referer      int64\n",
              "clicks_by_category     int64\n",
              "clicks_per_minute      int64\n",
              "clicks_per_hour        int64\n",
              "ip_ref_cat_per_min     int64\n",
              "ip_ref_cat_per_hr      int64\n",
              "ip_cat_per_min         int64\n",
              "ip_cat_per_hr          int64\n",
              "ip_min_count           int64\n",
              "ip_min_avg             int64\n",
              "ip_ref_cat_min_avg     int64\n",
              "ip_cat_min_avg         int64\n",
              "dtype: object"
            ]
          },
          "metadata": {
            "tags": []
          },
          "execution_count": 9
        }
      ]
    },
    {
      "cell_type": "markdown",
      "metadata": {
        "id": "KO4VaSAGCgag",
        "colab_type": "text"
      },
      "source": [
        "# Categorical Base Model"
      ]
    },
    {
      "cell_type": "code",
      "metadata": {
        "id": "ysap-OA1gJyd",
        "colab_type": "code",
        "colab": {}
      },
      "source": [
        "pip install catboost\n"
      ],
      "execution_count": 0,
      "outputs": []
    },
    {
      "cell_type": "code",
      "metadata": {
        "id": "jHvoAzalF19j",
        "colab_type": "code",
        "colab": {}
      },
      "source": [
        ""
      ],
      "execution_count": 0,
      "outputs": []
    },
    {
      "cell_type": "markdown",
      "metadata": {
        "id": "jNsltZFGulut",
        "colab_type": "text"
      },
      "source": [
        "First Base Model - CATBOOST"
      ]
    },
    {
      "cell_type": "code",
      "metadata": {
        "id": "zh8Rr8F1gJvn",
        "colab_type": "code",
        "colab": {}
      },
      "source": [
        "from catboost import CatBoostClassifier\n",
        "from sklearn.model_selection import train_test_split\n",
        "x = fullData.drop(columns=['status','referer'])\n",
        "y = fullData['status'].copy()\n",
        "y_mod = y.apply(lambda x: 0 if x == 'OK' else 1)"
      ],
      "execution_count": 0,
      "outputs": []
    },
    {
      "cell_type": "code",
      "metadata": {
        "id": "ea5SilvVoyMo",
        "colab_type": "code",
        "colab": {}
      },
      "source": [
        "x_train, x_test, y_train, y_test = train_test_split(x, y_mod, random_state=13)"
      ],
      "execution_count": 0,
      "outputs": []
    },
    {
      "cell_type": "code",
      "metadata": {
        "id": "4qw1lq92jiAY",
        "colab_type": "code",
        "outputId": "2903a363-d0c9-4725-c2bc-105226a12157",
        "colab": {
          "base_uri": "https://localhost:8080/",
          "height": 34
        }
      },
      "source": [
        "x.columns"
      ],
      "execution_count": 0,
      "outputs": [
        {
          "output_type": "execute_result",
          "data": {
            "text/plain": [
              "Index(['agent', 'category', 'cntr', 'iplong', 'timeat'], dtype='object')"
            ]
          },
          "metadata": {
            "tags": []
          },
          "execution_count": 38
        }
      ]
    },
    {
      "cell_type": "code",
      "metadata": {
        "id": "2q9w2UwHLFJ9",
        "colab_type": "code",
        "colab": {}
      },
      "source": [
        "y = y.to_frame()"
      ],
      "execution_count": 0,
      "outputs": []
    },
    {
      "cell_type": "code",
      "metadata": {
        "id": "-Pk6pm6iLRBz",
        "colab_type": "code",
        "outputId": "12a7e290-ebcf-46fc-b467-36c10b1664f3",
        "colab": {
          "base_uri": "https://localhost:8080/",
          "height": 34
        }
      },
      "source": [
        "y.columns"
      ],
      "execution_count": 0,
      "outputs": [
        {
          "output_type": "execute_result",
          "data": {
            "text/plain": [
              "Index(['status'], dtype='object')"
            ]
          },
          "metadata": {
            "tags": []
          },
          "execution_count": 40
        }
      ]
    },
    {
      "cell_type": "code",
      "metadata": {
        "colab_type": "code",
        "id": "N3hAS1GsGiBi",
        "colab": {}
      },
      "source": [
        "model_dataset = pd.concat([x_train, y_train], axis=1)"
      ],
      "execution_count": 0,
      "outputs": []
    },
    {
      "cell_type": "code",
      "metadata": {
        "colab_type": "code",
        "outputId": "04e87e79-2313-46ae-920a-e693b6c0f5d0",
        "id": "rBGxjROcGiBn",
        "colab": {
          "base_uri": "https://localhost:8080/",
          "height": 68
        }
      },
      "source": [
        "print(model_dataset['status'].value_counts())\n"
      ],
      "execution_count": 0,
      "outputs": [
        {
          "output_type": "stream",
          "text": [
            "0    4870223\n",
            "1     333669\n",
            "Name: status, dtype: int64\n"
          ],
          "name": "stdout"
        }
      ]
    },
    {
      "cell_type": "code",
      "metadata": {
        "colab_type": "code",
        "id": "p9fE2lHvGiBs",
        "colab": {}
      },
      "source": [
        "no_frauds = len(model_dataset[model_dataset['status'] == 1])\n",
        "non_fraud_indices = model_dataset[model_dataset.status == 0].index\n",
        "random_indices = np.random.choice(non_fraud_indices,no_frauds, replace=False)\n",
        "fraud_indices = model_dataset[model_dataset.status == 1].index\n",
        "under_sample_indices = np.concatenate([fraud_indices,random_indices])\n",
        "underSample = model_dataset.loc[under_sample_indices]\n",
        "#underSample.to_csv(path_or_buf ='/content/drive/My Drive/Practicum Data Set/underSample.csv',sep=',', header=True)"
      ],
      "execution_count": 0,
      "outputs": []
    },
    {
      "cell_type": "code",
      "metadata": {
        "id": "vh3CrRuKQ0rW",
        "colab_type": "code",
        "outputId": "ca068c43-b715-425a-e56d-9563c44923b3",
        "colab": {
          "base_uri": "https://localhost:8080/",
          "height": 68
        }
      },
      "source": [
        "print(underSample['status'].value_counts())"
      ],
      "execution_count": 0,
      "outputs": [
        {
          "output_type": "stream",
          "text": [
            "1    333669\n",
            "0    333669\n",
            "Name: status, dtype: int64\n"
          ],
          "name": "stdout"
        }
      ]
    },
    {
      "cell_type": "code",
      "metadata": {
        "colab_type": "code",
        "id": "VsEQu-niGiBx",
        "colab": {}
      },
      "source": [
        "y_train = underSample.status\n",
        "x_train = underSample.drop(['status'], axis=1)"
      ],
      "execution_count": 0,
      "outputs": []
    },
    {
      "cell_type": "code",
      "metadata": {
        "id": "anTgS42Ugowv",
        "colab_type": "code",
        "colab": {}
      },
      "source": [
        "model=CatBoostClassifier(random_state=13)\n",
        "model.fit(x_train, y_train, cat_features=x_train.columns)"
      ],
      "execution_count": 0,
      "outputs": []
    },
    {
      "cell_type": "code",
      "metadata": {
        "id": "DNlErjh2tLO_",
        "colab_type": "code",
        "outputId": "5fcac1a8-cb0b-44f6-9c69-b0c52a449ebe",
        "colab": {
          "base_uri": "https://localhost:8080/",
          "height": 51
        }
      },
      "source": [
        "imp_features=model.feature_importances_\n",
        "print(x.columns)\n",
        "print(imp_features)"
      ],
      "execution_count": 0,
      "outputs": [
        {
          "output_type": "stream",
          "text": [
            "Index(['agent', 'category', 'cntr', 'iplong', 'timeat'], dtype='object')\n",
            "[18.32554066 21.28493275 23.7379285  28.93419621  7.71740188]\n"
          ],
          "name": "stdout"
        }
      ]
    },
    {
      "cell_type": "code",
      "metadata": {
        "id": "GmuDsxWIk7c1",
        "colab_type": "code",
        "colab": {}
      },
      "source": [
        "from sklearn import metrics \n",
        "y_pred=model.predict(x_test)"
      ],
      "execution_count": 0,
      "outputs": []
    },
    {
      "cell_type": "code",
      "metadata": {
        "id": "9aNZJTfPi2-x",
        "colab_type": "code",
        "outputId": "2c4926c2-27d0-4803-9ce9-266ef1b6044d",
        "colab": {
          "base_uri": "https://localhost:8080/",
          "height": 34
        }
      },
      "source": [
        "print(\"Accuracy:\",metrics.accuracy_score(y_test, y_pred))"
      ],
      "execution_count": 0,
      "outputs": [
        {
          "output_type": "stream",
          "text": [
            "Accuracy: 0.9503779189925696\n"
          ],
          "name": "stdout"
        }
      ]
    },
    {
      "cell_type": "code",
      "metadata": {
        "id": "kNzrzmfcq-g8",
        "colab_type": "code",
        "outputId": "34e8f2c4-215e-4eeb-fd14-86808bd6dc42",
        "colab": {
          "base_uri": "https://localhost:8080/",
          "height": 34
        }
      },
      "source": [
        "from sklearn.metrics import roc_auc_score\n",
        "\n",
        "# Calculate roc auc\n",
        "roc_value = roc_auc_score(y_test, y_pred)\n",
        "roc_value"
      ],
      "execution_count": 0,
      "outputs": [
        {
          "output_type": "execute_result",
          "data": {
            "text/plain": [
              "0.9184027686205548"
            ]
          },
          "metadata": {
            "tags": []
          },
          "execution_count": 51
        }
      ]
    },
    {
      "cell_type": "code",
      "metadata": {
        "id": "v0iL_O74qfm7",
        "colab_type": "code",
        "outputId": "7753a646-ec11-40e1-8289-12e26e040bdf",
        "colab": {
          "base_uri": "https://localhost:8080/",
          "height": 204
        }
      },
      "source": [
        "from sklearn.metrics import confusion_matrix, classification_report\n",
        "print(classification_report(y_test, y_pred))\n",
        "confusion_matrix(y_test, y_pred)"
      ],
      "execution_count": 0,
      "outputs": [
        {
          "output_type": "stream",
          "text": [
            "              precision    recall  f1-score   support\n",
            "\n",
            "           0       0.99      0.96      0.97   1623861\n",
            "           1       0.57      0.88      0.69    110770\n",
            "\n",
            "    accuracy                           0.95   1734631\n",
            "   macro avg       0.78      0.92      0.83   1734631\n",
            "weighted avg       0.96      0.95      0.96   1734631\n",
            "\n"
          ],
          "name": "stdout"
        },
        {
          "output_type": "execute_result",
          "data": {
            "text/plain": [
              "array([[1550884,   72977],\n",
              "       [  13099,   97671]])"
            ]
          },
          "metadata": {
            "tags": []
          },
          "execution_count": 52
        }
      ]
    },
    {
      "cell_type": "code",
      "metadata": {
        "id": "590g2FJwi3B0",
        "colab_type": "code",
        "outputId": "e0cef2bd-2894-44d4-97df-855bc69ea760",
        "colab": {
          "base_uri": "https://localhost:8080/",
          "height": 136
        }
      },
      "source": [
        "feature_imp = pd.Series(model.feature_importances_,index=x.columns).sort_values(ascending=False)\n",
        "feature_imp"
      ],
      "execution_count": 0,
      "outputs": [
        {
          "output_type": "execute_result",
          "data": {
            "text/plain": [
              "referer     53.974273\n",
              "iplong      18.383014\n",
              "cntr        12.746775\n",
              "category     8.289294\n",
              "agent        6.308885\n",
              "timeat       0.297759\n",
              "dtype: float64"
            ]
          },
          "metadata": {
            "tags": []
          },
          "execution_count": 163
        }
      ]
    },
    {
      "cell_type": "code",
      "metadata": {
        "id": "GLqcX9Toi28h",
        "colab_type": "code",
        "colab": {}
      },
      "source": [
        "import matplotlib.pyplot as plt\n",
        "import seaborn as sns\n",
        "%matplotlib inline\n",
        "# Creating a bar plot\n",
        "sns.barplot(x=feature_imp, y=feature_imp.index)\n",
        "# Add labels to your graph\n",
        "plt.xlabel('Feature Importance Score')\n",
        "plt.ylabel('Features')\n",
        "plt.title(\"Visualizing Important Features\")\n",
        "plt.legend()\n",
        "plt.show()"
      ],
      "execution_count": 0,
      "outputs": []
    },
    {
      "cell_type": "code",
      "metadata": {
        "id": "6BkEhUFkgO7t",
        "colab_type": "code",
        "outputId": "e67eb4ec-7644-4186-a988-ab598e0015e1",
        "colab": {
          "base_uri": "https://localhost:8080/",
          "height": 136
        }
      },
      "source": [
        "x.dtypes"
      ],
      "execution_count": 0,
      "outputs": [
        {
          "output_type": "execute_result",
          "data": {
            "text/plain": [
              "agent         object\n",
              "category      object\n",
              "cntr          object\n",
              "iplong      category\n",
              "referer       object\n",
              "timeat        object\n",
              "dtype: object"
            ]
          },
          "metadata": {
            "tags": []
          },
          "execution_count": 165
        }
      ]
    },
    {
      "cell_type": "markdown",
      "metadata": {
        "id": "ov3A2u86CtH6",
        "colab_type": "text"
      },
      "source": [
        "## TP"
      ]
    },
    {
      "cell_type": "code",
      "metadata": {
        "colab_type": "code",
        "id": "ttAXPH5FTRz7",
        "colab": {}
      },
      "source": [
        "from imblearn.over_sampling import SMOTENC\n",
        "sm = SMOTENC(categorical_features=x.columns,random_state=0)\n",
        "x_train_res, y_train_res = sm.fit_sample(x_train, y_train)"
      ],
      "execution_count": 0,
      "outputs": []
    },
    {
      "cell_type": "code",
      "metadata": {
        "colab_type": "code",
        "outputId": "45490a21-1f3d-4470-de47-ce85cce9a6b8",
        "id": "Q7OUlAEWTPpq",
        "colab": {
          "base_uri": "https://localhost:8080/",
          "height": 68
        }
      },
      "source": [
        "cols_to_check = ['agent', 'cntr','referer']\n",
        "data['is_na'] = data[cols_to_check].isnull().apply(lambda x: all(x), axis=1) \n",
        "data.head()  \n",
        "print(data['is_na'].value_counts())"
      ],
      "execution_count": 0,
      "outputs": [
        {
          "output_type": "stream",
          "text": [
            "False    12387537\n",
            "True            3\n",
            "Name: is_na, dtype: int64\n"
          ],
          "name": "stdout"
        }
      ]
    },
    {
      "cell_type": "code",
      "metadata": {
        "colab_type": "code",
        "outputId": "562e3de8-fde3-4a04-9e35-65707b15c7f5",
        "id": "-HB9G_raTN68",
        "colab": {
          "base_uri": "https://localhost:8080/",
          "height": 238
        }
      },
      "source": [
        "print(data.info())"
      ],
      "execution_count": 0,
      "outputs": [
        {
          "output_type": "stream",
          "text": [
            "<class 'pandas.core.frame.DataFrame'>\n",
            "Int64Index: 12387540 entries, 0 to 14070352\n",
            "Data columns (total 7 columns):\n",
            "agent       object\n",
            "category    object\n",
            "cntr        object\n",
            "iplong      int64\n",
            "referer     object\n",
            "timeat      object\n",
            "status      object\n",
            "dtypes: int64(1), object(6)\n",
            "memory usage: 756.1+ MB\n",
            "None\n"
          ],
          "name": "stdout"
        }
      ]
    },
    {
      "cell_type": "code",
      "metadata": {
        "colab_type": "code",
        "id": "7wgULYHbTNwo",
        "colab": {}
      },
      "source": [
        "cols = data.copy()"
      ],
      "execution_count": 0,
      "outputs": []
    },
    {
      "cell_type": "markdown",
      "metadata": {
        "colab_type": "text",
        "id": "DTnpsY6PTNot"
      },
      "source": [
        "Handle Missing Values for agent, country, referer \n",
        "\n",
        "Not using address & bank account thus ignored"
      ]
    },
    {
      "cell_type": "code",
      "metadata": {
        "colab_type": "code",
        "id": "O-mslu_hTNeS",
        "colab": {}
      },
      "source": [
        "cols = cols.fillna(method = 'bfill')\n"
      ],
      "execution_count": 0,
      "outputs": []
    },
    {
      "cell_type": "code",
      "metadata": {
        "colab_type": "code",
        "outputId": "d15632d1-5e9f-429f-a08f-e4172900b7bb",
        "id": "oGtalQDXTM9k",
        "colab": {
          "base_uri": "https://localhost:8080/",
          "height": 153
        }
      },
      "source": [
        "cols.isnull().sum()\n"
      ],
      "execution_count": 0,
      "outputs": [
        {
          "output_type": "execute_result",
          "data": {
            "text/plain": [
              "agent         22726\n",
              "category          0\n",
              "cntr          15903\n",
              "iplong            0\n",
              "referer     5427656\n",
              "timeat            0\n",
              "status            0\n",
              "dtype: int64"
            ]
          },
          "metadata": {
            "tags": []
          },
          "execution_count": 25
        }
      ]
    },
    {
      "cell_type": "code",
      "metadata": {
        "id": "ErRCLr_vCXxh",
        "colab_type": "code",
        "colab": {}
      },
      "source": [
        ""
      ],
      "execution_count": 0,
      "outputs": []
    },
    {
      "cell_type": "code",
      "metadata": {
        "id": "D2i2ges2CX2c",
        "colab_type": "code",
        "outputId": "3cd6c3af-8c82-4f25-d3ec-539b9a55ff4f",
        "colab": {
          "base_uri": "https://localhost:8080/",
          "height": 163
        }
      },
      "source": [
        "temp = KNN(k=5).complete(cols)"
      ],
      "execution_count": 0,
      "outputs": [
        {
          "output_type": "error",
          "ename": "AttributeError",
          "evalue": "ignored",
          "traceback": [
            "\u001b[0;31m---------------------------------------------------------------------------\u001b[0m",
            "\u001b[0;31mAttributeError\u001b[0m                            Traceback (most recent call last)",
            "\u001b[0;32m<ipython-input-30-caea3282c372>\u001b[0m in \u001b[0;36m<module>\u001b[0;34m()\u001b[0m\n\u001b[0;32m----> 1\u001b[0;31m \u001b[0mtemp\u001b[0m \u001b[0;34m=\u001b[0m \u001b[0mKNN\u001b[0m\u001b[0;34m(\u001b[0m\u001b[0mk\u001b[0m\u001b[0;34m=\u001b[0m\u001b[0;36m5\u001b[0m\u001b[0;34m)\u001b[0m\u001b[0;34m.\u001b[0m\u001b[0mcomplete\u001b[0m\u001b[0;34m(\u001b[0m\u001b[0mcols\u001b[0m\u001b[0;34m)\u001b[0m\u001b[0;34m\u001b[0m\u001b[0;34m\u001b[0m\u001b[0m\n\u001b[0m",
            "\u001b[0;31mAttributeError\u001b[0m: 'KNN' object has no attribute 'complete'"
          ]
        }
      ]
    },
    {
      "cell_type": "code",
      "metadata": {
        "id": "zWe4lmNVuIOj",
        "colab_type": "code",
        "colab": {}
      },
      "source": [
        "cols = cols.drop([\"status\"])"
      ],
      "execution_count": 0,
      "outputs": []
    },
    {
      "cell_type": "code",
      "metadata": {
        "id": "vr922N7aKYo9",
        "colab_type": "code",
        "colab": {}
      },
      "source": [
        "from fancyimpute import  KNN\n",
        "train_columns = list(cols)\n",
        "train = KNN(cols,3)\n",
        "train.columns = train_columns\n",
        "#train.material = train.material.astype(\"object\")\n",
        "train = pd.get_dummies(train)"
      ],
      "execution_count": 0,
      "outputs": []
    },
    {
      "cell_type": "code",
      "metadata": {
        "id": "pwD6t3rx-PiV",
        "colab_type": "code",
        "outputId": "5cdad6b1-c9a7-4c72-867a-4177494862de",
        "colab": {
          "base_uri": "https://localhost:8080/",
          "height": 80
        }
      },
      "source": [
        "train"
      ],
      "execution_count": 0,
      "outputs": [
        {
          "output_type": "execute_result",
          "data": {
            "text/html": [
              "<div>\n",
              "<style scoped>\n",
              "    .dataframe tbody tr th:only-of-type {\n",
              "        vertical-align: middle;\n",
              "    }\n",
              "\n",
              "    .dataframe tbody tr th {\n",
              "        vertical-align: top;\n",
              "    }\n",
              "\n",
              "    .dataframe thead th {\n",
              "        text-align: right;\n",
              "    }\n",
              "</style>\n",
              "<table border=\"1\" class=\"dataframe\">\n",
              "  <thead>\n",
              "    <tr style=\"text-align: right;\">\n",
              "      <th></th>\n",
              "      <th>KNN(fill_method='zero', max_value=None, min_value=None, normalizer=None, orientation=3, print_interval=100, verbose=True)</th>\n",
              "    </tr>\n",
              "  </thead>\n",
              "  <tbody>\n",
              "    <tr>\n",
              "      <th>0</th>\n",
              "      <td>1</td>\n",
              "    </tr>\n",
              "  </tbody>\n",
              "</table>\n",
              "</div>"
            ],
            "text/plain": [
              "   KNN(fill_method='zero', max_value=None, min_value=None, normalizer=None, orientation=3, print_interval=100, verbose=True)\n",
              "0                                                  1                                                                        "
            ]
          },
          "metadata": {
            "tags": []
          },
          "execution_count": 73
        }
      ]
    },
    {
      "cell_type": "code",
      "metadata": {
        "id": "avHlobn-KYvy",
        "colab_type": "code",
        "outputId": "5fdacef1-bdc4-4c69-d819-9e5a49a5e6d3",
        "colab": {
          "base_uri": "https://localhost:8080/",
          "height": 51
        }
      },
      "source": [
        "#We use the train dataframe from Titanic dataset\n",
        "#fancy impute removes column names.\n",
        "train_cols = list(cols)\n",
        "# Use 5 nearest rows which have a feature to fill in each row's\n",
        "# missing features\n",
        "train = KNN(cols,5)\n",
        "train.columns = train_cols\n",
        "\n"
      ],
      "execution_count": 0,
      "outputs": [
        {
          "output_type": "execute_result",
          "data": {
            "text/plain": [
              "array(['agent', 'category', 'cntr', 'iplong', 'referer', 'timeat'],\n",
              "      dtype=object)"
            ]
          },
          "metadata": {
            "tags": []
          },
          "execution_count": 65
        }
      ]
    },
    {
      "cell_type": "code",
      "metadata": {
        "id": "LIw16mETKYy1",
        "colab_type": "code",
        "colab": {}
      },
      "source": [
        ""
      ],
      "execution_count": 0,
      "outputs": []
    },
    {
      "cell_type": "code",
      "metadata": {
        "id": "_8hLg80ZKY5N",
        "colab_type": "code",
        "colab": {}
      },
      "source": [
        ""
      ],
      "execution_count": 0,
      "outputs": []
    },
    {
      "cell_type": "markdown",
      "metadata": {
        "id": "0tpM-T9vdDPn",
        "colab_type": "text"
      },
      "source": [
        "# FEATURE EXTRACTION:"
      ]
    },
    {
      "cell_type": "markdown",
      "metadata": {
        "id": "m7oewn7LDCY6",
        "colab_type": "text"
      },
      "source": [
        "## Feature Extraction"
      ]
    },
    {
      "cell_type": "code",
      "metadata": {
        "id": "L8D6UGpf2fyF",
        "colab_type": "code",
        "outputId": "5ae0607f-0f8e-4d1c-c026-c0c5c308e543",
        "colab": {
          "base_uri": "https://localhost:8080/",
          "height": 34
        }
      },
      "source": [
        "#make wider graphs\n",
        "sns.set(rc={'figure.figsize':(12,5)});\n",
        "plt.figure(figsize=(12,5));"
      ],
      "execution_count": 0,
      "outputs": [
        {
          "output_type": "display_data",
          "data": {
            "text/plain": [
              "<Figure size 864x360 with 0 Axes>"
            ]
          },
          "metadata": {
            "tags": []
          }
        }
      ]
    },
    {
      "cell_type": "code",
      "metadata": {
        "id": "q-kS7EDkKY3F",
        "colab_type": "code",
        "outputId": "61adaf15-c05f-4b4b-ac11-fa6a747e9b4f",
        "colab": {
          "base_uri": "https://localhost:8080/",
          "height": 394
        }
      },
      "source": [
        "fullData.head(5)"
      ],
      "execution_count": 0,
      "outputs": [
        {
          "output_type": "execute_result",
          "data": {
            "text/html": [
              "<div>\n",
              "<style scoped>\n",
              "    .dataframe tbody tr th:only-of-type {\n",
              "        vertical-align: middle;\n",
              "    }\n",
              "\n",
              "    .dataframe tbody tr th {\n",
              "        vertical-align: top;\n",
              "    }\n",
              "\n",
              "    .dataframe thead th {\n",
              "        text-align: right;\n",
              "    }\n",
              "</style>\n",
              "<table border=\"1\" class=\"dataframe\">\n",
              "  <thead>\n",
              "    <tr style=\"text-align: right;\">\n",
              "      <th></th>\n",
              "      <th>agent</th>\n",
              "      <th>category</th>\n",
              "      <th>cntr</th>\n",
              "      <th>iplong</th>\n",
              "      <th>referer</th>\n",
              "      <th>timeat</th>\n",
              "      <th>status</th>\n",
              "      <th>status_binary</th>\n",
              "      <th>datetime</th>\n",
              "      <th>click_day</th>\n",
              "      <th>click_hour</th>\n",
              "      <th>click_min</th>\n",
              "      <th>click_sec</th>\n",
              "      <th>click_month</th>\n",
              "    </tr>\n",
              "  </thead>\n",
              "  <tbody>\n",
              "    <tr>\n",
              "      <th>0</th>\n",
              "      <td>Nokia_2330c</td>\n",
              "      <td>ad</td>\n",
              "      <td>ke</td>\n",
              "      <td>3301565714</td>\n",
              "      <td>tbuyyyoychgjo1ndlucxgt9o6</td>\n",
              "      <td>2012-03-08 00:00:11.0</td>\n",
              "      <td>OK</td>\n",
              "      <td>0</td>\n",
              "      <td>2012-03-08 00:00:11</td>\n",
              "      <td>8</td>\n",
              "      <td>0</td>\n",
              "      <td>0</td>\n",
              "      <td>11</td>\n",
              "      <td>3</td>\n",
              "    </tr>\n",
              "    <tr>\n",
              "      <th>1</th>\n",
              "      <td>SonyEricsson_W20</td>\n",
              "      <td>ad</td>\n",
              "      <td>iq</td>\n",
              "      <td>1605039771</td>\n",
              "      <td>thqfa0sa55mqsv58thp2f4mig</td>\n",
              "      <td>2012-03-08 00:00:15.0</td>\n",
              "      <td>OK</td>\n",
              "      <td>0</td>\n",
              "      <td>2012-03-08 00:00:15</td>\n",
              "      <td>8</td>\n",
              "      <td>0</td>\n",
              "      <td>0</td>\n",
              "      <td>15</td>\n",
              "      <td>3</td>\n",
              "    </tr>\n",
              "    <tr>\n",
              "      <th>2</th>\n",
              "      <td>Samsung_GT-B3210</td>\n",
              "      <td>ad</td>\n",
              "      <td>za</td>\n",
              "      <td>3309442764</td>\n",
              "      <td>gbb407skm0shiglvo2tekqo7r</td>\n",
              "      <td>2012-03-08 00:00:16.0</td>\n",
              "      <td>OK</td>\n",
              "      <td>0</td>\n",
              "      <td>2012-03-08 00:00:16</td>\n",
              "      <td>8</td>\n",
              "      <td>0</td>\n",
              "      <td>0</td>\n",
              "      <td>16</td>\n",
              "      <td>3</td>\n",
              "    </tr>\n",
              "    <tr>\n",
              "      <th>3</th>\n",
              "      <td>Nokia_500</td>\n",
              "      <td>ad</td>\n",
              "      <td>bn</td>\n",
              "      <td>3399005716</td>\n",
              "      <td>qcfc7pdq80q9jqdjn9t4iqra6</td>\n",
              "      <td>2012-03-08 00:00:38.0</td>\n",
              "      <td>OK</td>\n",
              "      <td>0</td>\n",
              "      <td>2012-03-08 00:00:38</td>\n",
              "      <td>8</td>\n",
              "      <td>0</td>\n",
              "      <td>0</td>\n",
              "      <td>38</td>\n",
              "      <td>3</td>\n",
              "    </tr>\n",
              "    <tr>\n",
              "      <th>4</th>\n",
              "      <td>Apple_iPhone</td>\n",
              "      <td>ad</td>\n",
              "      <td>iq</td>\n",
              "      <td>1605039771</td>\n",
              "      <td>rveydov63ccean9pf80l1dk9l</td>\n",
              "      <td>2012-03-08 00:00:42.0</td>\n",
              "      <td>OK</td>\n",
              "      <td>0</td>\n",
              "      <td>2012-03-08 00:00:42</td>\n",
              "      <td>8</td>\n",
              "      <td>0</td>\n",
              "      <td>0</td>\n",
              "      <td>42</td>\n",
              "      <td>3</td>\n",
              "    </tr>\n",
              "  </tbody>\n",
              "</table>\n",
              "</div>"
            ],
            "text/plain": [
              "              agent category cntr  ... click_min click_sec click_month\n",
              "0       Nokia_2330c       ad   ke  ...         0        11           3\n",
              "1  SonyEricsson_W20       ad   iq  ...         0        15           3\n",
              "2  Samsung_GT-B3210       ad   za  ...         0        16           3\n",
              "3         Nokia_500       ad   bn  ...         0        38           3\n",
              "4      Apple_iPhone       ad   iq  ...         0        42           3\n",
              "\n",
              "[5 rows x 14 columns]"
            ]
          },
          "metadata": {
            "tags": []
          },
          "execution_count": 69
        }
      ]
    },
    {
      "cell_type": "code",
      "metadata": {
        "id": "Hg_hptVu_fd1",
        "colab_type": "code",
        "outputId": "be11be05-7553-4b61-8a8f-ebb1fffd6389",
        "colab": {
          "base_uri": "https://localhost:8080/",
          "height": 85
        }
      },
      "source": [
        "fullData.columns"
      ],
      "execution_count": 0,
      "outputs": [
        {
          "output_type": "execute_result",
          "data": {
            "text/plain": [
              "Index(['agent', 'category', 'cntr', 'iplong', 'referer', 'timeat', 'status',\n",
              "       'status_binary', 'datetime', 'click_month', 'click_day', 'click_hour',\n",
              "       'click_min', 'click_sec'],\n",
              "      dtype='object')"
            ]
          },
          "metadata": {
            "tags": []
          },
          "execution_count": 67
        }
      ]
    },
    {
      "cell_type": "code",
      "metadata": {
        "id": "WEHbynTA4P3u",
        "colab_type": "code",
        "outputId": "2cb80917-2b9e-417b-8a61-5b6ba5b1751e",
        "colab": {
          "base_uri": "https://localhost:8080/",
          "height": 153
        }
      },
      "source": [
        "fullData.dtypes"
      ],
      "execution_count": 0,
      "outputs": [
        {
          "output_type": "execute_result",
          "data": {
            "text/plain": [
              "agent         object\n",
              "category      object\n",
              "cntr          object\n",
              "iplong      category\n",
              "referer       object\n",
              "timeat        object\n",
              "status        object\n",
              "dtype: object"
            ]
          },
          "metadata": {
            "tags": []
          },
          "execution_count": 12
        }
      ]
    },
    {
      "cell_type": "code",
      "metadata": {
        "id": "2vzCZTCR3xIz",
        "colab_type": "code",
        "colab": {}
      },
      "source": [
        "fullData['status_binary'] = fullData['status'] .apply(lambda x: 0 if x == 'OK' else 1)"
      ],
      "execution_count": 0,
      "outputs": []
    },
    {
      "cell_type": "code",
      "metadata": {
        "id": "X4UnQPPmnirH",
        "colab_type": "code",
        "colab": {}
      },
      "source": [
        "fullData['datetime'] = pd.to_datetime(fullData['timeat'])\n"
      ],
      "execution_count": 0,
      "outputs": []
    },
    {
      "cell_type": "code",
      "metadata": {
        "id": "DZkaZbec4dZI",
        "colab_type": "code",
        "colab": {}
      },
      "source": [
        "fullData['click_month']=fullData['datetime'].dt.month\n",
        "fullData['click_day']=fullData['datetime'].dt.day\n",
        "fullData['click_hour']=fullData['datetime'].dt.hour\n",
        "fullData['click_min']=fullData['datetime'].dt.minute\n",
        "fullData['click_sec']=fullData['datetime'].dt.second\n"
      ],
      "execution_count": 0,
      "outputs": []
    },
    {
      "cell_type": "code",
      "metadata": {
        "id": "XPnv1CNejntr",
        "colab_type": "code",
        "outputId": "f617cd13-25b2-4af3-ed78-a322e50ab6b5",
        "colab": {
          "base_uri": "https://localhost:8080/",
          "height": 408
        }
      },
      "source": [
        "fullData.groupby('datetime').agg({'status':'count'}).plot(figsize=(12,6))\n",
        "plt.ylabel('Number of clicks')\n",
        "plt.title('Number of clicks by hour');"
      ],
      "execution_count": 0,
      "outputs": [
        {
          "output_type": "display_data",
          "data": {
            "image/png": "[encoded data removed]",
            "text/plain": [
              "<Figure size 864x432 with 1 Axes>"
            ]
          },
          "metadata": {
            "tags": []
          }
        }
      ]
    },
    {
      "cell_type": "code",
      "metadata": {
        "id": "70XvO1dU4kmG",
        "colab_type": "code",
        "outputId": "26db8fa4-6502-4e89-9fe1-050f0c9e7dd0",
        "colab": {
          "base_uri": "https://localhost:8080/",
          "height": 697
        }
      },
      "source": [
        "fullData[['click_hour','status_binary']].groupby(['click_hour'], as_index=True).count().plot(kind='bar', color='#a675a1')\n",
        "plt.title('HOURLY CLICK FREQUENCY Barplot');\n",
        "plt.ylabel('Number of Clicks');\n",
        "\n",
        "fullData[['click_hour','status_binary']].groupby(['click_hour'], as_index=True).count().plot(color='#a675a1')\n",
        "plt.title('HOURLY CLICK FREQUENCY Lineplot');\n",
        "plt.ylabel('Number of Clicks');"
      ],
      "execution_count": 0,
      "outputs": [
        {
          "output_type": "display_data",
          "data": {
            "image/png": "[encoded data removed]",
            "text/plain": [
              "<Figure size 864x360 with 1 Axes>"
            ]
          },
          "metadata": {
            "tags": []
          }
        },
        {
          "output_type": "display_data",
          "data": {
            "image/png": "[encoded data removed]",
            "text/plain": [
              "<Figure size 864x360 with 1 Axes>"
            ]
          },
          "metadata": {
            "tags": []
          }
        }
      ]
    },
    {
      "cell_type": "code",
      "metadata": {
        "id": "GTNuWquyeEWn",
        "colab_type": "code",
        "colab": {}
      },
      "source": [
        "fraudData = fullData[fullData['status_binary'] == 1]"
      ],
      "execution_count": 0,
      "outputs": []
    },
    {
      "cell_type": "code",
      "metadata": {
        "id": "YKhQrs6MeeU7",
        "colab_type": "code",
        "outputId": "c1190f30-52c6-4cd5-d23f-08dfee872186",
        "colab": {
          "base_uri": "https://localhost:8080/",
          "height": 355
        }
      },
      "source": [
        "fraudData[['click_hour','status_binary']].groupby(['click_hour'], as_index=True).count().plot( color='#75a1a6')\n",
        "plt.title('HOURLY CONVERSION RATIO Lineplot');\n",
        "plt.ylabel('Converted Ratio');"
      ],
      "execution_count": 0,
      "outputs": [
        {
          "output_type": "display_data",
          "data": {
            "image/png": "[encoded data removed]",
            "text/plain": [
              "<Figure size 864x360 with 1 Axes>"
            ]
          },
          "metadata": {
            "tags": []
          }
        }
      ]
    },
    {
      "cell_type": "code",
      "metadata": {
        "id": "EvWonU6R44JV",
        "colab_type": "code",
        "outputId": "42556c4a-59b1-41a8-a2d8-c541b7559057",
        "colab": {
          "base_uri": "https://localhost:8080/",
          "height": 697
        }
      },
      "source": [
        "fullData[['click_hour','status_binary']].groupby(['click_hour'], as_index=True).mean().plot(kind='bar', color='#75a1a6')\n",
        "plt.title('HOURLY CONVERSION RATIO Barplot');\n",
        "plt.ylabel('Converted Ratio');\n",
        "\n",
        "fullData[['click_hour','status_binary']].groupby(['click_hour'], as_index=True).mean().plot( color='#75a1a6')\n",
        "plt.title('HOURLY CONVERSION RATIO Lineplot');\n",
        "plt.ylabel('Converted Ratio');"
      ],
      "execution_count": 0,
      "outputs": [
        {
          "output_type": "display_data",
          "data": {
            "image/png": "[encoded data removed]",
            "text/plain": [
              "<Figure size 864x360 with 1 Axes>"
            ]
          },
          "metadata": {
            "tags": []
          }
        },
        {
          "output_type": "display_data",
          "data": {
            "image/png": "[encoded data removed]",
            "text/plain": [
              "<Figure size 864x360 with 1 Axes>"
            ]
          },
          "metadata": {
            "tags": []
          }
        }
      ]
    },
    {
      "cell_type": "code",
      "metadata": {
        "id": "vo9KlklFfXe8",
        "colab_type": "code",
        "outputId": "0fccdfab-eff2-4b36-a7f4-87132e48f7b3",
        "colab": {
          "base_uri": "https://localhost:8080/",
          "height": 345
        }
      },
      "source": [
        "group = fullData[['click_hour','status_binary']].groupby(['click_hour'], as_index=False).mean()\n",
        "x = group['click_hour']\n",
        "ymean = group['status_binary']\n",
        "group = fraudData[['click_hour','status_binary']].groupby(['click_hour'], as_index=False).count()\n",
        "ycount = group['status_binary']\n",
        "\n",
        "\n",
        "fig = plt.figure()\n",
        "host = fig.add_subplot(111)\n",
        "\n",
        "par1 = host.twinx()\n",
        "\n",
        "host.set_xlabel(\"Time\")\n",
        "host.set_ylabel(\"Click Count\")\n",
        "par1.set_ylabel(\"Fraud Count\")\n",
        "\n",
        "#host.set_ylim([0,  600000])\n",
        "#par1.set_ylim([0,  60000])\n",
        "\n",
        "#color1 = plt.cm.viridis(0)\n",
        "#color2 = plt.cm.viridis(0.5)\n",
        "color1 = '#75a1a6'\n",
        "color2 = '#a675a1'\n",
        "\n",
        "p1, = host.plot(x, ymean, color=color1,label=\"Click Count\")\n",
        "p2, = par1.plot(x, ycount, color=color2, label=\"Fraud Count\")\n",
        "\n",
        "lns = [p1, p2]\n",
        "host.legend(handles=lns, loc='best')\n",
        "\n",
        "host.yaxis.label.set_color(p1.get_color())\n",
        "par1.yaxis.label.set_color(p2.get_color())\n",
        "\n",
        "plt.savefig(\"pyplot_multiple_y-axis.png\", bbox_inches='tight')"
      ],
      "execution_count": 0,
      "outputs": [
        {
          "output_type": "display_data",
          "data": {
            "image/png": "[encoded data removed]",
            "text/plain": [
              "<Figure size 864x360 with 2 Axes>"
            ]
          },
          "metadata": {
            "tags": []
          }
        }
      ]
    },
    {
      "cell_type": "code",
      "metadata": {
        "id": "ClO9sE1t5C79",
        "colab_type": "code",
        "outputId": "ee843268-fb0e-47a3-b579-01dad89e35cf",
        "colab": {
          "base_uri": "https://localhost:8080/",
          "height": 345
        }
      },
      "source": [
        "group = fullData[['click_hour','status_binary']].groupby(['click_hour'], as_index=False).mean()\n",
        "x = group['click_hour']\n",
        "ymean = group['status_binary']\n",
        "group = fullData[['click_hour','status_binary']].groupby(['click_hour'], as_index=False).count()\n",
        "ycount = group['status_binary']\n",
        "\n",
        "\n",
        "fig = plt.figure()\n",
        "host = fig.add_subplot(111)\n",
        "\n",
        "par1 = host.twinx()\n",
        "\n",
        "host.set_xlabel(\"Time (per Hour)\")\n",
        "host.set_ylabel(\"False Proportion\")\n",
        "par1.set_ylabel(\"Total Click Count\")\n",
        "\n",
        "#color1 = plt.cm.viridis(0)\n",
        "#color2 = plt.cm.viridis(0.5)\n",
        "color1 = '#75a1a6'\n",
        "color2 = '#a675a1'\n",
        "\n",
        "p1, = host.plot(x, ymean, color=color1,label=\"False Proportion\")\n",
        "p2, = par1.plot(x, ycount, color=color2, label=\"Total Click Count\")\n",
        "\n",
        "lns = [p1, p2]\n",
        "host.legend(handles=lns, loc='best')\n",
        "\n",
        "host.yaxis.label.set_color(p1.get_color())\n",
        "par1.yaxis.label.set_color(p2.get_color())\n",
        "\n",
        "plt.savefig(\"pyplot_multiple_y-axis.png\", bbox_inches='tight')"
      ],
      "execution_count": 0,
      "outputs": [
        {
          "output_type": "display_data",
          "data": {
            "image/png": "[encoded data removed]",
            "text/plain": [
              "<Figure size 864x360 with 2 Axes>"
            ]
          },
          "metadata": {
            "tags": []
          }
        }
      ]
    },
    {
      "cell_type": "code",
      "metadata": {
        "id": "94xBe7KK8OTD",
        "colab_type": "code",
        "colab": {}
      },
      "source": [
        "Index(['agent', 'category', 'cntr', 'iplong', 'referer', 'timeat', 'status',\n",
        "       'status_binary', 'datetime', 'click_day', 'click_hour', 'click_min',\n",
        "       'click_sec'],\n",
        "      dtype='object')"
      ],
      "execution_count": 0,
      "outputs": []
    },
    {
      "cell_type": "code",
      "metadata": {
        "id": "ZGvRPMrxscdP",
        "colab_type": "code",
        "outputId": "f8537b2c-c2b0-4ed3-8d64-a7f6db2b254f",
        "colab": {
          "base_uri": "https://localhost:8080/",
          "height": 153
        }
      },
      "source": [
        "merge.columns"
      ],
      "execution_count": 0,
      "outputs": [
        {
          "output_type": "execute_result",
          "data": {
            "text/plain": [
              "Index(['agent', 'category', 'cntr', 'iplong', 'referer', 'timeat', 'status',\n",
              "       'status_binary', 'datetime', 'click_day', 'click_hour', 'click_min',\n",
              "       'click_sec', 'click_month', 'clicks_by_ip', 'clicks_by_cntr',\n",
              "       'clicks_by_referer', 'clicks_by_category', 'clicks_per_minute',\n",
              "       'clicks_per_hour', 'ip_ref_cat_per_min', 'ip_ref_cat_per_hr',\n",
              "       'ip_cat_per_min', 'ip_cat_per_hr', 'ip_min_count', 'ip_min_avg',\n",
              "       'ip_ref_cat_min_avg', 'ip_cat_min_avg'],\n",
              "      dtype='object')"
            ]
          },
          "metadata": {
            "tags": []
          },
          "execution_count": 5
        }
      ]
    },
    {
      "cell_type": "markdown",
      "metadata": {
        "id": "IT-ZFTWCCePg",
        "colab_type": "text"
      },
      "source": [
        "## COUNT FEATURES"
      ]
    },
    {
      "cell_type": "code",
      "metadata": {
        "id": "6zhJq6w8ovyn",
        "colab_type": "code",
        "colab": {}
      },
      "source": [
        "# Count the number of clicks by ip\n",
        "ip_count = fullData.groupby(['iplong'])['timeat'].count().reset_index()\n",
        "ip_count.columns = ['iplong', 'clicks_by_ip']\n",
        "merge= pd.merge(fullData, ip_count, on='iplong', how='left', sort=False)\n",
        "merge['clicks_by_ip'] = merge['clicks_by_ip'].astype('uint16')\n",
        "#merge.drop('ip', axis=1, inplace=True)"
      ],
      "execution_count": 0,
      "outputs": []
    },
    {
      "cell_type": "code",
      "metadata": {
        "id": "yusaPbEmpl9a",
        "colab_type": "code",
        "colab": {}
      },
      "source": [
        "# Count the number of clicks by country\n",
        "cntr_count = fullData.groupby(['cntr'])['timeat'].count().reset_index()\n",
        "cntr_count.columns = ['cntr', 'clicks_by_cntr']\n",
        "merge = pd.merge(merge, cntr_count, on='cntr', how='left', sort=False)\n",
        "merge['clicks_by_cntr'] = merge['clicks_by_cntr'].astype('uint16')\n",
        "#merge.drop('ip', axis=1, inplace=True)"
      ],
      "execution_count": 0,
      "outputs": []
    },
    {
      "cell_type": "code",
      "metadata": {
        "id": "F_ir24IhtIfa",
        "colab_type": "code",
        "colab": {}
      },
      "source": [
        "# Count the number of clicks by referer\n",
        "referer_count = fullData.groupby(['referer'])['timeat'].count().reset_index()\n",
        "referer_count.columns = ['referer', 'clicks_by_referer']\n",
        "merge = pd.merge(merge, referer_count, on='referer', how='left', sort=False)\n",
        "merge['clicks_by_referer'] = merge['clicks_by_referer'].astype('uint16')\n",
        "#merge.drop('ip', axis=1, inplace=True)"
      ],
      "execution_count": 0,
      "outputs": []
    },
    {
      "cell_type": "code",
      "metadata": {
        "id": "VtQJO690tbkw",
        "colab_type": "code",
        "colab": {}
      },
      "source": [
        "# Count the number of clicks by category\n",
        "category_count = fullData.groupby(['category'])['timeat'].count().reset_index()\n",
        "category_count.columns = ['category', 'clicks_by_category']\n",
        "merge = pd.merge(merge, category_count, on='category', how='left', sort=False)\n",
        "merge['clicks_by_category'] = merge['clicks_by_category'].astype('uint16')\n",
        "#merge.drop('ip', axis=1, inplace=True)"
      ],
      "execution_count": 0,
      "outputs": []
    },
    {
      "cell_type": "code",
      "metadata": {
        "id": "6QUVEFWHt276",
        "colab_type": "code",
        "colab": {}
      },
      "source": [
        "# Count the number of clicks per minute\n",
        "minute_count = fullData.groupby(['click_month','click_day','click_hour','click_min'])['timeat'].count().reset_index()\n",
        "minute_count.columns = ['click_month','click_day','click_hour','click_min', 'clicks_per_minute']\n",
        "merge = pd.merge(merge, minute_count, on=['click_month','click_day','click_hour','click_min'], how='left', sort=False)\n",
        "merge['clicks_per_minute'] = merge['clicks_per_minute'].astype('uint16')\n",
        "#merge.drop('ip', axis=1, inplace=True)"
      ],
      "execution_count": 0,
      "outputs": []
    },
    {
      "cell_type": "code",
      "metadata": {
        "id": "hlp50HUn0uh2",
        "colab_type": "code",
        "colab": {}
      },
      "source": [
        "# Count the number of clicks per hour\n",
        "hour_count = fullData.groupby(['click_month','click_day','click_hour'])['timeat'].count().reset_index()\n",
        "hour_count.columns = ['click_month','click_day','click_hour', 'clicks_per_hour']\n",
        "merge = pd.merge(merge, hour_count, on=['click_month','click_day','click_hour'], how='left', sort=False)\n",
        "merge['clicks_per_hour'] = merge['clicks_per_hour'].astype('uint16')\n",
        "#merge.drop('ip', axis=1, inplace=True)"
      ],
      "execution_count": 0,
      "outputs": []
    },
    {
      "cell_type": "code",
      "metadata": {
        "id": "tSqOlWL4_wb-",
        "colab_type": "code",
        "colab": {}
      },
      "source": [
        "# Count the number of clicks per ip, referrer, category per min\n",
        "ip_ref_cat_min_count = fullData.groupby(['iplong','referer','category','click_month','click_day','click_hour','click_min'])['timeat'].count().reset_index()\n",
        "ip_ref_cat_min_count.columns = ['iplong','referer','category','click_month','click_day','click_hour','click_min', 'ip_ref_cat_per_min']\n",
        "merge = pd.merge(merge, ip_ref_cat_min_count, on=['iplong','referer','category','click_month','click_day','click_hour','click_min'], how='left', sort=False)\n",
        "merge['ip_ref_cat_per_min'] = merge['ip_ref_cat_per_min'].astype('uint16')\n",
        "#merge.drop('ip', axis=1, inplace=True)"
      ],
      "execution_count": 0,
      "outputs": []
    },
    {
      "cell_type": "code",
      "metadata": {
        "id": "g9RcdjYkAjoA",
        "colab_type": "code",
        "colab": {}
      },
      "source": [
        "# Count the number of clicks per ip, referrer, category per hr\n",
        "ip_ref_cat_hr_count = fullData.groupby(['iplong','referer','category','click_month','click_day','click_hour'])['timeat'].count().reset_index()\n",
        "ip_ref_cat_hr_count.columns = ['iplong','referer','category','click_month','click_day','click_hour', 'ip_ref_cat_per_hr']\n",
        "merge = pd.merge(merge, ip_ref_cat_hr_count, on=['iplong','referer','category','click_month','click_day','click_hour'], how='left', sort=False)\n",
        "merge['ip_ref_cat_per_hr'] = merge['ip_ref_cat_per_hr'].astype('uint16')\n",
        "#merge.drop('ip', axis=1, inplace=True)"
      ],
      "execution_count": 0,
      "outputs": []
    },
    {
      "cell_type": "code",
      "metadata": {
        "id": "z6NhNycjA88Z",
        "colab_type": "code",
        "colab": {}
      },
      "source": [
        "# Count the number of clicks per ip, category per min\n",
        "ip_cat_min_count = fullData.groupby(['iplong','category','click_month','click_day','click_hour','click_min'])['timeat'].count().reset_index()\n",
        "ip_cat_min_count.columns = ['iplong','category','click_month','click_day','click_hour','click_min', 'ip_cat_per_min']\n",
        "merge = pd.merge(merge, ip_cat_min_count, on=['iplong','category','click_month','click_day','click_hour','click_min'], how='left', sort=False)\n",
        "merge['ip_cat_per_min'] = merge['ip_cat_per_min'].astype('uint16')\n",
        "#merge.drop('ip', axis=1, inplace=True)"
      ],
      "execution_count": 0,
      "outputs": []
    },
    {
      "cell_type": "code",
      "metadata": {
        "id": "AEXdyWgiBdNa",
        "colab_type": "code",
        "colab": {}
      },
      "source": [
        "# Count the number of clicks per ip, category per hr\n",
        "ip_cat_hr_count = fullData.groupby(['iplong','category','click_month','click_day','click_hour'])['timeat'].count().reset_index()\n",
        "ip_cat_hr_count.columns = ['iplong','category','click_month','click_day','click_hour', 'ip_cat_per_hr']\n",
        "merge = pd.merge(merge, ip_cat_hr_count, on=['iplong','category','click_month','click_day','click_hour'], how='left', sort=False)\n",
        "merge['ip_cat_per_hr'] = merge['ip_cat_per_hr'].astype('uint16')\n",
        "#merge.drop('ip', axis=1, inplace=True)"
      ],
      "execution_count": 0,
      "outputs": []
    },
    {
      "cell_type": "code",
      "metadata": {
        "id": "aftKTTCcXpaW",
        "colab_type": "code",
        "colab": {}
      },
      "source": [
        "# Count the number of clicks by agent\n",
        "agent_count = fullData.groupby(['agent'])['timeat'].count().reset_index()\n",
        "agent_count.columns = ['agent', 'clicks_by_agent']\n",
        "merge= pd.merge(merge, agent_count, on='agent', how='left', sort=False)\n",
        "merge['clicks_by_agent'] = merge['clicks_by_agent'].astype('uint16')\n",
        "#merge.drop('ip', axis=1, inplace=True)"
      ],
      "execution_count": 0,
      "outputs": []
    },
    {
      "cell_type": "code",
      "metadata": {
        "id": "1XJHNQtoZpmF",
        "colab_type": "code",
        "colab": {}
      },
      "source": [
        "# Count the number of clicks by agent,ip\n",
        "agent_ip_count = fullData.groupby(['agent','iplong'])['timeat'].count().reset_index()\n",
        "agent_ip_count.columns = ['agent','iplong','agent_ip_count']\n",
        "merge= pd.merge(merge, agent_ip_count, on=['agent','iplong'], how='left', sort=False)\n",
        "merge['agent_ip_count'] = merge['agent_ip_count'].astype('uint16')\n",
        "#merge.drop('ip', axis=1, inplace=True)"
      ],
      "execution_count": 0,
      "outputs": []
    },
    {
      "cell_type": "code",
      "metadata": {
        "id": "lB4JJacScf85",
        "colab_type": "code",
        "colab": {}
      },
      "source": [
        "# Count the number of clicks by agent,cntr\n",
        "agent_cntr_count = fullData.groupby(['agent','cntr'])['timeat'].count().reset_index()\n",
        "agent_cntr_count.columns = ['agent','cntr','agent_cntr_count']\n",
        "merge= pd.merge(merge, agent_cntr_count, on=['agent','cntr'], how='left', sort=False)\n",
        "merge['agent_cntr_count'] = merge['agent_cntr_count'].astype('uint16')\n",
        "#merge.drop('ip', axis=1, inplace=True)"
      ],
      "execution_count": 0,
      "outputs": []
    },
    {
      "cell_type": "markdown",
      "metadata": {
        "id": "AXR9rctOCloq",
        "colab_type": "text"
      },
      "source": [
        "AVERAGE FEATURES"
      ]
    },
    {
      "cell_type": "code",
      "metadata": {
        "id": "GgBbQ64GCnLV",
        "colab_type": "code",
        "colab": {}
      },
      "source": [
        "# Average number of clicks per ip per min\n",
        "ip_min_count = merge.groupby(['iplong','click_month','click_day','click_hour','click_min'])['timeat'].count().reset_index()\n",
        "ip_min_count.columns = ['iplong','click_month','click_day','click_hour','click_min', 'ip_min_count']\n",
        "merge = pd.merge(merge, ip_min_count, on=['iplong','click_month','click_day','click_hour','click_min'], how='left', sort=False)\n",
        "merge['ip_min_count'] = merge['ip_min_count'].astype('uint16')\n",
        "#merge.drop('ip', axis=1, inplace=True)\n"
      ],
      "execution_count": 0,
      "outputs": []
    },
    {
      "cell_type": "code",
      "metadata": {
        "id": "dgwvx11XI1Qs",
        "colab_type": "code",
        "colab": {}
      },
      "source": [
        "# Average number of clicks per ip per min\n",
        "ip_min_avg = merge.groupby(['iplong'])['ip_min_count'].mean().reset_index()\n",
        "ip_min_avg.columns = ['iplong', 'ip_min_avg']\n",
        "merge = pd.merge(merge, ip_min_avg, on=['iplong'], how='left', sort=False)\n",
        "merge['ip_min_avg'] = merge['ip_min_avg'].astype('uint16')\n",
        "#merge.drop('ip', axis=1, inplace=True)\n"
      ],
      "execution_count": 0,
      "outputs": []
    },
    {
      "cell_type": "code",
      "metadata": {
        "id": "ytJHLtFnLjyQ",
        "colab_type": "code",
        "colab": {}
      },
      "source": [
        "# Average number of clicks per ip, referrer, category per min\n",
        "ip_ref_cat_min_avg = merge.groupby(['iplong','referer','category','click_month','click_day','click_hour','click_min'])['ip_ref_cat_per_min'].mean().reset_index()\n",
        "ip_ref_cat_min_avg.columns = ['iplong','referer','category','click_month','click_day','click_hour','click_min', 'ip_ref_cat_min_avg']\n",
        "merge = pd.merge(merge, ip_ref_cat_min_avg, on=['iplong','referer','category','click_month','click_day','click_hour','click_min'], how='left', sort=False)\n",
        "merge['ip_ref_cat_min_avg'] = merge['ip_ref_cat_min_avg'].astype('uint16')\n",
        "#merge.drop('ip', axis=1, inplace=True)\n"
      ],
      "execution_count": 0,
      "outputs": []
    },
    {
      "cell_type": "code",
      "metadata": {
        "id": "2AbrVlCOMJtg",
        "colab_type": "code",
        "colab": {}
      },
      "source": [
        "# Average number of clicks per ip, category per min\n",
        "ip_cat_min_avg = merge.groupby(['iplong','category','click_month','click_day','click_hour','click_min'])['ip_cat_per_min'].mean().reset_index()\n",
        "ip_cat_min_avg.columns = ['iplong','category','click_month','click_day','click_hour','click_min', 'ip_cat_min_avg']\n",
        "merge = pd.merge(merge, ip_cat_min_avg, on=['iplong','category','click_month','click_day','click_hour','click_min'], how='left', sort=False)\n",
        "merge['ip_cat_min_avg'] = merge['ip_cat_min_avg'].astype('uint16')\n",
        "#merge.drop('ip', axis=1, inplace=True)"
      ],
      "execution_count": 0,
      "outputs": []
    },
    {
      "cell_type": "code",
      "metadata": {
        "id": "XNTNEyNLpGDQ",
        "colab_type": "code",
        "outputId": "bbaefd9f-e436-42b9-e2d5-8a1af1638090",
        "colab": {
          "base_uri": "https://localhost:8080/",
          "height": 394
        }
      },
      "source": [
        "merge.head(5)"
      ],
      "execution_count": 0,
      "outputs": [
        {
          "output_type": "execute_result",
          "data": {
            "text/html": [
              "<div>\n",
              "<style scoped>\n",
              "    .dataframe tbody tr th:only-of-type {\n",
              "        vertical-align: middle;\n",
              "    }\n",
              "\n",
              "    .dataframe tbody tr th {\n",
              "        vertical-align: top;\n",
              "    }\n",
              "\n",
              "    .dataframe thead th {\n",
              "        text-align: right;\n",
              "    }\n",
              "</style>\n",
              "<table border=\"1\" class=\"dataframe\">\n",
              "  <thead>\n",
              "    <tr style=\"text-align: right;\">\n",
              "      <th></th>\n",
              "      <th>agent</th>\n",
              "      <th>category</th>\n",
              "      <th>cntr</th>\n",
              "      <th>iplong</th>\n",
              "      <th>referer</th>\n",
              "      <th>timeat</th>\n",
              "      <th>status</th>\n",
              "      <th>status_binary</th>\n",
              "      <th>datetime</th>\n",
              "      <th>click_month</th>\n",
              "      <th>click_day</th>\n",
              "      <th>click_hour</th>\n",
              "      <th>click_min</th>\n",
              "      <th>click_sec</th>\n",
              "      <th>clicks_by_ip</th>\n",
              "      <th>clicks_by_cntr</th>\n",
              "      <th>clicks_by_referer</th>\n",
              "      <th>clicks_by_category</th>\n",
              "      <th>clicks_per_minute</th>\n",
              "      <th>clicks_per_hour</th>\n",
              "      <th>ip_ref_cat_per_min</th>\n",
              "      <th>ip_ref_cat_per_hr</th>\n",
              "      <th>ip_cat_per_min</th>\n",
              "      <th>ip_cat_per_hr</th>\n",
              "      <th>ip_min_count</th>\n",
              "      <th>ip_min_avg</th>\n",
              "      <th>ip_ref_cat_min_avg</th>\n",
              "      <th>ip_cat_min_avg</th>\n",
              "      <th>clicks_by_agent</th>\n",
              "      <th>agent_ip_count</th>\n",
              "      <th>agent_cntr_count</th>\n",
              "    </tr>\n",
              "  </thead>\n",
              "  <tbody>\n",
              "    <tr>\n",
              "      <th>0</th>\n",
              "      <td>Nokia_2330c</td>\n",
              "      <td>ad</td>\n",
              "      <td>ke</td>\n",
              "      <td>3301565714</td>\n",
              "      <td>tbuyyyoychgjo1ndlucxgt9o6</td>\n",
              "      <td>2012-03-08 00:00:11.0</td>\n",
              "      <td>OK</td>\n",
              "      <td>0</td>\n",
              "      <td>2012-03-08 00:00:11</td>\n",
              "      <td>3</td>\n",
              "      <td>8</td>\n",
              "      <td>0</td>\n",
              "      <td>0</td>\n",
              "      <td>11</td>\n",
              "      <td>1175</td>\n",
              "      <td>45122</td>\n",
              "      <td>720</td>\n",
              "      <td>27081</td>\n",
              "      <td>345</td>\n",
              "      <td>34951</td>\n",
              "      <td>1</td>\n",
              "      <td>1</td>\n",
              "      <td>1</td>\n",
              "      <td>4</td>\n",
              "      <td>1</td>\n",
              "      <td>1</td>\n",
              "      <td>1</td>\n",
              "      <td>1</td>\n",
              "      <td>50130</td>\n",
              "      <td>143</td>\n",
              "      <td>6808</td>\n",
              "    </tr>\n",
              "    <tr>\n",
              "      <th>1</th>\n",
              "      <td>SonyEricsson_W20</td>\n",
              "      <td>ad</td>\n",
              "      <td>iq</td>\n",
              "      <td>1605039771</td>\n",
              "      <td>thqfa0sa55mqsv58thp2f4mig</td>\n",
              "      <td>2012-03-08 00:00:15.0</td>\n",
              "      <td>OK</td>\n",
              "      <td>0</td>\n",
              "      <td>2012-03-08 00:00:15</td>\n",
              "      <td>3</td>\n",
              "      <td>8</td>\n",
              "      <td>0</td>\n",
              "      <td>0</td>\n",
              "      <td>15</td>\n",
              "      <td>1625</td>\n",
              "      <td>11748</td>\n",
              "      <td>3</td>\n",
              "      <td>27081</td>\n",
              "      <td>345</td>\n",
              "      <td>34951</td>\n",
              "      <td>1</td>\n",
              "      <td>1</td>\n",
              "      <td>3</td>\n",
              "      <td>20</td>\n",
              "      <td>4</td>\n",
              "      <td>1</td>\n",
              "      <td>1</td>\n",
              "      <td>3</td>\n",
              "      <td>37287</td>\n",
              "      <td>4</td>\n",
              "      <td>7</td>\n",
              "    </tr>\n",
              "    <tr>\n",
              "      <th>2</th>\n",
              "      <td>Samsung_GT-B3210</td>\n",
              "      <td>ad</td>\n",
              "      <td>za</td>\n",
              "      <td>3309442764</td>\n",
              "      <td>gbb407skm0shiglvo2tekqo7r</td>\n",
              "      <td>2012-03-08 00:00:16.0</td>\n",
              "      <td>OK</td>\n",
              "      <td>0</td>\n",
              "      <td>2012-03-08 00:00:16</td>\n",
              "      <td>3</td>\n",
              "      <td>8</td>\n",
              "      <td>0</td>\n",
              "      <td>0</td>\n",
              "      <td>16</td>\n",
              "      <td>1</td>\n",
              "      <td>34095</td>\n",
              "      <td>1</td>\n",
              "      <td>27081</td>\n",
              "      <td>345</td>\n",
              "      <td>34951</td>\n",
              "      <td>1</td>\n",
              "      <td>1</td>\n",
              "      <td>1</td>\n",
              "      <td>1</td>\n",
              "      <td>1</td>\n",
              "      <td>1</td>\n",
              "      <td>1</td>\n",
              "      <td>1</td>\n",
              "      <td>11149</td>\n",
              "      <td>1</td>\n",
              "      <td>1207</td>\n",
              "    </tr>\n",
              "    <tr>\n",
              "      <th>3</th>\n",
              "      <td>Nokia_500</td>\n",
              "      <td>ad</td>\n",
              "      <td>bn</td>\n",
              "      <td>3399005716</td>\n",
              "      <td>qcfc7pdq80q9jqdjn9t4iqra6</td>\n",
              "      <td>2012-03-08 00:00:38.0</td>\n",
              "      <td>OK</td>\n",
              "      <td>0</td>\n",
              "      <td>2012-03-08 00:00:38</td>\n",
              "      <td>3</td>\n",
              "      <td>8</td>\n",
              "      <td>0</td>\n",
              "      <td>0</td>\n",
              "      <td>38</td>\n",
              "      <td>629</td>\n",
              "      <td>36691</td>\n",
              "      <td>1</td>\n",
              "      <td>27081</td>\n",
              "      <td>345</td>\n",
              "      <td>34951</td>\n",
              "      <td>1</td>\n",
              "      <td>1</td>\n",
              "      <td>1</td>\n",
              "      <td>9</td>\n",
              "      <td>1</td>\n",
              "      <td>1</td>\n",
              "      <td>1</td>\n",
              "      <td>1</td>\n",
              "      <td>24841</td>\n",
              "      <td>9</td>\n",
              "      <td>287</td>\n",
              "    </tr>\n",
              "    <tr>\n",
              "      <th>4</th>\n",
              "      <td>Apple_iPhone</td>\n",
              "      <td>ad</td>\n",
              "      <td>iq</td>\n",
              "      <td>1605039771</td>\n",
              "      <td>rveydov63ccean9pf80l1dk9l</td>\n",
              "      <td>2012-03-08 00:00:42.0</td>\n",
              "      <td>OK</td>\n",
              "      <td>0</td>\n",
              "      <td>2012-03-08 00:00:42</td>\n",
              "      <td>3</td>\n",
              "      <td>8</td>\n",
              "      <td>0</td>\n",
              "      <td>0</td>\n",
              "      <td>42</td>\n",
              "      <td>1625</td>\n",
              "      <td>11748</td>\n",
              "      <td>459</td>\n",
              "      <td>27081</td>\n",
              "      <td>345</td>\n",
              "      <td>34951</td>\n",
              "      <td>1</td>\n",
              "      <td>3</td>\n",
              "      <td>3</td>\n",
              "      <td>20</td>\n",
              "      <td>4</td>\n",
              "      <td>1</td>\n",
              "      <td>1</td>\n",
              "      <td>3</td>\n",
              "      <td>40530</td>\n",
              "      <td>18</td>\n",
              "      <td>129</td>\n",
              "    </tr>\n",
              "  </tbody>\n",
              "</table>\n",
              "</div>"
            ],
            "text/plain": [
              "              agent category  ... agent_ip_count agent_cntr_count\n",
              "0       Nokia_2330c       ad  ...            143             6808\n",
              "1  SonyEricsson_W20       ad  ...              4                7\n",
              "2  Samsung_GT-B3210       ad  ...              1             1207\n",
              "3         Nokia_500       ad  ...              9              287\n",
              "4      Apple_iPhone       ad  ...             18              129\n",
              "\n",
              "[5 rows x 31 columns]"
            ]
          },
          "metadata": {
            "tags": []
          },
          "execution_count": 43
        }
      ]
    },
    {
      "cell_type": "code",
      "metadata": {
        "id": "Wq1dmS8gCM5h",
        "colab_type": "code",
        "outputId": "b569557a-f206-49d1-ccaa-0041a52cdbc1",
        "colab": {
          "base_uri": "https://localhost:8080/",
          "height": 170
        }
      },
      "source": [
        "merge.columns"
      ],
      "execution_count": 0,
      "outputs": [
        {
          "output_type": "execute_result",
          "data": {
            "text/plain": [
              "Index(['agent', 'category', 'cntr', 'iplong', 'referer', 'timeat', 'status',\n",
              "       'status_binary', 'datetime', 'click_month', 'click_day', 'click_hour',\n",
              "       'click_min', 'click_sec', 'clicks_by_ip', 'clicks_by_cntr',\n",
              "       'clicks_by_referer', 'clicks_by_category', 'clicks_per_minute',\n",
              "       'clicks_per_hour', 'ip_ref_cat_per_min', 'ip_ref_cat_per_hr',\n",
              "       'ip_cat_per_min', 'ip_cat_per_hr', 'ip_min_count', 'ip_min_avg',\n",
              "       'ip_ref_cat_min_avg', 'ip_cat_min_avg', 'clicks_by_agent',\n",
              "       'agent_ip_count', 'agent_cntr_count'],\n",
              "      dtype='object')"
            ]
          },
          "metadata": {
            "tags": []
          },
          "execution_count": 64
        }
      ]
    },
    {
      "cell_type": "code",
      "metadata": {
        "id": "73sdsT-5FMV2",
        "colab_type": "code",
        "colab": {}
      },
      "source": [
        "merge = merge.drop([\"ip_min_count_x\",\"ip_min_count_y\"],axis=1)"
      ],
      "execution_count": 0,
      "outputs": []
    },
    {
      "cell_type": "code",
      "metadata": {
        "id": "lZDBnIO7V2yu",
        "colab_type": "code",
        "colab": {}
      },
      "source": [
        "merge.to_csv(path_or_buf ='/content/drive/My Drive/Practicum Data Set/merge.csv',sep=',', header=True)"
      ],
      "execution_count": 0,
      "outputs": []
    },
    {
      "cell_type": "markdown",
      "metadata": {
        "id": "qZhjaC6uC84l",
        "colab_type": "text"
      },
      "source": [
        "## Modelling"
      ]
    },
    {
      "cell_type": "code",
      "metadata": {
        "id": "MbhBat4WQeCJ",
        "colab_type": "code",
        "colab": {}
      },
      "source": [
        "model_dataset = merge.copy()"
      ],
      "execution_count": 0,
      "outputs": []
    },
    {
      "cell_type": "code",
      "metadata": {
        "id": "m6QrkX65FUKm",
        "colab_type": "code",
        "outputId": "7af21abc-f6ff-49cc-83c5-bf01b6270ba3",
        "colab": {
          "base_uri": "https://localhost:8080/",
          "height": 68
        }
      },
      "source": [
        "print(model_dataset['status'].value_counts())\n"
      ],
      "execution_count": 93,
      "outputs": [
        {
          "output_type": "stream",
          "text": [
            "OK       6494084\n",
            "Fraud     444439\n",
            "Name: status, dtype: int64\n"
          ],
          "name": "stdout"
        }
      ]
    },
    {
      "cell_type": "code",
      "metadata": {
        "id": "pH9OHqkjQp9l",
        "colab_type": "code",
        "outputId": "20f58da2-797a-476c-fd7b-4eba3472c5f4",
        "colab": {
          "base_uri": "https://localhost:8080/",
          "height": 170
        }
      },
      "source": [
        "model_dataset.columns"
      ],
      "execution_count": 94,
      "outputs": [
        {
          "output_type": "execute_result",
          "data": {
            "text/plain": [
              "Index(['agent', 'category', 'cntr', 'iplong', 'referer', 'timeat', 'status',\n",
              "       'status_binary', 'datetime', 'click_month', 'click_day', 'click_hour',\n",
              "       'click_min', 'click_sec', 'clicks_by_ip', 'clicks_by_cntr',\n",
              "       'clicks_by_referer', 'clicks_by_category', 'clicks_per_minute',\n",
              "       'clicks_per_hour', 'ip_ref_cat_per_min', 'ip_ref_cat_per_hr',\n",
              "       'ip_cat_per_min', 'ip_cat_per_hr', 'ip_min_count', 'ip_min_avg',\n",
              "       'ip_ref_cat_min_avg', 'ip_cat_min_avg', 'clicks_by_agent',\n",
              "       'agent_ip_count', 'agent_cntr_count'],\n",
              "      dtype='object')"
            ]
          },
          "metadata": {
            "tags": []
          },
          "execution_count": 94
        }
      ]
    },
    {
      "cell_type": "code",
      "metadata": {
        "id": "fRd0VBlCelPY",
        "colab_type": "code",
        "colab": {}
      },
      "source": [
        ""
      ],
      "execution_count": 0,
      "outputs": []
    },
    {
      "cell_type": "markdown",
      "metadata": {
        "id": "IYXhjh49PUpF",
        "colab_type": "text"
      },
      "source": [
        "# MODEL 1:"
      ]
    },
    {
      "cell_type": "markdown",
      "metadata": {
        "id": "0hJhnMNXJ8I1",
        "colab_type": "text"
      },
      "source": [
        "## Under Sampling &Final Test & Train Split"
      ]
    },
    {
      "cell_type": "code",
      "metadata": {
        "id": "TvhxUX7kPV1m",
        "colab_type": "code",
        "colab": {}
      },
      "source": [
        "from sklearn.model_selection import train_test_split\n",
        "x = model_dataset.drop(columns=['agent','category', 'cntr', 'iplong', 'referer','timeat','status','status_binary','datetime','click_day', 'click_hour', 'click_min',\n",
        "       'click_sec', 'click_month'])\n",
        "y = model_dataset['status'].copy()\n",
        "y_mod = y.apply(lambda x: 0 if x == 'OK' else 1)"
      ],
      "execution_count": 0,
      "outputs": []
    },
    {
      "cell_type": "code",
      "metadata": {
        "id": "JRGl4u5PikdM",
        "colab_type": "code",
        "colab": {}
      },
      "source": [
        "x_train, x_test, y_train, y_test = train_test_split(x, y_mod, random_state=13)"
      ],
      "execution_count": 0,
      "outputs": []
    },
    {
      "cell_type": "code",
      "metadata": {
        "id": "vCfdTaUMjeRY",
        "colab_type": "code",
        "colab": {}
      },
      "source": [
        "model_dataset = pd.concat([x_train, y_train], axis=1)\n"
      ],
      "execution_count": 0,
      "outputs": []
    },
    {
      "cell_type": "code",
      "metadata": {
        "id": "3iyB0vTOkcTw",
        "colab_type": "code",
        "outputId": "57a2eb94-8225-4aa5-b4b6-67b3d2bc1051",
        "colab": {
          "base_uri": "https://localhost:8080/",
          "height": 224
        }
      },
      "source": [
        "model_dataset.head()"
      ],
      "execution_count": 119,
      "outputs": [
        {
          "output_type": "execute_result",
          "data": {
            "text/html": [
              "<div>\n",
              "<style scoped>\n",
              "    .dataframe tbody tr th:only-of-type {\n",
              "        vertical-align: middle;\n",
              "    }\n",
              "\n",
              "    .dataframe tbody tr th {\n",
              "        vertical-align: top;\n",
              "    }\n",
              "\n",
              "    .dataframe thead th {\n",
              "        text-align: right;\n",
              "    }\n",
              "</style>\n",
              "<table border=\"1\" class=\"dataframe\">\n",
              "  <thead>\n",
              "    <tr style=\"text-align: right;\">\n",
              "      <th></th>\n",
              "      <th>clicks_by_ip</th>\n",
              "      <th>clicks_by_cntr</th>\n",
              "      <th>clicks_by_referer</th>\n",
              "      <th>clicks_by_category</th>\n",
              "      <th>clicks_per_minute</th>\n",
              "      <th>clicks_per_hour</th>\n",
              "      <th>ip_ref_cat_per_min</th>\n",
              "      <th>ip_ref_cat_per_hr</th>\n",
              "      <th>ip_cat_per_min</th>\n",
              "      <th>ip_cat_per_hr</th>\n",
              "      <th>ip_min_count</th>\n",
              "      <th>ip_min_avg</th>\n",
              "      <th>ip_ref_cat_min_avg</th>\n",
              "      <th>ip_cat_min_avg</th>\n",
              "      <th>clicks_by_agent</th>\n",
              "      <th>agent_ip_count</th>\n",
              "      <th>agent_cntr_count</th>\n",
              "      <th>status</th>\n",
              "    </tr>\n",
              "  </thead>\n",
              "  <tbody>\n",
              "    <tr>\n",
              "      <th>3452978</th>\n",
              "      <td>16</td>\n",
              "      <td>13604</td>\n",
              "      <td>14</td>\n",
              "      <td>62415</td>\n",
              "      <td>662</td>\n",
              "      <td>39033</td>\n",
              "      <td>2</td>\n",
              "      <td>2</td>\n",
              "      <td>2</td>\n",
              "      <td>2</td>\n",
              "      <td>2</td>\n",
              "      <td>2</td>\n",
              "      <td>2</td>\n",
              "      <td>2</td>\n",
              "      <td>63524</td>\n",
              "      <td>16</td>\n",
              "      <td>15196</td>\n",
              "      <td>0</td>\n",
              "    </tr>\n",
              "    <tr>\n",
              "      <th>5676639</th>\n",
              "      <td>98</td>\n",
              "      <td>25900</td>\n",
              "      <td>2</td>\n",
              "      <td>27081</td>\n",
              "      <td>1160</td>\n",
              "      <td>8902</td>\n",
              "      <td>2</td>\n",
              "      <td>2</td>\n",
              "      <td>2</td>\n",
              "      <td>2</td>\n",
              "      <td>2</td>\n",
              "      <td>2</td>\n",
              "      <td>2</td>\n",
              "      <td>2</td>\n",
              "      <td>1612</td>\n",
              "      <td>2</td>\n",
              "      <td>300</td>\n",
              "      <td>0</td>\n",
              "    </tr>\n",
              "    <tr>\n",
              "      <th>728044</th>\n",
              "      <td>1</td>\n",
              "      <td>25495</td>\n",
              "      <td>553</td>\n",
              "      <td>62415</td>\n",
              "      <td>268</td>\n",
              "      <td>17531</td>\n",
              "      <td>1</td>\n",
              "      <td>1</td>\n",
              "      <td>1</td>\n",
              "      <td>1</td>\n",
              "      <td>1</td>\n",
              "      <td>1</td>\n",
              "      <td>1</td>\n",
              "      <td>1</td>\n",
              "      <td>25449</td>\n",
              "      <td>1</td>\n",
              "      <td>1757</td>\n",
              "      <td>0</td>\n",
              "    </tr>\n",
              "    <tr>\n",
              "      <th>2014361</th>\n",
              "      <td>639</td>\n",
              "      <td>46191</td>\n",
              "      <td>2</td>\n",
              "      <td>62415</td>\n",
              "      <td>327</td>\n",
              "      <td>22963</td>\n",
              "      <td>2</td>\n",
              "      <td>2</td>\n",
              "      <td>2</td>\n",
              "      <td>4</td>\n",
              "      <td>2</td>\n",
              "      <td>2</td>\n",
              "      <td>2</td>\n",
              "      <td>2</td>\n",
              "      <td>9111</td>\n",
              "      <td>2</td>\n",
              "      <td>245</td>\n",
              "      <td>0</td>\n",
              "    </tr>\n",
              "    <tr>\n",
              "      <th>4336013</th>\n",
              "      <td>1644</td>\n",
              "      <td>59110</td>\n",
              "      <td>2</td>\n",
              "      <td>27081</td>\n",
              "      <td>884</td>\n",
              "      <td>48829</td>\n",
              "      <td>2</td>\n",
              "      <td>2</td>\n",
              "      <td>2</td>\n",
              "      <td>8</td>\n",
              "      <td>4</td>\n",
              "      <td>2</td>\n",
              "      <td>2</td>\n",
              "      <td>2</td>\n",
              "      <td>3650</td>\n",
              "      <td>36</td>\n",
              "      <td>1312</td>\n",
              "      <td>0</td>\n",
              "    </tr>\n",
              "  </tbody>\n",
              "</table>\n",
              "</div>"
            ],
            "text/plain": [
              "         clicks_by_ip  clicks_by_cntr  ...  agent_cntr_count  status\n",
              "3452978            16           13604  ...             15196       0\n",
              "5676639            98           25900  ...               300       0\n",
              "728044              1           25495  ...              1757       0\n",
              "2014361           639           46191  ...               245       0\n",
              "4336013          1644           59110  ...              1312       0\n",
              "\n",
              "[5 rows x 18 columns]"
            ]
          },
          "metadata": {
            "tags": []
          },
          "execution_count": 119
        }
      ]
    },
    {
      "cell_type": "code",
      "metadata": {
        "id": "iOk7t2wCuKLz",
        "colab_type": "code",
        "colab": {}
      },
      "source": [
        "no_frauds = len(model_dataset[model_dataset['status'] == 1])\n",
        "non_fraud_indices = model_dataset[model_dataset.status == 0].index\n",
        "random_indices = np.random.choice(non_fraud_indices,no_frauds, replace=False)\n",
        "fraud_indices = model_dataset[model_dataset.status == 1].index\n",
        "under_sample_indices = np.concatenate([fraud_indices,random_indices])\n",
        "underSample = model_dataset.loc[under_sample_indices]\n",
        "#underSample.to_csv(path_or_buf ='/content/drive/My Drive/Practicum Data Set/underSample.csv',sep=',', header=True)"
      ],
      "execution_count": 0,
      "outputs": []
    },
    {
      "cell_type": "code",
      "metadata": {
        "id": "YsecyPAxj3YI",
        "colab_type": "code",
        "colab": {}
      },
      "source": [
        "y_train = underSample.status\n",
        "x_train = underSample.drop('status', axis=1)"
      ],
      "execution_count": 0,
      "outputs": []
    },
    {
      "cell_type": "markdown",
      "metadata": {
        "id": "fdag-fSpgeZX",
        "colab_type": "text"
      },
      "source": [
        "## One Hot Encoding"
      ]
    },
    {
      "cell_type": "code",
      "metadata": {
        "id": "QzPoW3enVRrs",
        "colab_type": "code",
        "colab": {}
      },
      "source": [
        "x = pd.get_dummies(x, columns = ['agent'],prefix=['agent_'])"
      ],
      "execution_count": 0,
      "outputs": []
    },
    {
      "cell_type": "code",
      "metadata": {
        "id": "RE6gB0C2oCvZ",
        "colab_type": "code",
        "outputId": "b9a1bbd1-96dd-4bee-a42b-5ca14cbd3033",
        "colab": {
          "base_uri": "https://localhost:8080/",
          "height": 119
        }
      },
      "source": [
        "x.columns"
      ],
      "execution_count": 0,
      "outputs": [
        {
          "output_type": "execute_result",
          "data": {
            "text/plain": [
              "Index(['clicks_by_ip', 'clicks_by_cntr', 'clicks_by_referer',\n",
              "       'clicks_by_category', 'clicks_per_minute', 'clicks_per_hour',\n",
              "       'ip_ref_cat_per_min', 'ip_ref_cat_per_hr', 'ip_cat_per_min',\n",
              "       'ip_cat_per_hr', 'ip_min_count', 'ip_min_avg', 'ip_ref_cat_min_avg',\n",
              "       'ip_cat_min_avg'],\n",
              "      dtype='object')"
            ]
          },
          "metadata": {
            "tags": []
          },
          "execution_count": 6
        }
      ]
    },
    {
      "cell_type": "code",
      "metadata": {
        "id": "AkmCU5uraiK4",
        "colab_type": "code",
        "outputId": "636b1c0d-7130-440a-e8eb-f43b8a6136bf",
        "colab": {
          "base_uri": "https://localhost:8080/",
          "height": 34
        }
      },
      "source": [
        "x.shape"
      ],
      "execution_count": 0,
      "outputs": [
        {
          "output_type": "execute_result",
          "data": {
            "text/plain": [
              "(888878, 14)"
            ]
          },
          "metadata": {
            "tags": []
          },
          "execution_count": 7
        }
      ]
    },
    {
      "cell_type": "markdown",
      "metadata": {
        "id": "ibUd-uxsgn0l",
        "colab_type": "text"
      },
      "source": [
        "## Train Test Split"
      ]
    },
    {
      "cell_type": "code",
      "metadata": {
        "id": "ttAa_ipkP5r5",
        "colab_type": "code",
        "colab": {}
      },
      "source": [
        "#x_train, x_test, y_train, y_test = train_test_split(x, y_mod, random_state=13)"
      ],
      "execution_count": 0,
      "outputs": []
    },
    {
      "cell_type": "code",
      "metadata": {
        "id": "U_FxO47dTQF9",
        "colab_type": "code",
        "outputId": "623be8cb-b45d-4ac2-b66d-70d3f0f8ff20",
        "colab": {
          "base_uri": "https://localhost:8080/",
          "height": 224
        }
      },
      "source": [
        "#x_train.head(5)"
      ],
      "execution_count": 0,
      "outputs": [
        {
          "output_type": "execute_result",
          "data": {
            "text/html": [
              "<div>\n",
              "<style scoped>\n",
              "    .dataframe tbody tr th:only-of-type {\n",
              "        vertical-align: middle;\n",
              "    }\n",
              "\n",
              "    .dataframe tbody tr th {\n",
              "        vertical-align: top;\n",
              "    }\n",
              "\n",
              "    .dataframe thead th {\n",
              "        text-align: right;\n",
              "    }\n",
              "</style>\n",
              "<table border=\"1\" class=\"dataframe\">\n",
              "  <thead>\n",
              "    <tr style=\"text-align: right;\">\n",
              "      <th></th>\n",
              "      <th>clicks_by_ip</th>\n",
              "      <th>clicks_by_cntr</th>\n",
              "      <th>clicks_by_referer</th>\n",
              "      <th>clicks_by_category</th>\n",
              "      <th>clicks_per_minute</th>\n",
              "      <th>clicks_per_hour</th>\n",
              "      <th>ip_ref_cat_per_min</th>\n",
              "      <th>ip_ref_cat_per_hr</th>\n",
              "      <th>ip_cat_per_min</th>\n",
              "      <th>ip_cat_per_hr</th>\n",
              "      <th>ip_min_count</th>\n",
              "      <th>ip_min_avg</th>\n",
              "      <th>ip_ref_cat_min_avg</th>\n",
              "      <th>ip_cat_min_avg</th>\n",
              "      <th>clicks_by_agent</th>\n",
              "      <th>agent_ip_count</th>\n",
              "      <th>agent_cntr_count</th>\n",
              "    </tr>\n",
              "  </thead>\n",
              "  <tbody>\n",
              "    <tr>\n",
              "      <th>2179242</th>\n",
              "      <td>20</td>\n",
              "      <td>47161</td>\n",
              "      <td>2</td>\n",
              "      <td>27081</td>\n",
              "      <td>592</td>\n",
              "      <td>35731</td>\n",
              "      <td>2</td>\n",
              "      <td>2</td>\n",
              "      <td>4</td>\n",
              "      <td>20</td>\n",
              "      <td>4</td>\n",
              "      <td>4</td>\n",
              "      <td>2</td>\n",
              "      <td>4</td>\n",
              "      <td>27485</td>\n",
              "      <td>20</td>\n",
              "      <td>5678</td>\n",
              "    </tr>\n",
              "    <tr>\n",
              "      <th>4102408</th>\n",
              "      <td>2</td>\n",
              "      <td>21106</td>\n",
              "      <td>226</td>\n",
              "      <td>27081</td>\n",
              "      <td>665</td>\n",
              "      <td>42557</td>\n",
              "      <td>2</td>\n",
              "      <td>2</td>\n",
              "      <td>2</td>\n",
              "      <td>2</td>\n",
              "      <td>2</td>\n",
              "      <td>2</td>\n",
              "      <td>2</td>\n",
              "      <td>2</td>\n",
              "      <td>26108</td>\n",
              "      <td>2</td>\n",
              "      <td>11769</td>\n",
              "    </tr>\n",
              "    <tr>\n",
              "      <th>4844411</th>\n",
              "      <td>1</td>\n",
              "      <td>29481</td>\n",
              "      <td>1</td>\n",
              "      <td>62415</td>\n",
              "      <td>590</td>\n",
              "      <td>41307</td>\n",
              "      <td>1</td>\n",
              "      <td>1</td>\n",
              "      <td>1</td>\n",
              "      <td>1</td>\n",
              "      <td>1</td>\n",
              "      <td>1</td>\n",
              "      <td>1</td>\n",
              "      <td>1</td>\n",
              "      <td>40530</td>\n",
              "      <td>1</td>\n",
              "      <td>4401</td>\n",
              "    </tr>\n",
              "    <tr>\n",
              "      <th>551527</th>\n",
              "      <td>353</td>\n",
              "      <td>56065</td>\n",
              "      <td>1</td>\n",
              "      <td>27081</td>\n",
              "      <td>213</td>\n",
              "      <td>13880</td>\n",
              "      <td>1</td>\n",
              "      <td>1</td>\n",
              "      <td>1</td>\n",
              "      <td>15</td>\n",
              "      <td>1</td>\n",
              "      <td>1</td>\n",
              "      <td>1</td>\n",
              "      <td>1</td>\n",
              "      <td>9036</td>\n",
              "      <td>13</td>\n",
              "      <td>98</td>\n",
              "    </tr>\n",
              "    <tr>\n",
              "      <th>2201760</th>\n",
              "      <td>343</td>\n",
              "      <td>51900</td>\n",
              "      <td>2</td>\n",
              "      <td>27081</td>\n",
              "      <td>447</td>\n",
              "      <td>26529</td>\n",
              "      <td>2</td>\n",
              "      <td>2</td>\n",
              "      <td>2</td>\n",
              "      <td>6</td>\n",
              "      <td>2</td>\n",
              "      <td>2</td>\n",
              "      <td>2</td>\n",
              "      <td>2</td>\n",
              "      <td>35951</td>\n",
              "      <td>8</td>\n",
              "      <td>1334</td>\n",
              "    </tr>\n",
              "  </tbody>\n",
              "</table>\n",
              "</div>"
            ],
            "text/plain": [
              "         clicks_by_ip  clicks_by_cntr  ...  agent_ip_count  agent_cntr_count\n",
              "2179242            20           47161  ...              20              5678\n",
              "4102408             2           21106  ...               2             11769\n",
              "4844411             1           29481  ...               1              4401\n",
              "551527            353           56065  ...              13                98\n",
              "2201760           343           51900  ...               8              1334\n",
              "\n",
              "[5 rows x 17 columns]"
            ]
          },
          "metadata": {
            "tags": []
          },
          "execution_count": 52
        }
      ]
    },
    {
      "cell_type": "code",
      "metadata": {
        "id": "ih0as6xVSS1N",
        "colab_type": "code",
        "colab": {}
      },
      "source": [
        "cols = ['clicks_by_ip', 'clicks_by_cntr',\n",
        "       'clicks_by_referer', 'clicks_by_category', 'clicks_per_minute',\n",
        "       'clicks_per_hour', 'ip_ref_cat_per_min', 'ip_ref_cat_per_hr',\n",
        "       'ip_cat_per_min', 'ip_cat_per_hr', 'ip_min_count', 'ip_min_avg',\n",
        "       'ip_ref_cat_min_avg', 'ip_cat_min_avg', 'clicks_by_agent',\n",
        "       'agent_ip_count', 'agent_cntr_count']\n",
        "\n",
        "x_train_temp = x_train\n",
        "\n",
        "x_test_temp = x_test\n"
      ],
      "execution_count": 0,
      "outputs": []
    },
    {
      "cell_type": "code",
      "metadata": {
        "id": "VKJod9zTeN-U",
        "colab_type": "code",
        "colab": {
          "base_uri": "https://localhost:8080/",
          "height": 270
        },
        "outputId": "6423b0fe-ce87-4c10-ab57-92e40a0020aa"
      },
      "source": [
        "corr = x_train.corr()\n",
        "corr.style.background_gradient(cmap='coolwarm')\n",
        "corr.style.background_gradient(cmap='coolwarm').set_precision(2)"
      ],
      "execution_count": 136,
      "outputs": [
        {
          "output_type": "execute_result",
          "data": {
            "text/html": [
              "<style  type=\"text/css\" >\n",
              "    #T_351d2986_bc7e_11e9_bce5_0242ac1c0002row0_col0 {\n",
              "            background-color:  #b40426;\n",
              "            color:  #f1f1f1;\n",
              "        }    #T_351d2986_bc7e_11e9_bce5_0242ac1c0002row0_col1 {\n",
              "            background-color:  #6282ea;\n",
              "            color:  #000000;\n",
              "        }    #T_351d2986_bc7e_11e9_bce5_0242ac1c0002row0_col2 {\n",
              "            background-color:  #5572df;\n",
              "            color:  #000000;\n",
              "        }    #T_351d2986_bc7e_11e9_bce5_0242ac1c0002row0_col3 {\n",
              "            background-color:  #688aef;\n",
              "            color:  #000000;\n",
              "        }    #T_351d2986_bc7e_11e9_bce5_0242ac1c0002row0_col4 {\n",
              "            background-color:  #5875e1;\n",
              "            color:  #000000;\n",
              "        }    #T_351d2986_bc7e_11e9_bce5_0242ac1c0002row0_col5 {\n",
              "            background-color:  #5875e1;\n",
              "            color:  #000000;\n",
              "        }    #T_351d2986_bc7e_11e9_bce5_0242ac1c0002row0_col6 {\n",
              "            background-color:  #7da0f9;\n",
              "            color:  #000000;\n",
              "        }    #T_351d2986_bc7e_11e9_bce5_0242ac1c0002row0_col7 {\n",
              "            background-color:  #4055c8;\n",
              "            color:  #f1f1f1;\n",
              "        }    #T_351d2986_bc7e_11e9_bce5_0242ac1c0002row0_col8 {\n",
              "            background-color:  #bad0f8;\n",
              "            color:  #000000;\n",
              "        }    #T_351d2986_bc7e_11e9_bce5_0242ac1c0002row0_col9 {\n",
              "            background-color:  #6687ed;\n",
              "            color:  #000000;\n",
              "        }    #T_351d2986_bc7e_11e9_bce5_0242ac1c0002row1_col0 {\n",
              "            background-color:  #485fd1;\n",
              "            color:  #f1f1f1;\n",
              "        }    #T_351d2986_bc7e_11e9_bce5_0242ac1c0002row1_col1 {\n",
              "            background-color:  #b40426;\n",
              "            color:  #f1f1f1;\n",
              "        }    #T_351d2986_bc7e_11e9_bce5_0242ac1c0002row1_col2 {\n",
              "            background-color:  #3d50c3;\n",
              "            color:  #f1f1f1;\n",
              "        }    #T_351d2986_bc7e_11e9_bce5_0242ac1c0002row1_col3 {\n",
              "            background-color:  #3b4cc0;\n",
              "            color:  #f1f1f1;\n",
              "        }    #T_351d2986_bc7e_11e9_bce5_0242ac1c0002row1_col4 {\n",
              "            background-color:  #3b4cc0;\n",
              "            color:  #f1f1f1;\n",
              "        }    #T_351d2986_bc7e_11e9_bce5_0242ac1c0002row1_col5 {\n",
              "            background-color:  #4257c9;\n",
              "            color:  #f1f1f1;\n",
              "        }    #T_351d2986_bc7e_11e9_bce5_0242ac1c0002row1_col6 {\n",
              "            background-color:  #7597f6;\n",
              "            color:  #000000;\n",
              "        }    #T_351d2986_bc7e_11e9_bce5_0242ac1c0002row1_col7 {\n",
              "            background-color:  #3b4cc0;\n",
              "            color:  #f1f1f1;\n",
              "        }    #T_351d2986_bc7e_11e9_bce5_0242ac1c0002row1_col8 {\n",
              "            background-color:  #6a8bef;\n",
              "            color:  #000000;\n",
              "        }    #T_351d2986_bc7e_11e9_bce5_0242ac1c0002row1_col9 {\n",
              "            background-color:  #3b4cc0;\n",
              "            color:  #f1f1f1;\n",
              "        }    #T_351d2986_bc7e_11e9_bce5_0242ac1c0002row2_col0 {\n",
              "            background-color:  #4f69d9;\n",
              "            color:  #000000;\n",
              "        }    #T_351d2986_bc7e_11e9_bce5_0242ac1c0002row2_col1 {\n",
              "            background-color:  #536edd;\n",
              "            color:  #000000;\n",
              "        }    #T_351d2986_bc7e_11e9_bce5_0242ac1c0002row2_col2 {\n",
              "            background-color:  #b40426;\n",
              "            color:  #f1f1f1;\n",
              "        }    #T_351d2986_bc7e_11e9_bce5_0242ac1c0002row2_col3 {\n",
              "            background-color:  #445acc;\n",
              "            color:  #f1f1f1;\n",
              "        }    #T_351d2986_bc7e_11e9_bce5_0242ac1c0002row2_col4 {\n",
              "            background-color:  #506bda;\n",
              "            color:  #000000;\n",
              "        }    #T_351d2986_bc7e_11e9_bce5_0242ac1c0002row2_col5 {\n",
              "            background-color:  #4961d2;\n",
              "            color:  #f1f1f1;\n",
              "        }    #T_351d2986_bc7e_11e9_bce5_0242ac1c0002row2_col6 {\n",
              "            background-color:  #4a63d3;\n",
              "            color:  #f1f1f1;\n",
              "        }    #T_351d2986_bc7e_11e9_bce5_0242ac1c0002row2_col7 {\n",
              "            background-color:  #455cce;\n",
              "            color:  #f1f1f1;\n",
              "        }    #T_351d2986_bc7e_11e9_bce5_0242ac1c0002row2_col8 {\n",
              "            background-color:  #455cce;\n",
              "            color:  #f1f1f1;\n",
              "        }    #T_351d2986_bc7e_11e9_bce5_0242ac1c0002row2_col9 {\n",
              "            background-color:  #6282ea;\n",
              "            color:  #000000;\n",
              "        }    #T_351d2986_bc7e_11e9_bce5_0242ac1c0002row3_col0 {\n",
              "            background-color:  #5977e3;\n",
              "            color:  #000000;\n",
              "        }    #T_351d2986_bc7e_11e9_bce5_0242ac1c0002row3_col1 {\n",
              "            background-color:  #455cce;\n",
              "            color:  #f1f1f1;\n",
              "        }    #T_351d2986_bc7e_11e9_bce5_0242ac1c0002row3_col2 {\n",
              "            background-color:  #3b4cc0;\n",
              "            color:  #f1f1f1;\n",
              "        }    #T_351d2986_bc7e_11e9_bce5_0242ac1c0002row3_col3 {\n",
              "            background-color:  #b40426;\n",
              "            color:  #f1f1f1;\n",
              "        }    #T_351d2986_bc7e_11e9_bce5_0242ac1c0002row3_col4 {\n",
              "            background-color:  #3f53c6;\n",
              "            color:  #f1f1f1;\n",
              "        }    #T_351d2986_bc7e_11e9_bce5_0242ac1c0002row3_col5 {\n",
              "            background-color:  #3b4cc0;\n",
              "            color:  #f1f1f1;\n",
              "        }    #T_351d2986_bc7e_11e9_bce5_0242ac1c0002row3_col6 {\n",
              "            background-color:  #506bda;\n",
              "            color:  #000000;\n",
              "        }    #T_351d2986_bc7e_11e9_bce5_0242ac1c0002row3_col7 {\n",
              "            background-color:  #485fd1;\n",
              "            color:  #f1f1f1;\n",
              "        }    #T_351d2986_bc7e_11e9_bce5_0242ac1c0002row3_col8 {\n",
              "            background-color:  #5977e3;\n",
              "            color:  #000000;\n",
              "        }    #T_351d2986_bc7e_11e9_bce5_0242ac1c0002row3_col9 {\n",
              "            background-color:  #6a8bef;\n",
              "            color:  #000000;\n",
              "        }    #T_351d2986_bc7e_11e9_bce5_0242ac1c0002row4_col0 {\n",
              "            background-color:  #5977e3;\n",
              "            color:  #000000;\n",
              "        }    #T_351d2986_bc7e_11e9_bce5_0242ac1c0002row4_col1 {\n",
              "            background-color:  #5673e0;\n",
              "            color:  #000000;\n",
              "        }    #T_351d2986_bc7e_11e9_bce5_0242ac1c0002row4_col2 {\n",
              "            background-color:  #5673e0;\n",
              "            color:  #000000;\n",
              "        }    #T_351d2986_bc7e_11e9_bce5_0242ac1c0002row4_col3 {\n",
              "            background-color:  #506bda;\n",
              "            color:  #000000;\n",
              "        }    #T_351d2986_bc7e_11e9_bce5_0242ac1c0002row4_col4 {\n",
              "            background-color:  #b40426;\n",
              "            color:  #f1f1f1;\n",
              "        }    #T_351d2986_bc7e_11e9_bce5_0242ac1c0002row4_col5 {\n",
              "            background-color:  #cdd9ec;\n",
              "            color:  #000000;\n",
              "        }    #T_351d2986_bc7e_11e9_bce5_0242ac1c0002row4_col6 {\n",
              "            background-color:  #5b7ae5;\n",
              "            color:  #000000;\n",
              "        }    #T_351d2986_bc7e_11e9_bce5_0242ac1c0002row4_col7 {\n",
              "            background-color:  #455cce;\n",
              "            color:  #f1f1f1;\n",
              "        }    #T_351d2986_bc7e_11e9_bce5_0242ac1c0002row4_col8 {\n",
              "            background-color:  #3b4cc0;\n",
              "            color:  #f1f1f1;\n",
              "        }    #T_351d2986_bc7e_11e9_bce5_0242ac1c0002row4_col9 {\n",
              "            background-color:  #6384eb;\n",
              "            color:  #000000;\n",
              "        }    #T_351d2986_bc7e_11e9_bce5_0242ac1c0002row5_col0 {\n",
              "            background-color:  #5875e1;\n",
              "            color:  #000000;\n",
              "        }    #T_351d2986_bc7e_11e9_bce5_0242ac1c0002row5_col1 {\n",
              "            background-color:  #5d7ce6;\n",
              "            color:  #000000;\n",
              "        }    #T_351d2986_bc7e_11e9_bce5_0242ac1c0002row5_col2 {\n",
              "            background-color:  #506bda;\n",
              "            color:  #000000;\n",
              "        }    #T_351d2986_bc7e_11e9_bce5_0242ac1c0002row5_col3 {\n",
              "            background-color:  #4a63d3;\n",
              "            color:  #f1f1f1;\n",
              "        }    #T_351d2986_bc7e_11e9_bce5_0242ac1c0002row5_col4 {\n",
              "            background-color:  #ccd9ed;\n",
              "            color:  #000000;\n",
              "        }    #T_351d2986_bc7e_11e9_bce5_0242ac1c0002row5_col5 {\n",
              "            background-color:  #b40426;\n",
              "            color:  #f1f1f1;\n",
              "        }    #T_351d2986_bc7e_11e9_bce5_0242ac1c0002row5_col6 {\n",
              "            background-color:  #5977e3;\n",
              "            color:  #000000;\n",
              "        }    #T_351d2986_bc7e_11e9_bce5_0242ac1c0002row5_col7 {\n",
              "            background-color:  #445acc;\n",
              "            color:  #f1f1f1;\n",
              "        }    #T_351d2986_bc7e_11e9_bce5_0242ac1c0002row5_col8 {\n",
              "            background-color:  #4055c8;\n",
              "            color:  #f1f1f1;\n",
              "        }    #T_351d2986_bc7e_11e9_bce5_0242ac1c0002row5_col9 {\n",
              "            background-color:  #5b7ae5;\n",
              "            color:  #000000;\n",
              "        }    #T_351d2986_bc7e_11e9_bce5_0242ac1c0002row6_col0 {\n",
              "            background-color:  #7a9df8;\n",
              "            color:  #000000;\n",
              "        }    #T_351d2986_bc7e_11e9_bce5_0242ac1c0002row6_col1 {\n",
              "            background-color:  #89acfd;\n",
              "            color:  #000000;\n",
              "        }    #T_351d2986_bc7e_11e9_bce5_0242ac1c0002row6_col2 {\n",
              "            background-color:  #4b64d5;\n",
              "            color:  #f1f1f1;\n",
              "        }    #T_351d2986_bc7e_11e9_bce5_0242ac1c0002row6_col3 {\n",
              "            background-color:  #5b7ae5;\n",
              "            color:  #000000;\n",
              "        }    #T_351d2986_bc7e_11e9_bce5_0242ac1c0002row6_col4 {\n",
              "            background-color:  #5673e0;\n",
              "            color:  #000000;\n",
              "        }    #T_351d2986_bc7e_11e9_bce5_0242ac1c0002row6_col5 {\n",
              "            background-color:  #5572df;\n",
              "            color:  #000000;\n",
              "        }    #T_351d2986_bc7e_11e9_bce5_0242ac1c0002row6_col6 {\n",
              "            background-color:  #b40426;\n",
              "            color:  #f1f1f1;\n",
              "        }    #T_351d2986_bc7e_11e9_bce5_0242ac1c0002row6_col7 {\n",
              "            background-color:  #4257c9;\n",
              "            color:  #f1f1f1;\n",
              "        }    #T_351d2986_bc7e_11e9_bce5_0242ac1c0002row6_col8 {\n",
              "            background-color:  #d4dbe6;\n",
              "            color:  #000000;\n",
              "        }    #T_351d2986_bc7e_11e9_bce5_0242ac1c0002row6_col9 {\n",
              "            background-color:  #516ddb;\n",
              "            color:  #000000;\n",
              "        }    #T_351d2986_bc7e_11e9_bce5_0242ac1c0002row7_col0 {\n",
              "            background-color:  #3b4cc0;\n",
              "            color:  #f1f1f1;\n",
              "        }    #T_351d2986_bc7e_11e9_bce5_0242ac1c0002row7_col1 {\n",
              "            background-color:  #4e68d8;\n",
              "            color:  #000000;\n",
              "        }    #T_351d2986_bc7e_11e9_bce5_0242ac1c0002row7_col2 {\n",
              "            background-color:  #445acc;\n",
              "            color:  #f1f1f1;\n",
              "        }    #T_351d2986_bc7e_11e9_bce5_0242ac1c0002row7_col3 {\n",
              "            background-color:  #506bda;\n",
              "            color:  #000000;\n",
              "        }    #T_351d2986_bc7e_11e9_bce5_0242ac1c0002row7_col4 {\n",
              "            background-color:  #3d50c3;\n",
              "            color:  #f1f1f1;\n",
              "        }    #T_351d2986_bc7e_11e9_bce5_0242ac1c0002row7_col5 {\n",
              "            background-color:  #3d50c3;\n",
              "            color:  #f1f1f1;\n",
              "        }    #T_351d2986_bc7e_11e9_bce5_0242ac1c0002row7_col6 {\n",
              "            background-color:  #3e51c5;\n",
              "            color:  #f1f1f1;\n",
              "        }    #T_351d2986_bc7e_11e9_bce5_0242ac1c0002row7_col7 {\n",
              "            background-color:  #b40426;\n",
              "            color:  #f1f1f1;\n",
              "        }    #T_351d2986_bc7e_11e9_bce5_0242ac1c0002row7_col8 {\n",
              "            background-color:  #4b64d5;\n",
              "            color:  #f1f1f1;\n",
              "        }    #T_351d2986_bc7e_11e9_bce5_0242ac1c0002row7_col9 {\n",
              "            background-color:  #9ebeff;\n",
              "            color:  #000000;\n",
              "        }    #T_351d2986_bc7e_11e9_bce5_0242ac1c0002row8_col0 {\n",
              "            background-color:  #bed2f6;\n",
              "            color:  #000000;\n",
              "        }    #T_351d2986_bc7e_11e9_bce5_0242ac1c0002row8_col1 {\n",
              "            background-color:  #88abfd;\n",
              "            color:  #000000;\n",
              "        }    #T_351d2986_bc7e_11e9_bce5_0242ac1c0002row8_col2 {\n",
              "            background-color:  #4f69d9;\n",
              "            color:  #000000;\n",
              "        }    #T_351d2986_bc7e_11e9_bce5_0242ac1c0002row8_col3 {\n",
              "            background-color:  #6b8df0;\n",
              "            color:  #000000;\n",
              "        }    #T_351d2986_bc7e_11e9_bce5_0242ac1c0002row8_col4 {\n",
              "            background-color:  #3d50c3;\n",
              "            color:  #f1f1f1;\n",
              "        }    #T_351d2986_bc7e_11e9_bce5_0242ac1c0002row8_col5 {\n",
              "            background-color:  #445acc;\n",
              "            color:  #f1f1f1;\n",
              "        }    #T_351d2986_bc7e_11e9_bce5_0242ac1c0002row8_col6 {\n",
              "            background-color:  #d8dce2;\n",
              "            color:  #000000;\n",
              "        }    #T_351d2986_bc7e_11e9_bce5_0242ac1c0002row8_col7 {\n",
              "            background-color:  #5673e0;\n",
              "            color:  #000000;\n",
              "        }    #T_351d2986_bc7e_11e9_bce5_0242ac1c0002row8_col8 {\n",
              "            background-color:  #b40426;\n",
              "            color:  #f1f1f1;\n",
              "        }    #T_351d2986_bc7e_11e9_bce5_0242ac1c0002row8_col9 {\n",
              "            background-color:  #90b2fe;\n",
              "            color:  #000000;\n",
              "        }    #T_351d2986_bc7e_11e9_bce5_0242ac1c0002row9_col0 {\n",
              "            background-color:  #4c66d6;\n",
              "            color:  #000000;\n",
              "        }    #T_351d2986_bc7e_11e9_bce5_0242ac1c0002row9_col1 {\n",
              "            background-color:  #3b4cc0;\n",
              "            color:  #f1f1f1;\n",
              "        }    #T_351d2986_bc7e_11e9_bce5_0242ac1c0002row9_col2 {\n",
              "            background-color:  #4c66d6;\n",
              "            color:  #000000;\n",
              "        }    #T_351d2986_bc7e_11e9_bce5_0242ac1c0002row9_col3 {\n",
              "            background-color:  #5e7de7;\n",
              "            color:  #000000;\n",
              "        }    #T_351d2986_bc7e_11e9_bce5_0242ac1c0002row9_col4 {\n",
              "            background-color:  #465ecf;\n",
              "            color:  #f1f1f1;\n",
              "        }    #T_351d2986_bc7e_11e9_bce5_0242ac1c0002row9_col5 {\n",
              "            background-color:  #4055c8;\n",
              "            color:  #f1f1f1;\n",
              "        }    #T_351d2986_bc7e_11e9_bce5_0242ac1c0002row9_col6 {\n",
              "            background-color:  #3b4cc0;\n",
              "            color:  #f1f1f1;\n",
              "        }    #T_351d2986_bc7e_11e9_bce5_0242ac1c0002row9_col7 {\n",
              "            background-color:  #8db0fe;\n",
              "            color:  #000000;\n",
              "        }    #T_351d2986_bc7e_11e9_bce5_0242ac1c0002row9_col8 {\n",
              "            background-color:  #7396f5;\n",
              "            color:  #000000;\n",
              "        }    #T_351d2986_bc7e_11e9_bce5_0242ac1c0002row9_col9 {\n",
              "            background-color:  #b40426;\n",
              "            color:  #f1f1f1;\n",
              "        }</style><table id=\"T_351d2986_bc7e_11e9_bce5_0242ac1c0002\" ><thead>    <tr>        <th class=\"blank level0\" ></th>        <th class=\"col_heading level0 col0\" >clicks_by_ip</th>        <th class=\"col_heading level0 col1\" >clicks_by_cntr</th>        <th class=\"col_heading level0 col2\" >clicks_by_referer</th>        <th class=\"col_heading level0 col3\" >clicks_by_category</th>        <th class=\"col_heading level0 col4\" >clicks_per_minute</th>        <th class=\"col_heading level0 col5\" >clicks_per_hour</th>        <th class=\"col_heading level0 col6\" >ip_cat_min_avg</th>        <th class=\"col_heading level0 col7\" >clicks_by_agent</th>        <th class=\"col_heading level0 col8\" >agent_ip_count</th>        <th class=\"col_heading level0 col9\" >agent_cntr_count</th>    </tr></thead><tbody>\n",
              "                <tr>\n",
              "                        <th id=\"T_351d2986_bc7e_11e9_bce5_0242ac1c0002level0_row0\" class=\"row_heading level0 row0\" >clicks_by_ip</th>\n",
              "                        <td id=\"T_351d2986_bc7e_11e9_bce5_0242ac1c0002row0_col0\" class=\"data row0 col0\" >1</td>\n",
              "                        <td id=\"T_351d2986_bc7e_11e9_bce5_0242ac1c0002row0_col1\" class=\"data row0 col1\" >0.03</td>\n",
              "                        <td id=\"T_351d2986_bc7e_11e9_bce5_0242ac1c0002row0_col2\" class=\"data row0 col2\" >0.055</td>\n",
              "                        <td id=\"T_351d2986_bc7e_11e9_bce5_0242ac1c0002row0_col3\" class=\"data row0 col3\" >0.087</td>\n",
              "                        <td id=\"T_351d2986_bc7e_11e9_bce5_0242ac1c0002row0_col4\" class=\"data row0 col4\" >0.086</td>\n",
              "                        <td id=\"T_351d2986_bc7e_11e9_bce5_0242ac1c0002row0_col5\" class=\"data row0 col5\" >0.083</td>\n",
              "                        <td id=\"T_351d2986_bc7e_11e9_bce5_0242ac1c0002row0_col6\" class=\"data row0 col6\" >0.18</td>\n",
              "                        <td id=\"T_351d2986_bc7e_11e9_bce5_0242ac1c0002row0_col7\" class=\"data row0 col7\" >-0.016</td>\n",
              "                        <td id=\"T_351d2986_bc7e_11e9_bce5_0242ac1c0002row0_col8\" class=\"data row0 col8\" >0.38</td>\n",
              "                        <td id=\"T_351d2986_bc7e_11e9_bce5_0242ac1c0002row0_col9\" class=\"data row0 col9\" >0.044</td>\n",
              "            </tr>\n",
              "            <tr>\n",
              "                        <th id=\"T_351d2986_bc7e_11e9_bce5_0242ac1c0002level0_row1\" class=\"row_heading level0 row1\" >clicks_by_cntr</th>\n",
              "                        <td id=\"T_351d2986_bc7e_11e9_bce5_0242ac1c0002row1_col0\" class=\"data row1 col0\" >0.03</td>\n",
              "                        <td id=\"T_351d2986_bc7e_11e9_bce5_0242ac1c0002row1_col1\" class=\"data row1 col1\" >1</td>\n",
              "                        <td id=\"T_351d2986_bc7e_11e9_bce5_0242ac1c0002row1_col2\" class=\"data row1 col2\" >-0.023</td>\n",
              "                        <td id=\"T_351d2986_bc7e_11e9_bce5_0242ac1c0002row1_col3\" class=\"data row1 col3\" >-0.07</td>\n",
              "                        <td id=\"T_351d2986_bc7e_11e9_bce5_0242ac1c0002row1_col4\" class=\"data row1 col4\" >-0.0092</td>\n",
              "                        <td id=\"T_351d2986_bc7e_11e9_bce5_0242ac1c0002row1_col5\" class=\"data row1 col5\" >0.013</td>\n",
              "                        <td id=\"T_351d2986_bc7e_11e9_bce5_0242ac1c0002row1_col6\" class=\"data row1 col6\" >0.16</td>\n",
              "                        <td id=\"T_351d2986_bc7e_11e9_bce5_0242ac1c0002row1_col7\" class=\"data row1 col7\" >-0.039</td>\n",
              "                        <td id=\"T_351d2986_bc7e_11e9_bce5_0242ac1c0002row1_col8\" class=\"data row1 col8\" >0.15</td>\n",
              "                        <td id=\"T_351d2986_bc7e_11e9_bce5_0242ac1c0002row1_col9\" class=\"data row1 col9\" >-0.11</td>\n",
              "            </tr>\n",
              "            <tr>\n",
              "                        <th id=\"T_351d2986_bc7e_11e9_bce5_0242ac1c0002level0_row2\" class=\"row_heading level0 row2\" >clicks_by_referer</th>\n",
              "                        <td id=\"T_351d2986_bc7e_11e9_bce5_0242ac1c0002row2_col0\" class=\"data row2 col0\" >0.055</td>\n",
              "                        <td id=\"T_351d2986_bc7e_11e9_bce5_0242ac1c0002row2_col1\" class=\"data row2 col1\" >-0.023</td>\n",
              "                        <td id=\"T_351d2986_bc7e_11e9_bce5_0242ac1c0002row2_col2\" class=\"data row2 col2\" >1</td>\n",
              "                        <td id=\"T_351d2986_bc7e_11e9_bce5_0242ac1c0002row2_col3\" class=\"data row2 col3\" >-0.035</td>\n",
              "                        <td id=\"T_351d2986_bc7e_11e9_bce5_0242ac1c0002row2_col4\" class=\"data row2 col4\" >0.062</td>\n",
              "                        <td id=\"T_351d2986_bc7e_11e9_bce5_0242ac1c0002row2_col5\" class=\"data row2 col5\" >0.038</td>\n",
              "                        <td id=\"T_351d2986_bc7e_11e9_bce5_0242ac1c0002row2_col6\" class=\"data row2 col6\" >0.025</td>\n",
              "                        <td id=\"T_351d2986_bc7e_11e9_bce5_0242ac1c0002row2_col7\" class=\"data row2 col7\" >-0.0021</td>\n",
              "                        <td id=\"T_351d2986_bc7e_11e9_bce5_0242ac1c0002row2_col8\" class=\"data row2 col8\" >0.038</td>\n",
              "                        <td id=\"T_351d2986_bc7e_11e9_bce5_0242ac1c0002row2_col9\" class=\"data row2 col9\" >0.028</td>\n",
              "            </tr>\n",
              "            <tr>\n",
              "                        <th id=\"T_351d2986_bc7e_11e9_bce5_0242ac1c0002level0_row3\" class=\"row_heading level0 row3\" >clicks_by_category</th>\n",
              "                        <td id=\"T_351d2986_bc7e_11e9_bce5_0242ac1c0002row3_col0\" class=\"data row3 col0\" >0.087</td>\n",
              "                        <td id=\"T_351d2986_bc7e_11e9_bce5_0242ac1c0002row3_col1\" class=\"data row3 col1\" >-0.07</td>\n",
              "                        <td id=\"T_351d2986_bc7e_11e9_bce5_0242ac1c0002row3_col2\" class=\"data row3 col2\" >-0.035</td>\n",
              "                        <td id=\"T_351d2986_bc7e_11e9_bce5_0242ac1c0002row3_col3\" class=\"data row3 col3\" >1</td>\n",
              "                        <td id=\"T_351d2986_bc7e_11e9_bce5_0242ac1c0002row3_col4\" class=\"data row3 col4\" >0.0079</td>\n",
              "                        <td id=\"T_351d2986_bc7e_11e9_bce5_0242ac1c0002row3_col5\" class=\"data row3 col5\" >-0.014</td>\n",
              "                        <td id=\"T_351d2986_bc7e_11e9_bce5_0242ac1c0002row3_col6\" class=\"data row3 col6\" >0.047</td>\n",
              "                        <td id=\"T_351d2986_bc7e_11e9_bce5_0242ac1c0002row3_col7\" class=\"data row3 col7\" >0.0092</td>\n",
              "                        <td id=\"T_351d2986_bc7e_11e9_bce5_0242ac1c0002row3_col8\" class=\"data row3 col8\" >0.097</td>\n",
              "                        <td id=\"T_351d2986_bc7e_11e9_bce5_0242ac1c0002row3_col9\" class=\"data row3 col9\" >0.055</td>\n",
              "            </tr>\n",
              "            <tr>\n",
              "                        <th id=\"T_351d2986_bc7e_11e9_bce5_0242ac1c0002level0_row4\" class=\"row_heading level0 row4\" >clicks_per_minute</th>\n",
              "                        <td id=\"T_351d2986_bc7e_11e9_bce5_0242ac1c0002row4_col0\" class=\"data row4 col0\" >0.086</td>\n",
              "                        <td id=\"T_351d2986_bc7e_11e9_bce5_0242ac1c0002row4_col1\" class=\"data row4 col1\" >-0.0092</td>\n",
              "                        <td id=\"T_351d2986_bc7e_11e9_bce5_0242ac1c0002row4_col2\" class=\"data row4 col2\" >0.062</td>\n",
              "                        <td id=\"T_351d2986_bc7e_11e9_bce5_0242ac1c0002row4_col3\" class=\"data row4 col3\" >0.0079</td>\n",
              "                        <td id=\"T_351d2986_bc7e_11e9_bce5_0242ac1c0002row4_col4\" class=\"data row4 col4\" >1</td>\n",
              "                        <td id=\"T_351d2986_bc7e_11e9_bce5_0242ac1c0002row4_col5\" class=\"data row4 col5\" >0.44</td>\n",
              "                        <td id=\"T_351d2986_bc7e_11e9_bce5_0242ac1c0002row4_col6\" class=\"data row4 col6\" >0.084</td>\n",
              "                        <td id=\"T_351d2986_bc7e_11e9_bce5_0242ac1c0002row4_col7\" class=\"data row4 col7\" >0.0014</td>\n",
              "                        <td id=\"T_351d2986_bc7e_11e9_bce5_0242ac1c0002row4_col8\" class=\"data row4 col8\" >-0.00042</td>\n",
              "                        <td id=\"T_351d2986_bc7e_11e9_bce5_0242ac1c0002row4_col9\" class=\"data row4 col9\" >0.034</td>\n",
              "            </tr>\n",
              "            <tr>\n",
              "                        <th id=\"T_351d2986_bc7e_11e9_bce5_0242ac1c0002level0_row5\" class=\"row_heading level0 row5\" >clicks_per_hour</th>\n",
              "                        <td id=\"T_351d2986_bc7e_11e9_bce5_0242ac1c0002row5_col0\" class=\"data row5 col0\" >0.083</td>\n",
              "                        <td id=\"T_351d2986_bc7e_11e9_bce5_0242ac1c0002row5_col1\" class=\"data row5 col1\" >0.013</td>\n",
              "                        <td id=\"T_351d2986_bc7e_11e9_bce5_0242ac1c0002row5_col2\" class=\"data row5 col2\" >0.038</td>\n",
              "                        <td id=\"T_351d2986_bc7e_11e9_bce5_0242ac1c0002row5_col3\" class=\"data row5 col3\" >-0.014</td>\n",
              "                        <td id=\"T_351d2986_bc7e_11e9_bce5_0242ac1c0002row5_col4\" class=\"data row5 col4\" >0.44</td>\n",
              "                        <td id=\"T_351d2986_bc7e_11e9_bce5_0242ac1c0002row5_col5\" class=\"data row5 col5\" >1</td>\n",
              "                        <td id=\"T_351d2986_bc7e_11e9_bce5_0242ac1c0002row5_col6\" class=\"data row5 col6\" >0.076</td>\n",
              "                        <td id=\"T_351d2986_bc7e_11e9_bce5_0242ac1c0002row5_col7\" class=\"data row5 col7\" >-0.0042</td>\n",
              "                        <td id=\"T_351d2986_bc7e_11e9_bce5_0242ac1c0002row5_col8\" class=\"data row5 col8\" >0.021</td>\n",
              "                        <td id=\"T_351d2986_bc7e_11e9_bce5_0242ac1c0002row5_col9\" class=\"data row5 col9\" >0.0092</td>\n",
              "            </tr>\n",
              "            <tr>\n",
              "                        <th id=\"T_351d2986_bc7e_11e9_bce5_0242ac1c0002level0_row6\" class=\"row_heading level0 row6\" >ip_cat_min_avg</th>\n",
              "                        <td id=\"T_351d2986_bc7e_11e9_bce5_0242ac1c0002row6_col0\" class=\"data row6 col0\" >0.18</td>\n",
              "                        <td id=\"T_351d2986_bc7e_11e9_bce5_0242ac1c0002row6_col1\" class=\"data row6 col1\" >0.16</td>\n",
              "                        <td id=\"T_351d2986_bc7e_11e9_bce5_0242ac1c0002row6_col2\" class=\"data row6 col2\" >0.025</td>\n",
              "                        <td id=\"T_351d2986_bc7e_11e9_bce5_0242ac1c0002row6_col3\" class=\"data row6 col3\" >0.047</td>\n",
              "                        <td id=\"T_351d2986_bc7e_11e9_bce5_0242ac1c0002row6_col4\" class=\"data row6 col4\" >0.084</td>\n",
              "                        <td id=\"T_351d2986_bc7e_11e9_bce5_0242ac1c0002row6_col5\" class=\"data row6 col5\" >0.076</td>\n",
              "                        <td id=\"T_351d2986_bc7e_11e9_bce5_0242ac1c0002row6_col6\" class=\"data row6 col6\" >1</td>\n",
              "                        <td id=\"T_351d2986_bc7e_11e9_bce5_0242ac1c0002row6_col7\" class=\"data row6 col7\" >-0.012</td>\n",
              "                        <td id=\"T_351d2986_bc7e_11e9_bce5_0242ac1c0002row6_col8\" class=\"data row6 col8\" >0.47</td>\n",
              "                        <td id=\"T_351d2986_bc7e_11e9_bce5_0242ac1c0002row6_col9\" class=\"data row6 col9\" >-0.028</td>\n",
              "            </tr>\n",
              "            <tr>\n",
              "                        <th id=\"T_351d2986_bc7e_11e9_bce5_0242ac1c0002level0_row7\" class=\"row_heading level0 row7\" >clicks_by_agent</th>\n",
              "                        <td id=\"T_351d2986_bc7e_11e9_bce5_0242ac1c0002row7_col0\" class=\"data row7 col0\" >-0.016</td>\n",
              "                        <td id=\"T_351d2986_bc7e_11e9_bce5_0242ac1c0002row7_col1\" class=\"data row7 col1\" >-0.039</td>\n",
              "                        <td id=\"T_351d2986_bc7e_11e9_bce5_0242ac1c0002row7_col2\" class=\"data row7 col2\" >-0.0021</td>\n",
              "                        <td id=\"T_351d2986_bc7e_11e9_bce5_0242ac1c0002row7_col3\" class=\"data row7 col3\" >0.0092</td>\n",
              "                        <td id=\"T_351d2986_bc7e_11e9_bce5_0242ac1c0002row7_col4\" class=\"data row7 col4\" >0.0014</td>\n",
              "                        <td id=\"T_351d2986_bc7e_11e9_bce5_0242ac1c0002row7_col5\" class=\"data row7 col5\" >-0.0042</td>\n",
              "                        <td id=\"T_351d2986_bc7e_11e9_bce5_0242ac1c0002row7_col6\" class=\"data row7 col6\" >-0.012</td>\n",
              "                        <td id=\"T_351d2986_bc7e_11e9_bce5_0242ac1c0002row7_col7\" class=\"data row7 col7\" >1</td>\n",
              "                        <td id=\"T_351d2986_bc7e_11e9_bce5_0242ac1c0002row7_col8\" class=\"data row7 col8\" >0.056</td>\n",
              "                        <td id=\"T_351d2986_bc7e_11e9_bce5_0242ac1c0002row7_col9\" class=\"data row7 col9\" >0.22</td>\n",
              "            </tr>\n",
              "            <tr>\n",
              "                        <th id=\"T_351d2986_bc7e_11e9_bce5_0242ac1c0002level0_row8\" class=\"row_heading level0 row8\" >agent_ip_count</th>\n",
              "                        <td id=\"T_351d2986_bc7e_11e9_bce5_0242ac1c0002row8_col0\" class=\"data row8 col0\" >0.38</td>\n",
              "                        <td id=\"T_351d2986_bc7e_11e9_bce5_0242ac1c0002row8_col1\" class=\"data row8 col1\" >0.15</td>\n",
              "                        <td id=\"T_351d2986_bc7e_11e9_bce5_0242ac1c0002row8_col2\" class=\"data row8 col2\" >0.038</td>\n",
              "                        <td id=\"T_351d2986_bc7e_11e9_bce5_0242ac1c0002row8_col3\" class=\"data row8 col3\" >0.097</td>\n",
              "                        <td id=\"T_351d2986_bc7e_11e9_bce5_0242ac1c0002row8_col4\" class=\"data row8 col4\" >-0.00042</td>\n",
              "                        <td id=\"T_351d2986_bc7e_11e9_bce5_0242ac1c0002row8_col5\" class=\"data row8 col5\" >0.021</td>\n",
              "                        <td id=\"T_351d2986_bc7e_11e9_bce5_0242ac1c0002row8_col6\" class=\"data row8 col6\" >0.47</td>\n",
              "                        <td id=\"T_351d2986_bc7e_11e9_bce5_0242ac1c0002row8_col7\" class=\"data row8 col7\" >0.056</td>\n",
              "                        <td id=\"T_351d2986_bc7e_11e9_bce5_0242ac1c0002row8_col8\" class=\"data row8 col8\" >1</td>\n",
              "                        <td id=\"T_351d2986_bc7e_11e9_bce5_0242ac1c0002row8_col9\" class=\"data row8 col9\" >0.18</td>\n",
              "            </tr>\n",
              "            <tr>\n",
              "                        <th id=\"T_351d2986_bc7e_11e9_bce5_0242ac1c0002level0_row9\" class=\"row_heading level0 row9\" >agent_cntr_count</th>\n",
              "                        <td id=\"T_351d2986_bc7e_11e9_bce5_0242ac1c0002row9_col0\" class=\"data row9 col0\" >0.044</td>\n",
              "                        <td id=\"T_351d2986_bc7e_11e9_bce5_0242ac1c0002row9_col1\" class=\"data row9 col1\" >-0.11</td>\n",
              "                        <td id=\"T_351d2986_bc7e_11e9_bce5_0242ac1c0002row9_col2\" class=\"data row9 col2\" >0.028</td>\n",
              "                        <td id=\"T_351d2986_bc7e_11e9_bce5_0242ac1c0002row9_col3\" class=\"data row9 col3\" >0.055</td>\n",
              "                        <td id=\"T_351d2986_bc7e_11e9_bce5_0242ac1c0002row9_col4\" class=\"data row9 col4\" >0.034</td>\n",
              "                        <td id=\"T_351d2986_bc7e_11e9_bce5_0242ac1c0002row9_col5\" class=\"data row9 col5\" >0.0092</td>\n",
              "                        <td id=\"T_351d2986_bc7e_11e9_bce5_0242ac1c0002row9_col6\" class=\"data row9 col6\" >-0.028</td>\n",
              "                        <td id=\"T_351d2986_bc7e_11e9_bce5_0242ac1c0002row9_col7\" class=\"data row9 col7\" >0.22</td>\n",
              "                        <td id=\"T_351d2986_bc7e_11e9_bce5_0242ac1c0002row9_col8\" class=\"data row9 col8\" >0.18</td>\n",
              "                        <td id=\"T_351d2986_bc7e_11e9_bce5_0242ac1c0002row9_col9\" class=\"data row9 col9\" >1</td>\n",
              "            </tr>\n",
              "    </tbody></table>"
            ],
            "text/plain": [
              "<pandas.io.formats.style.Styler at 0x7fb47e00d1d0>"
            ]
          },
          "metadata": {
            "tags": []
          },
          "execution_count": 136
        }
      ]
    },
    {
      "cell_type": "code",
      "metadata": {
        "id": "UBfDbWuht1Il",
        "colab_type": "code",
        "colab": {}
      },
      "source": [
        "x_train = x_train_temp[['clicks_by_ip', 'clicks_by_cntr',\n",
        "       'clicks_by_referer', 'clicks_by_category', 'clicks_per_minute',\n",
        "       'clicks_per_hour',  'ip_cat_min_avg', 'clicks_by_agent',\n",
        "       'agent_ip_count', 'agent_cntr_count']]\n",
        "\n",
        "x_test = x_test_temp[['clicks_by_ip', 'clicks_by_cntr',\n",
        "       'clicks_by_referer', 'clicks_by_category', 'clicks_per_minute',\n",
        "       'clicks_per_hour', 'ip_cat_min_avg', 'clicks_by_agent',\n",
        "       'agent_ip_count', 'agent_cntr_count']]"
      ],
      "execution_count": 0,
      "outputs": []
    },
    {
      "cell_type": "code",
      "metadata": {
        "id": "yekfi84QMs1t",
        "colab_type": "code",
        "colab": {}
      },
      "source": [
        "#from sklearn import preprocessing\n",
        "#mm_scaler = preprocessing.Normalizer(copy=False)\n",
        "#x_train = mm_scaler.fit_transform(x_train)\n",
        "#x_test = mm_scaler.transform(x_test)"
      ],
      "execution_count": 0,
      "outputs": []
    },
    {
      "cell_type": "code",
      "metadata": {
        "id": "bIhmcFUhSH8O",
        "colab_type": "code",
        "colab": {}
      },
      "source": [
        "from sklearn import preprocessing\n",
        "mm_scaler = preprocessing.MinMaxScaler()\n",
        "x_train = mm_scaler.fit_transform(x_train)\n",
        "x_test = mm_scaler.transform(x_test)"
      ],
      "execution_count": 0,
      "outputs": []
    },
    {
      "cell_type": "code",
      "metadata": {
        "id": "4U2kJ1TFVaO1",
        "colab_type": "code",
        "colab": {}
      },
      "source": [
        "x_train_df = pd.DataFrame(x_train)\n",
        "x_test_df = pd.DataFrame(x_test)"
      ],
      "execution_count": 0,
      "outputs": []
    },
    {
      "cell_type": "code",
      "metadata": {
        "id": "jTY9T1ewV7aq",
        "colab_type": "code",
        "colab": {}
      },
      "source": [
        "#x_train = x_train.reset_index(drop=True)\n",
        "#x_train_temp = x_train_temp.reset_index(drop=True)\n",
        "#x_train=x_train.join(x_train_temp)\n",
        "\n",
        "#x_train.head(5)"
      ],
      "execution_count": 0,
      "outputs": []
    },
    {
      "cell_type": "code",
      "metadata": {
        "id": "XA0_l4rJgQ7t",
        "colab_type": "code",
        "colab": {}
      },
      "source": [
        "#x_test = x_test.reset_index(drop=True)\n",
        "#x_test_temp = x_test_temp.reset_index(drop=True)\n",
        "#x_test=x_test.join(x_test_temp)\n",
        "\n",
        "#x_test.head(5)"
      ],
      "execution_count": 0,
      "outputs": []
    },
    {
      "cell_type": "code",
      "metadata": {
        "id": "8MJilZrngaMY",
        "colab_type": "code",
        "colab": {}
      },
      "source": [
        "#x_train = x_train.drop(cols,axis=1)\n",
        "#x_test = x_test.drop(cols,axis=1)"
      ],
      "execution_count": 0,
      "outputs": []
    },
    {
      "cell_type": "code",
      "metadata": {
        "id": "5-FytOSPi4s9",
        "colab_type": "code",
        "outputId": "b5c64c05-0de7-424f-da02-05d035896a24",
        "colab": {
          "base_uri": "https://localhost:8080/",
          "height": 163
        }
      },
      "source": [
        "x_train.dtypes"
      ],
      "execution_count": 127,
      "outputs": [
        {
          "output_type": "error",
          "ename": "AttributeError",
          "evalue": "ignored",
          "traceback": [
            "\u001b[0;31m---------------------------------------------------------------------------\u001b[0m",
            "\u001b[0;31mAttributeError\u001b[0m                            Traceback (most recent call last)",
            "\u001b[0;32m<ipython-input-127-4bb581a442f3>\u001b[0m in \u001b[0;36m<module>\u001b[0;34m()\u001b[0m\n\u001b[0;32m----> 1\u001b[0;31m \u001b[0mx_train\u001b[0m\u001b[0;34m.\u001b[0m\u001b[0mdtypes\u001b[0m\u001b[0;34m\u001b[0m\u001b[0;34m\u001b[0m\u001b[0m\n\u001b[0m",
            "\u001b[0;31mAttributeError\u001b[0m: 'numpy.ndarray' object has no attribute 'dtypes'"
          ]
        }
      ]
    },
    {
      "cell_type": "code",
      "metadata": {
        "id": "_T8rh5hBJKTe",
        "colab_type": "code",
        "colab": {}
      },
      "source": [
        "x_train_df.to_csv(path_or_buf ='/content/drive/My Drive/Practicum Data Set/x_train.csv',sep=',', header=True)\n",
        "x_test_df.to_csv(path_or_buf ='/content/drive/My Drive/Practicum Data Set/x_test.csv',sep=',', header=True)\n",
        "y_train.to_csv(path_or_buf ='/content/drive/My Drive/Practicum Data Set/y_train.csv',sep=',', header=True)\n",
        "y_test.to_csv(path_or_buf ='/content/drive/My Drive/Practicum Data Set/y_test.csv',sep=',', header=True)"
      ],
      "execution_count": 0,
      "outputs": []
    },
    {
      "cell_type": "code",
      "metadata": {
        "id": "JEPxjRnWoDry",
        "colab_type": "code",
        "outputId": "8adbbf8c-117e-42c2-8d14-6a3f349bb842",
        "colab": {
          "base_uri": "https://localhost:8080/",
          "height": 250
        }
      },
      "source": [
        "corr = x_train_df.corr()\n",
        "corr.style.background_gradient(cmap='coolwarm')\n",
        "corr.style.background_gradient(cmap='coolwarm').set_precision(2)"
      ],
      "execution_count": 128,
      "outputs": [
        {
          "output_type": "execute_result",
          "data": {
            "text/html": [
              "<style  type=\"text/css\" >\n",
              "    #T_957c2e56_bc7b_11e9_bce5_0242ac1c0002row0_col0 {\n",
              "            background-color:  #b40426;\n",
              "            color:  #f1f1f1;\n",
              "        }    #T_957c2e56_bc7b_11e9_bce5_0242ac1c0002row0_col1 {\n",
              "            background-color:  #6282ea;\n",
              "            color:  #000000;\n",
              "        }    #T_957c2e56_bc7b_11e9_bce5_0242ac1c0002row0_col2 {\n",
              "            background-color:  #5572df;\n",
              "            color:  #000000;\n",
              "        }    #T_957c2e56_bc7b_11e9_bce5_0242ac1c0002row0_col3 {\n",
              "            background-color:  #688aef;\n",
              "            color:  #000000;\n",
              "        }    #T_957c2e56_bc7b_11e9_bce5_0242ac1c0002row0_col4 {\n",
              "            background-color:  #5875e1;\n",
              "            color:  #000000;\n",
              "        }    #T_957c2e56_bc7b_11e9_bce5_0242ac1c0002row0_col5 {\n",
              "            background-color:  #5875e1;\n",
              "            color:  #000000;\n",
              "        }    #T_957c2e56_bc7b_11e9_bce5_0242ac1c0002row0_col6 {\n",
              "            background-color:  #7da0f9;\n",
              "            color:  #000000;\n",
              "        }    #T_957c2e56_bc7b_11e9_bce5_0242ac1c0002row0_col7 {\n",
              "            background-color:  #4055c8;\n",
              "            color:  #f1f1f1;\n",
              "        }    #T_957c2e56_bc7b_11e9_bce5_0242ac1c0002row0_col8 {\n",
              "            background-color:  #bad0f8;\n",
              "            color:  #000000;\n",
              "        }    #T_957c2e56_bc7b_11e9_bce5_0242ac1c0002row0_col9 {\n",
              "            background-color:  #6687ed;\n",
              "            color:  #000000;\n",
              "        }    #T_957c2e56_bc7b_11e9_bce5_0242ac1c0002row1_col0 {\n",
              "            background-color:  #485fd1;\n",
              "            color:  #f1f1f1;\n",
              "        }    #T_957c2e56_bc7b_11e9_bce5_0242ac1c0002row1_col1 {\n",
              "            background-color:  #b40426;\n",
              "            color:  #f1f1f1;\n",
              "        }    #T_957c2e56_bc7b_11e9_bce5_0242ac1c0002row1_col2 {\n",
              "            background-color:  #3d50c3;\n",
              "            color:  #f1f1f1;\n",
              "        }    #T_957c2e56_bc7b_11e9_bce5_0242ac1c0002row1_col3 {\n",
              "            background-color:  #3b4cc0;\n",
              "            color:  #f1f1f1;\n",
              "        }    #T_957c2e56_bc7b_11e9_bce5_0242ac1c0002row1_col4 {\n",
              "            background-color:  #3b4cc0;\n",
              "            color:  #f1f1f1;\n",
              "        }    #T_957c2e56_bc7b_11e9_bce5_0242ac1c0002row1_col5 {\n",
              "            background-color:  #4257c9;\n",
              "            color:  #f1f1f1;\n",
              "        }    #T_957c2e56_bc7b_11e9_bce5_0242ac1c0002row1_col6 {\n",
              "            background-color:  #7597f6;\n",
              "            color:  #000000;\n",
              "        }    #T_957c2e56_bc7b_11e9_bce5_0242ac1c0002row1_col7 {\n",
              "            background-color:  #3b4cc0;\n",
              "            color:  #f1f1f1;\n",
              "        }    #T_957c2e56_bc7b_11e9_bce5_0242ac1c0002row1_col8 {\n",
              "            background-color:  #6a8bef;\n",
              "            color:  #000000;\n",
              "        }    #T_957c2e56_bc7b_11e9_bce5_0242ac1c0002row1_col9 {\n",
              "            background-color:  #3b4cc0;\n",
              "            color:  #f1f1f1;\n",
              "        }    #T_957c2e56_bc7b_11e9_bce5_0242ac1c0002row2_col0 {\n",
              "            background-color:  #4f69d9;\n",
              "            color:  #000000;\n",
              "        }    #T_957c2e56_bc7b_11e9_bce5_0242ac1c0002row2_col1 {\n",
              "            background-color:  #536edd;\n",
              "            color:  #000000;\n",
              "        }    #T_957c2e56_bc7b_11e9_bce5_0242ac1c0002row2_col2 {\n",
              "            background-color:  #b40426;\n",
              "            color:  #f1f1f1;\n",
              "        }    #T_957c2e56_bc7b_11e9_bce5_0242ac1c0002row2_col3 {\n",
              "            background-color:  #445acc;\n",
              "            color:  #f1f1f1;\n",
              "        }    #T_957c2e56_bc7b_11e9_bce5_0242ac1c0002row2_col4 {\n",
              "            background-color:  #506bda;\n",
              "            color:  #000000;\n",
              "        }    #T_957c2e56_bc7b_11e9_bce5_0242ac1c0002row2_col5 {\n",
              "            background-color:  #4961d2;\n",
              "            color:  #f1f1f1;\n",
              "        }    #T_957c2e56_bc7b_11e9_bce5_0242ac1c0002row2_col6 {\n",
              "            background-color:  #4a63d3;\n",
              "            color:  #f1f1f1;\n",
              "        }    #T_957c2e56_bc7b_11e9_bce5_0242ac1c0002row2_col7 {\n",
              "            background-color:  #455cce;\n",
              "            color:  #f1f1f1;\n",
              "        }    #T_957c2e56_bc7b_11e9_bce5_0242ac1c0002row2_col8 {\n",
              "            background-color:  #455cce;\n",
              "            color:  #f1f1f1;\n",
              "        }    #T_957c2e56_bc7b_11e9_bce5_0242ac1c0002row2_col9 {\n",
              "            background-color:  #6282ea;\n",
              "            color:  #000000;\n",
              "        }    #T_957c2e56_bc7b_11e9_bce5_0242ac1c0002row3_col0 {\n",
              "            background-color:  #5977e3;\n",
              "            color:  #000000;\n",
              "        }    #T_957c2e56_bc7b_11e9_bce5_0242ac1c0002row3_col1 {\n",
              "            background-color:  #455cce;\n",
              "            color:  #f1f1f1;\n",
              "        }    #T_957c2e56_bc7b_11e9_bce5_0242ac1c0002row3_col2 {\n",
              "            background-color:  #3b4cc0;\n",
              "            color:  #f1f1f1;\n",
              "        }    #T_957c2e56_bc7b_11e9_bce5_0242ac1c0002row3_col3 {\n",
              "            background-color:  #b40426;\n",
              "            color:  #f1f1f1;\n",
              "        }    #T_957c2e56_bc7b_11e9_bce5_0242ac1c0002row3_col4 {\n",
              "            background-color:  #3f53c6;\n",
              "            color:  #f1f1f1;\n",
              "        }    #T_957c2e56_bc7b_11e9_bce5_0242ac1c0002row3_col5 {\n",
              "            background-color:  #3b4cc0;\n",
              "            color:  #f1f1f1;\n",
              "        }    #T_957c2e56_bc7b_11e9_bce5_0242ac1c0002row3_col6 {\n",
              "            background-color:  #506bda;\n",
              "            color:  #000000;\n",
              "        }    #T_957c2e56_bc7b_11e9_bce5_0242ac1c0002row3_col7 {\n",
              "            background-color:  #485fd1;\n",
              "            color:  #f1f1f1;\n",
              "        }    #T_957c2e56_bc7b_11e9_bce5_0242ac1c0002row3_col8 {\n",
              "            background-color:  #5977e3;\n",
              "            color:  #000000;\n",
              "        }    #T_957c2e56_bc7b_11e9_bce5_0242ac1c0002row3_col9 {\n",
              "            background-color:  #6a8bef;\n",
              "            color:  #000000;\n",
              "        }    #T_957c2e56_bc7b_11e9_bce5_0242ac1c0002row4_col0 {\n",
              "            background-color:  #5977e3;\n",
              "            color:  #000000;\n",
              "        }    #T_957c2e56_bc7b_11e9_bce5_0242ac1c0002row4_col1 {\n",
              "            background-color:  #5673e0;\n",
              "            color:  #000000;\n",
              "        }    #T_957c2e56_bc7b_11e9_bce5_0242ac1c0002row4_col2 {\n",
              "            background-color:  #5673e0;\n",
              "            color:  #000000;\n",
              "        }    #T_957c2e56_bc7b_11e9_bce5_0242ac1c0002row4_col3 {\n",
              "            background-color:  #506bda;\n",
              "            color:  #000000;\n",
              "        }    #T_957c2e56_bc7b_11e9_bce5_0242ac1c0002row4_col4 {\n",
              "            background-color:  #b40426;\n",
              "            color:  #f1f1f1;\n",
              "        }    #T_957c2e56_bc7b_11e9_bce5_0242ac1c0002row4_col5 {\n",
              "            background-color:  #cdd9ec;\n",
              "            color:  #000000;\n",
              "        }    #T_957c2e56_bc7b_11e9_bce5_0242ac1c0002row4_col6 {\n",
              "            background-color:  #5b7ae5;\n",
              "            color:  #000000;\n",
              "        }    #T_957c2e56_bc7b_11e9_bce5_0242ac1c0002row4_col7 {\n",
              "            background-color:  #455cce;\n",
              "            color:  #f1f1f1;\n",
              "        }    #T_957c2e56_bc7b_11e9_bce5_0242ac1c0002row4_col8 {\n",
              "            background-color:  #3b4cc0;\n",
              "            color:  #f1f1f1;\n",
              "        }    #T_957c2e56_bc7b_11e9_bce5_0242ac1c0002row4_col9 {\n",
              "            background-color:  #6384eb;\n",
              "            color:  #000000;\n",
              "        }    #T_957c2e56_bc7b_11e9_bce5_0242ac1c0002row5_col0 {\n",
              "            background-color:  #5875e1;\n",
              "            color:  #000000;\n",
              "        }    #T_957c2e56_bc7b_11e9_bce5_0242ac1c0002row5_col1 {\n",
              "            background-color:  #5d7ce6;\n",
              "            color:  #000000;\n",
              "        }    #T_957c2e56_bc7b_11e9_bce5_0242ac1c0002row5_col2 {\n",
              "            background-color:  #506bda;\n",
              "            color:  #000000;\n",
              "        }    #T_957c2e56_bc7b_11e9_bce5_0242ac1c0002row5_col3 {\n",
              "            background-color:  #4a63d3;\n",
              "            color:  #f1f1f1;\n",
              "        }    #T_957c2e56_bc7b_11e9_bce5_0242ac1c0002row5_col4 {\n",
              "            background-color:  #ccd9ed;\n",
              "            color:  #000000;\n",
              "        }    #T_957c2e56_bc7b_11e9_bce5_0242ac1c0002row5_col5 {\n",
              "            background-color:  #b40426;\n",
              "            color:  #f1f1f1;\n",
              "        }    #T_957c2e56_bc7b_11e9_bce5_0242ac1c0002row5_col6 {\n",
              "            background-color:  #5977e3;\n",
              "            color:  #000000;\n",
              "        }    #T_957c2e56_bc7b_11e9_bce5_0242ac1c0002row5_col7 {\n",
              "            background-color:  #445acc;\n",
              "            color:  #f1f1f1;\n",
              "        }    #T_957c2e56_bc7b_11e9_bce5_0242ac1c0002row5_col8 {\n",
              "            background-color:  #4055c8;\n",
              "            color:  #f1f1f1;\n",
              "        }    #T_957c2e56_bc7b_11e9_bce5_0242ac1c0002row5_col9 {\n",
              "            background-color:  #5b7ae5;\n",
              "            color:  #000000;\n",
              "        }    #T_957c2e56_bc7b_11e9_bce5_0242ac1c0002row6_col0 {\n",
              "            background-color:  #7a9df8;\n",
              "            color:  #000000;\n",
              "        }    #T_957c2e56_bc7b_11e9_bce5_0242ac1c0002row6_col1 {\n",
              "            background-color:  #89acfd;\n",
              "            color:  #000000;\n",
              "        }    #T_957c2e56_bc7b_11e9_bce5_0242ac1c0002row6_col2 {\n",
              "            background-color:  #4b64d5;\n",
              "            color:  #f1f1f1;\n",
              "        }    #T_957c2e56_bc7b_11e9_bce5_0242ac1c0002row6_col3 {\n",
              "            background-color:  #5b7ae5;\n",
              "            color:  #000000;\n",
              "        }    #T_957c2e56_bc7b_11e9_bce5_0242ac1c0002row6_col4 {\n",
              "            background-color:  #5673e0;\n",
              "            color:  #000000;\n",
              "        }    #T_957c2e56_bc7b_11e9_bce5_0242ac1c0002row6_col5 {\n",
              "            background-color:  #5572df;\n",
              "            color:  #000000;\n",
              "        }    #T_957c2e56_bc7b_11e9_bce5_0242ac1c0002row6_col6 {\n",
              "            background-color:  #b40426;\n",
              "            color:  #f1f1f1;\n",
              "        }    #T_957c2e56_bc7b_11e9_bce5_0242ac1c0002row6_col7 {\n",
              "            background-color:  #4257c9;\n",
              "            color:  #f1f1f1;\n",
              "        }    #T_957c2e56_bc7b_11e9_bce5_0242ac1c0002row6_col8 {\n",
              "            background-color:  #d4dbe6;\n",
              "            color:  #000000;\n",
              "        }    #T_957c2e56_bc7b_11e9_bce5_0242ac1c0002row6_col9 {\n",
              "            background-color:  #516ddb;\n",
              "            color:  #000000;\n",
              "        }    #T_957c2e56_bc7b_11e9_bce5_0242ac1c0002row7_col0 {\n",
              "            background-color:  #3b4cc0;\n",
              "            color:  #f1f1f1;\n",
              "        }    #T_957c2e56_bc7b_11e9_bce5_0242ac1c0002row7_col1 {\n",
              "            background-color:  #4e68d8;\n",
              "            color:  #000000;\n",
              "        }    #T_957c2e56_bc7b_11e9_bce5_0242ac1c0002row7_col2 {\n",
              "            background-color:  #445acc;\n",
              "            color:  #f1f1f1;\n",
              "        }    #T_957c2e56_bc7b_11e9_bce5_0242ac1c0002row7_col3 {\n",
              "            background-color:  #506bda;\n",
              "            color:  #000000;\n",
              "        }    #T_957c2e56_bc7b_11e9_bce5_0242ac1c0002row7_col4 {\n",
              "            background-color:  #3d50c3;\n",
              "            color:  #f1f1f1;\n",
              "        }    #T_957c2e56_bc7b_11e9_bce5_0242ac1c0002row7_col5 {\n",
              "            background-color:  #3d50c3;\n",
              "            color:  #f1f1f1;\n",
              "        }    #T_957c2e56_bc7b_11e9_bce5_0242ac1c0002row7_col6 {\n",
              "            background-color:  #3e51c5;\n",
              "            color:  #f1f1f1;\n",
              "        }    #T_957c2e56_bc7b_11e9_bce5_0242ac1c0002row7_col7 {\n",
              "            background-color:  #b40426;\n",
              "            color:  #f1f1f1;\n",
              "        }    #T_957c2e56_bc7b_11e9_bce5_0242ac1c0002row7_col8 {\n",
              "            background-color:  #4b64d5;\n",
              "            color:  #f1f1f1;\n",
              "        }    #T_957c2e56_bc7b_11e9_bce5_0242ac1c0002row7_col9 {\n",
              "            background-color:  #9ebeff;\n",
              "            color:  #000000;\n",
              "        }    #T_957c2e56_bc7b_11e9_bce5_0242ac1c0002row8_col0 {\n",
              "            background-color:  #bed2f6;\n",
              "            color:  #000000;\n",
              "        }    #T_957c2e56_bc7b_11e9_bce5_0242ac1c0002row8_col1 {\n",
              "            background-color:  #88abfd;\n",
              "            color:  #000000;\n",
              "        }    #T_957c2e56_bc7b_11e9_bce5_0242ac1c0002row8_col2 {\n",
              "            background-color:  #4f69d9;\n",
              "            color:  #000000;\n",
              "        }    #T_957c2e56_bc7b_11e9_bce5_0242ac1c0002row8_col3 {\n",
              "            background-color:  #6b8df0;\n",
              "            color:  #000000;\n",
              "        }    #T_957c2e56_bc7b_11e9_bce5_0242ac1c0002row8_col4 {\n",
              "            background-color:  #3d50c3;\n",
              "            color:  #f1f1f1;\n",
              "        }    #T_957c2e56_bc7b_11e9_bce5_0242ac1c0002row8_col5 {\n",
              "            background-color:  #445acc;\n",
              "            color:  #f1f1f1;\n",
              "        }    #T_957c2e56_bc7b_11e9_bce5_0242ac1c0002row8_col6 {\n",
              "            background-color:  #d8dce2;\n",
              "            color:  #000000;\n",
              "        }    #T_957c2e56_bc7b_11e9_bce5_0242ac1c0002row8_col7 {\n",
              "            background-color:  #5673e0;\n",
              "            color:  #000000;\n",
              "        }    #T_957c2e56_bc7b_11e9_bce5_0242ac1c0002row8_col8 {\n",
              "            background-color:  #b40426;\n",
              "            color:  #f1f1f1;\n",
              "        }    #T_957c2e56_bc7b_11e9_bce5_0242ac1c0002row8_col9 {\n",
              "            background-color:  #90b2fe;\n",
              "            color:  #000000;\n",
              "        }    #T_957c2e56_bc7b_11e9_bce5_0242ac1c0002row9_col0 {\n",
              "            background-color:  #4c66d6;\n",
              "            color:  #000000;\n",
              "        }    #T_957c2e56_bc7b_11e9_bce5_0242ac1c0002row9_col1 {\n",
              "            background-color:  #3b4cc0;\n",
              "            color:  #f1f1f1;\n",
              "        }    #T_957c2e56_bc7b_11e9_bce5_0242ac1c0002row9_col2 {\n",
              "            background-color:  #4c66d6;\n",
              "            color:  #000000;\n",
              "        }    #T_957c2e56_bc7b_11e9_bce5_0242ac1c0002row9_col3 {\n",
              "            background-color:  #5e7de7;\n",
              "            color:  #000000;\n",
              "        }    #T_957c2e56_bc7b_11e9_bce5_0242ac1c0002row9_col4 {\n",
              "            background-color:  #465ecf;\n",
              "            color:  #f1f1f1;\n",
              "        }    #T_957c2e56_bc7b_11e9_bce5_0242ac1c0002row9_col5 {\n",
              "            background-color:  #4055c8;\n",
              "            color:  #f1f1f1;\n",
              "        }    #T_957c2e56_bc7b_11e9_bce5_0242ac1c0002row9_col6 {\n",
              "            background-color:  #3b4cc0;\n",
              "            color:  #f1f1f1;\n",
              "        }    #T_957c2e56_bc7b_11e9_bce5_0242ac1c0002row9_col7 {\n",
              "            background-color:  #8db0fe;\n",
              "            color:  #000000;\n",
              "        }    #T_957c2e56_bc7b_11e9_bce5_0242ac1c0002row9_col8 {\n",
              "            background-color:  #7396f5;\n",
              "            color:  #000000;\n",
              "        }    #T_957c2e56_bc7b_11e9_bce5_0242ac1c0002row9_col9 {\n",
              "            background-color:  #b40426;\n",
              "            color:  #f1f1f1;\n",
              "        }</style><table id=\"T_957c2e56_bc7b_11e9_bce5_0242ac1c0002\" ><thead>    <tr>        <th class=\"blank level0\" ></th>        <th class=\"col_heading level0 col0\" >0</th>        <th class=\"col_heading level0 col1\" >1</th>        <th class=\"col_heading level0 col2\" >2</th>        <th class=\"col_heading level0 col3\" >3</th>        <th class=\"col_heading level0 col4\" >4</th>        <th class=\"col_heading level0 col5\" >5</th>        <th class=\"col_heading level0 col6\" >6</th>        <th class=\"col_heading level0 col7\" >7</th>        <th class=\"col_heading level0 col8\" >8</th>        <th class=\"col_heading level0 col9\" >9</th>    </tr></thead><tbody>\n",
              "                <tr>\n",
              "                        <th id=\"T_957c2e56_bc7b_11e9_bce5_0242ac1c0002level0_row0\" class=\"row_heading level0 row0\" >0</th>\n",
              "                        <td id=\"T_957c2e56_bc7b_11e9_bce5_0242ac1c0002row0_col0\" class=\"data row0 col0\" >1</td>\n",
              "                        <td id=\"T_957c2e56_bc7b_11e9_bce5_0242ac1c0002row0_col1\" class=\"data row0 col1\" >0.03</td>\n",
              "                        <td id=\"T_957c2e56_bc7b_11e9_bce5_0242ac1c0002row0_col2\" class=\"data row0 col2\" >0.055</td>\n",
              "                        <td id=\"T_957c2e56_bc7b_11e9_bce5_0242ac1c0002row0_col3\" class=\"data row0 col3\" >0.087</td>\n",
              "                        <td id=\"T_957c2e56_bc7b_11e9_bce5_0242ac1c0002row0_col4\" class=\"data row0 col4\" >0.086</td>\n",
              "                        <td id=\"T_957c2e56_bc7b_11e9_bce5_0242ac1c0002row0_col5\" class=\"data row0 col5\" >0.083</td>\n",
              "                        <td id=\"T_957c2e56_bc7b_11e9_bce5_0242ac1c0002row0_col6\" class=\"data row0 col6\" >0.18</td>\n",
              "                        <td id=\"T_957c2e56_bc7b_11e9_bce5_0242ac1c0002row0_col7\" class=\"data row0 col7\" >-0.016</td>\n",
              "                        <td id=\"T_957c2e56_bc7b_11e9_bce5_0242ac1c0002row0_col8\" class=\"data row0 col8\" >0.38</td>\n",
              "                        <td id=\"T_957c2e56_bc7b_11e9_bce5_0242ac1c0002row0_col9\" class=\"data row0 col9\" >0.044</td>\n",
              "            </tr>\n",
              "            <tr>\n",
              "                        <th id=\"T_957c2e56_bc7b_11e9_bce5_0242ac1c0002level0_row1\" class=\"row_heading level0 row1\" >1</th>\n",
              "                        <td id=\"T_957c2e56_bc7b_11e9_bce5_0242ac1c0002row1_col0\" class=\"data row1 col0\" >0.03</td>\n",
              "                        <td id=\"T_957c2e56_bc7b_11e9_bce5_0242ac1c0002row1_col1\" class=\"data row1 col1\" >1</td>\n",
              "                        <td id=\"T_957c2e56_bc7b_11e9_bce5_0242ac1c0002row1_col2\" class=\"data row1 col2\" >-0.023</td>\n",
              "                        <td id=\"T_957c2e56_bc7b_11e9_bce5_0242ac1c0002row1_col3\" class=\"data row1 col3\" >-0.07</td>\n",
              "                        <td id=\"T_957c2e56_bc7b_11e9_bce5_0242ac1c0002row1_col4\" class=\"data row1 col4\" >-0.0092</td>\n",
              "                        <td id=\"T_957c2e56_bc7b_11e9_bce5_0242ac1c0002row1_col5\" class=\"data row1 col5\" >0.013</td>\n",
              "                        <td id=\"T_957c2e56_bc7b_11e9_bce5_0242ac1c0002row1_col6\" class=\"data row1 col6\" >0.16</td>\n",
              "                        <td id=\"T_957c2e56_bc7b_11e9_bce5_0242ac1c0002row1_col7\" class=\"data row1 col7\" >-0.039</td>\n",
              "                        <td id=\"T_957c2e56_bc7b_11e9_bce5_0242ac1c0002row1_col8\" class=\"data row1 col8\" >0.15</td>\n",
              "                        <td id=\"T_957c2e56_bc7b_11e9_bce5_0242ac1c0002row1_col9\" class=\"data row1 col9\" >-0.11</td>\n",
              "            </tr>\n",
              "            <tr>\n",
              "                        <th id=\"T_957c2e56_bc7b_11e9_bce5_0242ac1c0002level0_row2\" class=\"row_heading level0 row2\" >2</th>\n",
              "                        <td id=\"T_957c2e56_bc7b_11e9_bce5_0242ac1c0002row2_col0\" class=\"data row2 col0\" >0.055</td>\n",
              "                        <td id=\"T_957c2e56_bc7b_11e9_bce5_0242ac1c0002row2_col1\" class=\"data row2 col1\" >-0.023</td>\n",
              "                        <td id=\"T_957c2e56_bc7b_11e9_bce5_0242ac1c0002row2_col2\" class=\"data row2 col2\" >1</td>\n",
              "                        <td id=\"T_957c2e56_bc7b_11e9_bce5_0242ac1c0002row2_col3\" class=\"data row2 col3\" >-0.035</td>\n",
              "                        <td id=\"T_957c2e56_bc7b_11e9_bce5_0242ac1c0002row2_col4\" class=\"data row2 col4\" >0.062</td>\n",
              "                        <td id=\"T_957c2e56_bc7b_11e9_bce5_0242ac1c0002row2_col5\" class=\"data row2 col5\" >0.038</td>\n",
              "                        <td id=\"T_957c2e56_bc7b_11e9_bce5_0242ac1c0002row2_col6\" class=\"data row2 col6\" >0.025</td>\n",
              "                        <td id=\"T_957c2e56_bc7b_11e9_bce5_0242ac1c0002row2_col7\" class=\"data row2 col7\" >-0.0021</td>\n",
              "                        <td id=\"T_957c2e56_bc7b_11e9_bce5_0242ac1c0002row2_col8\" class=\"data row2 col8\" >0.038</td>\n",
              "                        <td id=\"T_957c2e56_bc7b_11e9_bce5_0242ac1c0002row2_col9\" class=\"data row2 col9\" >0.028</td>\n",
              "            </tr>\n",
              "            <tr>\n",
              "                        <th id=\"T_957c2e56_bc7b_11e9_bce5_0242ac1c0002level0_row3\" class=\"row_heading level0 row3\" >3</th>\n",
              "                        <td id=\"T_957c2e56_bc7b_11e9_bce5_0242ac1c0002row3_col0\" class=\"data row3 col0\" >0.087</td>\n",
              "                        <td id=\"T_957c2e56_bc7b_11e9_bce5_0242ac1c0002row3_col1\" class=\"data row3 col1\" >-0.07</td>\n",
              "                        <td id=\"T_957c2e56_bc7b_11e9_bce5_0242ac1c0002row3_col2\" class=\"data row3 col2\" >-0.035</td>\n",
              "                        <td id=\"T_957c2e56_bc7b_11e9_bce5_0242ac1c0002row3_col3\" class=\"data row3 col3\" >1</td>\n",
              "                        <td id=\"T_957c2e56_bc7b_11e9_bce5_0242ac1c0002row3_col4\" class=\"data row3 col4\" >0.0079</td>\n",
              "                        <td id=\"T_957c2e56_bc7b_11e9_bce5_0242ac1c0002row3_col5\" class=\"data row3 col5\" >-0.014</td>\n",
              "                        <td id=\"T_957c2e56_bc7b_11e9_bce5_0242ac1c0002row3_col6\" class=\"data row3 col6\" >0.047</td>\n",
              "                        <td id=\"T_957c2e56_bc7b_11e9_bce5_0242ac1c0002row3_col7\" class=\"data row3 col7\" >0.0092</td>\n",
              "                        <td id=\"T_957c2e56_bc7b_11e9_bce5_0242ac1c0002row3_col8\" class=\"data row3 col8\" >0.097</td>\n",
              "                        <td id=\"T_957c2e56_bc7b_11e9_bce5_0242ac1c0002row3_col9\" class=\"data row3 col9\" >0.055</td>\n",
              "            </tr>\n",
              "            <tr>\n",
              "                        <th id=\"T_957c2e56_bc7b_11e9_bce5_0242ac1c0002level0_row4\" class=\"row_heading level0 row4\" >4</th>\n",
              "                        <td id=\"T_957c2e56_bc7b_11e9_bce5_0242ac1c0002row4_col0\" class=\"data row4 col0\" >0.086</td>\n",
              "                        <td id=\"T_957c2e56_bc7b_11e9_bce5_0242ac1c0002row4_col1\" class=\"data row4 col1\" >-0.0092</td>\n",
              "                        <td id=\"T_957c2e56_bc7b_11e9_bce5_0242ac1c0002row4_col2\" class=\"data row4 col2\" >0.062</td>\n",
              "                        <td id=\"T_957c2e56_bc7b_11e9_bce5_0242ac1c0002row4_col3\" class=\"data row4 col3\" >0.0079</td>\n",
              "                        <td id=\"T_957c2e56_bc7b_11e9_bce5_0242ac1c0002row4_col4\" class=\"data row4 col4\" >1</td>\n",
              "                        <td id=\"T_957c2e56_bc7b_11e9_bce5_0242ac1c0002row4_col5\" class=\"data row4 col5\" >0.44</td>\n",
              "                        <td id=\"T_957c2e56_bc7b_11e9_bce5_0242ac1c0002row4_col6\" class=\"data row4 col6\" >0.084</td>\n",
              "                        <td id=\"T_957c2e56_bc7b_11e9_bce5_0242ac1c0002row4_col7\" class=\"data row4 col7\" >0.0014</td>\n",
              "                        <td id=\"T_957c2e56_bc7b_11e9_bce5_0242ac1c0002row4_col8\" class=\"data row4 col8\" >-0.00042</td>\n",
              "                        <td id=\"T_957c2e56_bc7b_11e9_bce5_0242ac1c0002row4_col9\" class=\"data row4 col9\" >0.034</td>\n",
              "            </tr>\n",
              "            <tr>\n",
              "                        <th id=\"T_957c2e56_bc7b_11e9_bce5_0242ac1c0002level0_row5\" class=\"row_heading level0 row5\" >5</th>\n",
              "                        <td id=\"T_957c2e56_bc7b_11e9_bce5_0242ac1c0002row5_col0\" class=\"data row5 col0\" >0.083</td>\n",
              "                        <td id=\"T_957c2e56_bc7b_11e9_bce5_0242ac1c0002row5_col1\" class=\"data row5 col1\" >0.013</td>\n",
              "                        <td id=\"T_957c2e56_bc7b_11e9_bce5_0242ac1c0002row5_col2\" class=\"data row5 col2\" >0.038</td>\n",
              "                        <td id=\"T_957c2e56_bc7b_11e9_bce5_0242ac1c0002row5_col3\" class=\"data row5 col3\" >-0.014</td>\n",
              "                        <td id=\"T_957c2e56_bc7b_11e9_bce5_0242ac1c0002row5_col4\" class=\"data row5 col4\" >0.44</td>\n",
              "                        <td id=\"T_957c2e56_bc7b_11e9_bce5_0242ac1c0002row5_col5\" class=\"data row5 col5\" >1</td>\n",
              "                        <td id=\"T_957c2e56_bc7b_11e9_bce5_0242ac1c0002row5_col6\" class=\"data row5 col6\" >0.076</td>\n",
              "                        <td id=\"T_957c2e56_bc7b_11e9_bce5_0242ac1c0002row5_col7\" class=\"data row5 col7\" >-0.0042</td>\n",
              "                        <td id=\"T_957c2e56_bc7b_11e9_bce5_0242ac1c0002row5_col8\" class=\"data row5 col8\" >0.021</td>\n",
              "                        <td id=\"T_957c2e56_bc7b_11e9_bce5_0242ac1c0002row5_col9\" class=\"data row5 col9\" >0.0092</td>\n",
              "            </tr>\n",
              "            <tr>\n",
              "                        <th id=\"T_957c2e56_bc7b_11e9_bce5_0242ac1c0002level0_row6\" class=\"row_heading level0 row6\" >6</th>\n",
              "                        <td id=\"T_957c2e56_bc7b_11e9_bce5_0242ac1c0002row6_col0\" class=\"data row6 col0\" >0.18</td>\n",
              "                        <td id=\"T_957c2e56_bc7b_11e9_bce5_0242ac1c0002row6_col1\" class=\"data row6 col1\" >0.16</td>\n",
              "                        <td id=\"T_957c2e56_bc7b_11e9_bce5_0242ac1c0002row6_col2\" class=\"data row6 col2\" >0.025</td>\n",
              "                        <td id=\"T_957c2e56_bc7b_11e9_bce5_0242ac1c0002row6_col3\" class=\"data row6 col3\" >0.047</td>\n",
              "                        <td id=\"T_957c2e56_bc7b_11e9_bce5_0242ac1c0002row6_col4\" class=\"data row6 col4\" >0.084</td>\n",
              "                        <td id=\"T_957c2e56_bc7b_11e9_bce5_0242ac1c0002row6_col5\" class=\"data row6 col5\" >0.076</td>\n",
              "                        <td id=\"T_957c2e56_bc7b_11e9_bce5_0242ac1c0002row6_col6\" class=\"data row6 col6\" >1</td>\n",
              "                        <td id=\"T_957c2e56_bc7b_11e9_bce5_0242ac1c0002row6_col7\" class=\"data row6 col7\" >-0.012</td>\n",
              "                        <td id=\"T_957c2e56_bc7b_11e9_bce5_0242ac1c0002row6_col8\" class=\"data row6 col8\" >0.47</td>\n",
              "                        <td id=\"T_957c2e56_bc7b_11e9_bce5_0242ac1c0002row6_col9\" class=\"data row6 col9\" >-0.028</td>\n",
              "            </tr>\n",
              "            <tr>\n",
              "                        <th id=\"T_957c2e56_bc7b_11e9_bce5_0242ac1c0002level0_row7\" class=\"row_heading level0 row7\" >7</th>\n",
              "                        <td id=\"T_957c2e56_bc7b_11e9_bce5_0242ac1c0002row7_col0\" class=\"data row7 col0\" >-0.016</td>\n",
              "                        <td id=\"T_957c2e56_bc7b_11e9_bce5_0242ac1c0002row7_col1\" class=\"data row7 col1\" >-0.039</td>\n",
              "                        <td id=\"T_957c2e56_bc7b_11e9_bce5_0242ac1c0002row7_col2\" class=\"data row7 col2\" >-0.0021</td>\n",
              "                        <td id=\"T_957c2e56_bc7b_11e9_bce5_0242ac1c0002row7_col3\" class=\"data row7 col3\" >0.0092</td>\n",
              "                        <td id=\"T_957c2e56_bc7b_11e9_bce5_0242ac1c0002row7_col4\" class=\"data row7 col4\" >0.0014</td>\n",
              "                        <td id=\"T_957c2e56_bc7b_11e9_bce5_0242ac1c0002row7_col5\" class=\"data row7 col5\" >-0.0042</td>\n",
              "                        <td id=\"T_957c2e56_bc7b_11e9_bce5_0242ac1c0002row7_col6\" class=\"data row7 col6\" >-0.012</td>\n",
              "                        <td id=\"T_957c2e56_bc7b_11e9_bce5_0242ac1c0002row7_col7\" class=\"data row7 col7\" >1</td>\n",
              "                        <td id=\"T_957c2e56_bc7b_11e9_bce5_0242ac1c0002row7_col8\" class=\"data row7 col8\" >0.056</td>\n",
              "                        <td id=\"T_957c2e56_bc7b_11e9_bce5_0242ac1c0002row7_col9\" class=\"data row7 col9\" >0.22</td>\n",
              "            </tr>\n",
              "            <tr>\n",
              "                        <th id=\"T_957c2e56_bc7b_11e9_bce5_0242ac1c0002level0_row8\" class=\"row_heading level0 row8\" >8</th>\n",
              "                        <td id=\"T_957c2e56_bc7b_11e9_bce5_0242ac1c0002row8_col0\" class=\"data row8 col0\" >0.38</td>\n",
              "                        <td id=\"T_957c2e56_bc7b_11e9_bce5_0242ac1c0002row8_col1\" class=\"data row8 col1\" >0.15</td>\n",
              "                        <td id=\"T_957c2e56_bc7b_11e9_bce5_0242ac1c0002row8_col2\" class=\"data row8 col2\" >0.038</td>\n",
              "                        <td id=\"T_957c2e56_bc7b_11e9_bce5_0242ac1c0002row8_col3\" class=\"data row8 col3\" >0.097</td>\n",
              "                        <td id=\"T_957c2e56_bc7b_11e9_bce5_0242ac1c0002row8_col4\" class=\"data row8 col4\" >-0.00042</td>\n",
              "                        <td id=\"T_957c2e56_bc7b_11e9_bce5_0242ac1c0002row8_col5\" class=\"data row8 col5\" >0.021</td>\n",
              "                        <td id=\"T_957c2e56_bc7b_11e9_bce5_0242ac1c0002row8_col6\" class=\"data row8 col6\" >0.47</td>\n",
              "                        <td id=\"T_957c2e56_bc7b_11e9_bce5_0242ac1c0002row8_col7\" class=\"data row8 col7\" >0.056</td>\n",
              "                        <td id=\"T_957c2e56_bc7b_11e9_bce5_0242ac1c0002row8_col8\" class=\"data row8 col8\" >1</td>\n",
              "                        <td id=\"T_957c2e56_bc7b_11e9_bce5_0242ac1c0002row8_col9\" class=\"data row8 col9\" >0.18</td>\n",
              "            </tr>\n",
              "            <tr>\n",
              "                        <th id=\"T_957c2e56_bc7b_11e9_bce5_0242ac1c0002level0_row9\" class=\"row_heading level0 row9\" >9</th>\n",
              "                        <td id=\"T_957c2e56_bc7b_11e9_bce5_0242ac1c0002row9_col0\" class=\"data row9 col0\" >0.044</td>\n",
              "                        <td id=\"T_957c2e56_bc7b_11e9_bce5_0242ac1c0002row9_col1\" class=\"data row9 col1\" >-0.11</td>\n",
              "                        <td id=\"T_957c2e56_bc7b_11e9_bce5_0242ac1c0002row9_col2\" class=\"data row9 col2\" >0.028</td>\n",
              "                        <td id=\"T_957c2e56_bc7b_11e9_bce5_0242ac1c0002row9_col3\" class=\"data row9 col3\" >0.055</td>\n",
              "                        <td id=\"T_957c2e56_bc7b_11e9_bce5_0242ac1c0002row9_col4\" class=\"data row9 col4\" >0.034</td>\n",
              "                        <td id=\"T_957c2e56_bc7b_11e9_bce5_0242ac1c0002row9_col5\" class=\"data row9 col5\" >0.0092</td>\n",
              "                        <td id=\"T_957c2e56_bc7b_11e9_bce5_0242ac1c0002row9_col6\" class=\"data row9 col6\" >-0.028</td>\n",
              "                        <td id=\"T_957c2e56_bc7b_11e9_bce5_0242ac1c0002row9_col7\" class=\"data row9 col7\" >0.22</td>\n",
              "                        <td id=\"T_957c2e56_bc7b_11e9_bce5_0242ac1c0002row9_col8\" class=\"data row9 col8\" >0.18</td>\n",
              "                        <td id=\"T_957c2e56_bc7b_11e9_bce5_0242ac1c0002row9_col9\" class=\"data row9 col9\" >1</td>\n",
              "            </tr>\n",
              "    </tbody></table>"
            ],
            "text/plain": [
              "<pandas.io.formats.style.Styler at 0x7fb408db22e8>"
            ]
          },
          "metadata": {
            "tags": []
          },
          "execution_count": 128
        }
      ]
    },
    {
      "cell_type": "markdown",
      "metadata": {
        "id": "r42E4tAKKD5N",
        "colab_type": "text"
      },
      "source": [
        "## Modelling"
      ]
    },
    {
      "cell_type": "code",
      "metadata": {
        "id": "E7pew4cnJX_D",
        "colab_type": "code",
        "colab": {}
      },
      "source": [
        "x_train = pd.read_csv('/content/drive/My Drive/Practicum Data Set/x_train.csv', index_col=0)"
      ],
      "execution_count": 0,
      "outputs": []
    },
    {
      "cell_type": "code",
      "metadata": {
        "id": "plklbZcL0Rxn",
        "colab_type": "code",
        "colab": {}
      },
      "source": [
        "x_test = pd.read_csv('/content/drive/My Drive/Practicum Data Set/x_test.csv', index_col=0)"
      ],
      "execution_count": 0,
      "outputs": []
    },
    {
      "cell_type": "code",
      "metadata": {
        "id": "s9BcXdQR0VSu",
        "colab_type": "code",
        "colab": {}
      },
      "source": [
        "y_train = pd.read_csv('/content/drive/My Drive/Practicum Data Set/y_train.csv', index_col=0)\n",
        "y_test = pd.read_csv('/content/drive/My Drive/Practicum Data Set/y_test.csv', index_col=0)"
      ],
      "execution_count": 0,
      "outputs": []
    },
    {
      "cell_type": "code",
      "metadata": {
        "id": "lI3l0nIRzFwP",
        "colab_type": "code",
        "outputId": "6f464933-e37f-4b3c-b89f-48e0224b7cee",
        "colab": {
          "base_uri": "https://localhost:8080/",
          "height": 34
        }
      },
      "source": [
        "x_train.co"
      ],
      "execution_count": 0,
      "outputs": [
        {
          "output_type": "execute_result",
          "data": {
            "text/plain": [
              "(666658, 14)"
            ]
          },
          "metadata": {
            "tags": []
          },
          "execution_count": 14
        }
      ]
    },
    {
      "cell_type": "code",
      "metadata": {
        "id": "aFTWlPKJzJoF",
        "colab_type": "code",
        "outputId": "4f70a7f7-d806-47e1-bab2-a0c7abe2a511",
        "colab": {
          "base_uri": "https://localhost:8080/",
          "height": 34
        }
      },
      "source": [
        "x_test.shape"
      ],
      "execution_count": 0,
      "outputs": [
        {
          "output_type": "execute_result",
          "data": {
            "text/plain": [
              "(222220, 14)"
            ]
          },
          "metadata": {
            "tags": []
          },
          "execution_count": 15
        }
      ]
    },
    {
      "cell_type": "code",
      "metadata": {
        "id": "733hoVIWhhYR",
        "colab_type": "code",
        "colab": {}
      },
      "source": [
        "pip install catboost"
      ],
      "execution_count": 0,
      "outputs": []
    },
    {
      "cell_type": "code",
      "metadata": {
        "id": "nS8v77HDo7pM",
        "colab_type": "code",
        "colab": {}
      },
      "source": [
        "gc.collect()\n"
      ],
      "execution_count": 0,
      "outputs": []
    },
    {
      "cell_type": "markdown",
      "metadata": {
        "id": "aM5-4tqgJv2y",
        "colab_type": "text"
      },
      "source": [
        "# DecisionTreeClassifier"
      ]
    },
    {
      "cell_type": "code",
      "metadata": {
        "id": "pbBBYIJaqL7L",
        "colab_type": "code",
        "colab": {}
      },
      "source": [
        "from sklearn.feature_selection import RFE\n",
        "from sklearn.tree import DecisionTreeClassifier\n",
        "\n",
        "model = DecisionTreeClassifier(random_state = 13, max_features = 'sqrt')"
      ],
      "execution_count": 0,
      "outputs": []
    },
    {
      "cell_type": "code",
      "metadata": {
        "id": "qscksZgUP_qe",
        "colab_type": "code",
        "outputId": "cf1d36dc-195e-4e2b-e63b-4d664089057e",
        "colab": {
          "base_uri": "https://localhost:8080/",
          "height": 51
        }
      },
      "source": [
        "rfe = RFE(model, 10)\n",
        "\n",
        "rfe = rfe.fit(x_train, y_train)\n",
        "# print summaries for the selection of attributes\n",
        "print(rfe.support_)\n",
        "print(rfe.ranking_)"
      ],
      "execution_count": 0,
      "outputs": [
        {
          "output_type": "stream",
          "text": [
            "[ True  True  True  True  True  True  True  True  True  True]\n",
            "[1 1 1 1 1 1 1 1 1 1]\n"
          ],
          "name": "stdout"
        }
      ]
    },
    {
      "cell_type": "code",
      "metadata": {
        "colab_type": "code",
        "id": "lB0GzDmnQVxk",
        "outputId": "c717a030-509e-48da-abcf-f180ce1ba4b4",
        "colab": {
          "base_uri": "https://localhost:8080/",
          "height": 119
        }
      },
      "source": [
        "model.fit(x_train, y_train)"
      ],
      "execution_count": 0,
      "outputs": [
        {
          "output_type": "execute_result",
          "data": {
            "text/plain": [
              "DecisionTreeClassifier(class_weight=None, criterion='gini', max_depth=None,\n",
              "                       max_features='sqrt', max_leaf_nodes=None,\n",
              "                       min_impurity_decrease=0.0, min_impurity_split=None,\n",
              "                       min_samples_leaf=1, min_samples_split=2,\n",
              "                       min_weight_fraction_leaf=0.0, presort=False,\n",
              "                       random_state=13, splitter='best')"
            ]
          },
          "metadata": {
            "tags": []
          },
          "execution_count": 98
        }
      ]
    },
    {
      "cell_type": "code",
      "metadata": {
        "colab_type": "code",
        "id": "5UahxhmaQVxq",
        "colab": {}
      },
      "source": [
        "from sklearn import metrics \n",
        "y_pred=model.predict(x_test)"
      ],
      "execution_count": 0,
      "outputs": []
    },
    {
      "cell_type": "code",
      "metadata": {
        "colab_type": "code",
        "id": "Jgw6ez7SQVxs",
        "outputId": "25d76ebb-e116-4aa4-e606-311278fc1367",
        "colab": {
          "base_uri": "https://localhost:8080/",
          "height": 34
        }
      },
      "source": [
        "\n",
        "print(\"Accuracy:\",metrics.accuracy_score(y_test, y_pred))\n"
      ],
      "execution_count": 0,
      "outputs": [
        {
          "output_type": "stream",
          "text": [
            "Accuracy: 0.8922635419290904\n"
          ],
          "name": "stdout"
        }
      ]
    },
    {
      "cell_type": "code",
      "metadata": {
        "colab_type": "code",
        "id": "PYihTWW4QVxy",
        "outputId": "f4b30980-4236-4e90-840f-54666eec6722",
        "colab": {
          "base_uri": "https://localhost:8080/",
          "height": 34
        }
      },
      "source": [
        "from sklearn.metrics import roc_auc_score\n",
        "\n",
        "# Calculate roc auc\n",
        "roc_value = roc_auc_score(y_test, y_pred)\n",
        "roc_value"
      ],
      "execution_count": 0,
      "outputs": [
        {
          "output_type": "execute_result",
          "data": {
            "text/plain": [
              "0.9064206308007241"
            ]
          },
          "metadata": {
            "tags": []
          },
          "execution_count": 101
        }
      ]
    },
    {
      "cell_type": "code",
      "metadata": {
        "colab_type": "code",
        "id": "DhZFFA-6QVx3",
        "outputId": "567aa4a5-15a9-41f6-a23e-c7cec46b9fd6",
        "colab": {
          "base_uri": "https://localhost:8080/",
          "height": 204
        }
      },
      "source": [
        "from sklearn.metrics import confusion_matrix, classification_report\n",
        "print(classification_report(y_test, y_pred))\n",
        "confusion_matrix(y_test, y_pred)"
      ],
      "execution_count": 0,
      "outputs": [
        {
          "output_type": "stream",
          "text": [
            "              precision    recall  f1-score   support\n",
            "\n",
            "           0       0.99      0.89      0.94   1623861\n",
            "           1       0.36      0.92      0.52    110770\n",
            "\n",
            "    accuracy                           0.89   1734631\n",
            "   macro avg       0.68      0.91      0.73   1734631\n",
            "weighted avg       0.95      0.89      0.91   1734631\n",
            "\n"
          ],
          "name": "stdout"
        },
        {
          "output_type": "execute_result",
          "data": {
            "text/plain": [
              "array([[1445546,  178315],\n",
              "       [   8568,  102202]])"
            ]
          },
          "metadata": {
            "tags": []
          },
          "execution_count": 102
        }
      ]
    },
    {
      "cell_type": "code",
      "metadata": {
        "colab_type": "code",
        "id": "MHSWAvTIQVx5",
        "outputId": "23ce562c-bd88-42cb-a06f-ae6097b3b934",
        "colab": {
          "base_uri": "https://localhost:8080/",
          "height": 204
        }
      },
      "source": [
        "feature_imp = pd.Series(model.feature_importances_,index=x_train_df.columns).sort_values(ascending=False)\n",
        "feature_imp"
      ],
      "execution_count": 0,
      "outputs": [
        {
          "output_type": "execute_result",
          "data": {
            "text/plain": [
              "1    0.259471\n",
              "2    0.153830\n",
              "3    0.110120\n",
              "0    0.087433\n",
              "9    0.080495\n",
              "5    0.071826\n",
              "4    0.068782\n",
              "7    0.059513\n",
              "8    0.058841\n",
              "6    0.049688\n",
              "dtype: float64"
            ]
          },
          "metadata": {
            "tags": []
          },
          "execution_count": 105
        }
      ]
    },
    {
      "cell_type": "code",
      "metadata": {
        "id": "rpTjrKtQKAho",
        "colab_type": "code",
        "colab": {}
      },
      "source": [
        ""
      ],
      "execution_count": 0,
      "outputs": []
    },
    {
      "cell_type": "markdown",
      "metadata": {
        "id": "KjVVplBPKBYo",
        "colab_type": "text"
      },
      "source": [
        "# LogisticRegression\n"
      ]
    },
    {
      "cell_type": "code",
      "metadata": {
        "id": "ibIRQHVgKAlX",
        "colab_type": "code",
        "colab": {}
      },
      "source": [
        "from sklearn.linear_model import LogisticRegression"
      ],
      "execution_count": 0,
      "outputs": []
    },
    {
      "cell_type": "code",
      "metadata": {
        "id": "Ff62DHfJKAfO",
        "colab_type": "code",
        "outputId": "ba050ffb-91e1-4022-e498-045d5d9efd79",
        "colab": {
          "base_uri": "https://localhost:8080/",
          "height": 156
        }
      },
      "source": [
        "# all parameters not specified are set to their defaults\n",
        "logisticRegr = LogisticRegression()\n",
        "logisticRegr.fit(x_train, y_train)\n"
      ],
      "execution_count": 0,
      "outputs": [
        {
          "output_type": "stream",
          "text": [
            "/usr/local/lib/python3.6/dist-packages/sklearn/linear_model/logistic.py:432: FutureWarning: Default solver will be changed to 'lbfgs' in 0.22. Specify a solver to silence this warning.\n",
            "  FutureWarning)\n"
          ],
          "name": "stderr"
        },
        {
          "output_type": "execute_result",
          "data": {
            "text/plain": [
              "LogisticRegression(C=1.0, class_weight=None, dual=False, fit_intercept=True,\n",
              "                   intercept_scaling=1, l1_ratio=None, max_iter=100,\n",
              "                   multi_class='warn', n_jobs=None, penalty='l2',\n",
              "                   random_state=None, solver='warn', tol=0.0001, verbose=0,\n",
              "                   warm_start=False)"
            ]
          },
          "metadata": {
            "tags": []
          },
          "execution_count": 107
        }
      ]
    },
    {
      "cell_type": "code",
      "metadata": {
        "id": "4MnWxXQBKNlB",
        "colab_type": "code",
        "outputId": "f6c212fe-823c-46d3-f88d-482f7010b421",
        "colab": {
          "base_uri": "https://localhost:8080/",
          "height": 173
        }
      },
      "source": [
        "rfe = RFE(logisticRegr, 8)\n",
        "\n",
        "rfe = rfe.fit(x_train, y_train)\n",
        "# print summaries for the selection of attributes\n",
        "print(rfe.support_)\n",
        "print(rfe.ranking_)"
      ],
      "execution_count": 0,
      "outputs": [
        {
          "output_type": "stream",
          "text": [
            "/usr/local/lib/python3.6/dist-packages/sklearn/linear_model/logistic.py:432: FutureWarning: Default solver will be changed to 'lbfgs' in 0.22. Specify a solver to silence this warning.\n",
            "  FutureWarning)\n",
            "/usr/local/lib/python3.6/dist-packages/sklearn/linear_model/logistic.py:432: FutureWarning: Default solver will be changed to 'lbfgs' in 0.22. Specify a solver to silence this warning.\n",
            "  FutureWarning)\n",
            "/usr/local/lib/python3.6/dist-packages/sklearn/linear_model/logistic.py:432: FutureWarning: Default solver will be changed to 'lbfgs' in 0.22. Specify a solver to silence this warning.\n",
            "  FutureWarning)\n"
          ],
          "name": "stderr"
        },
        {
          "output_type": "stream",
          "text": [
            "[ True  True  True False  True False  True  True  True  True]\n",
            "[1 1 1 3 1 2 1 1 1 1]\n"
          ],
          "name": "stdout"
        }
      ]
    },
    {
      "cell_type": "code",
      "metadata": {
        "id": "iuUxZANBKjvn",
        "colab_type": "code",
        "outputId": "aa64372f-88bb-4b65-d5f8-d0d0b1c4a281",
        "colab": {
          "base_uri": "https://localhost:8080/",
          "height": 156
        }
      },
      "source": [
        "logisticRegr.fit(x_train, y_train)"
      ],
      "execution_count": 0,
      "outputs": [
        {
          "output_type": "stream",
          "text": [
            "/usr/local/lib/python3.6/dist-packages/sklearn/linear_model/logistic.py:432: FutureWarning: Default solver will be changed to 'lbfgs' in 0.22. Specify a solver to silence this warning.\n",
            "  FutureWarning)\n"
          ],
          "name": "stderr"
        },
        {
          "output_type": "execute_result",
          "data": {
            "text/plain": [
              "LogisticRegression(C=1.0, class_weight=None, dual=False, fit_intercept=True,\n",
              "                   intercept_scaling=1, l1_ratio=None, max_iter=100,\n",
              "                   multi_class='warn', n_jobs=None, penalty='l2',\n",
              "                   random_state=None, solver='warn', tol=0.0001, verbose=0,\n",
              "                   warm_start=False)"
            ]
          },
          "metadata": {
            "tags": []
          },
          "execution_count": 110
        }
      ]
    },
    {
      "cell_type": "code",
      "metadata": {
        "colab_type": "code",
        "id": "kAbmxZ7CKwSq",
        "colab": {}
      },
      "source": [
        "from sklearn import metrics \n",
        "y_pred=logisticRegr.predict(x_test)"
      ],
      "execution_count": 0,
      "outputs": []
    },
    {
      "cell_type": "code",
      "metadata": {
        "colab_type": "code",
        "outputId": "764d49ae-5c23-4340-a718-fecec242c809",
        "id": "Xy8IBtrNKwSz",
        "colab": {
          "base_uri": "https://localhost:8080/",
          "height": 34
        }
      },
      "source": [
        "\n",
        "print(\"Accuracy:\",metrics.accuracy_score(y_test, y_pred))\n"
      ],
      "execution_count": 0,
      "outputs": [
        {
          "output_type": "stream",
          "text": [
            "Accuracy: 0.6667567915020544\n"
          ],
          "name": "stdout"
        }
      ]
    },
    {
      "cell_type": "code",
      "metadata": {
        "colab_type": "code",
        "outputId": "33a192d2-9ec8-408b-ab40-55733b7985be",
        "id": "OV8sFelnKwS9",
        "colab": {
          "base_uri": "https://localhost:8080/",
          "height": 34
        }
      },
      "source": [
        "from sklearn.metrics import roc_auc_score\n",
        "\n",
        "# Calculate roc auc\n",
        "roc_value = roc_auc_score(y_test, y_pred)\n",
        "roc_value"
      ],
      "execution_count": 0,
      "outputs": [
        {
          "output_type": "execute_result",
          "data": {
            "text/plain": [
              "0.6595576790493364"
            ]
          },
          "metadata": {
            "tags": []
          },
          "execution_count": 113
        }
      ]
    },
    {
      "cell_type": "code",
      "metadata": {
        "colab_type": "code",
        "outputId": "7880ef93-c41b-465f-fa0f-13550c5fed50",
        "id": "ytbDks-IKwTD",
        "colab": {
          "base_uri": "https://localhost:8080/",
          "height": 204
        }
      },
      "source": [
        "from sklearn.metrics import confusion_matrix, classification_report\n",
        "print(classification_report(y_test, y_pred))\n",
        "confusion_matrix(y_test, y_pred)"
      ],
      "execution_count": 0,
      "outputs": [
        {
          "output_type": "stream",
          "text": [
            "              precision    recall  f1-score   support\n",
            "\n",
            "           0       0.97      0.67      0.79   1623861\n",
            "           1       0.12      0.65      0.20    110770\n",
            "\n",
            "    accuracy                           0.67   1734631\n",
            "   macro avg       0.54      0.66      0.49   1734631\n",
            "weighted avg       0.91      0.67      0.75   1734631\n",
            "\n"
          ],
          "name": "stdout"
        },
        {
          "output_type": "execute_result",
          "data": {
            "text/plain": [
              "array([[1084432,  539429],\n",
              "       [  38625,   72145]])"
            ]
          },
          "metadata": {
            "tags": []
          },
          "execution_count": 114
        }
      ]
    },
    {
      "cell_type": "code",
      "metadata": {
        "colab_type": "code",
        "outputId": "53dba5c4-3899-48c1-c207-b8b0a30a8509",
        "id": "g0Df9EyIKwTI",
        "colab": {
          "base_uri": "https://localhost:8080/",
          "height": 204
        }
      },
      "source": [
        "feature_imp = pd.Series(model.feature_importances_,index=x_train_df.columns).sort_values(ascending=False)\n",
        "feature_imp"
      ],
      "execution_count": 0,
      "outputs": [
        {
          "output_type": "execute_result",
          "data": {
            "text/plain": [
              "1    0.259471\n",
              "2    0.153830\n",
              "3    0.110120\n",
              "0    0.087433\n",
              "9    0.080495\n",
              "5    0.071826\n",
              "4    0.068782\n",
              "7    0.059513\n",
              "8    0.058841\n",
              "6    0.049688\n",
              "dtype: float64"
            ]
          },
          "metadata": {
            "tags": []
          },
          "execution_count": 115
        }
      ]
    },
    {
      "cell_type": "code",
      "metadata": {
        "id": "ujaa7ZBvLT0r",
        "colab_type": "code",
        "colab": {}
      },
      "source": [
        ""
      ],
      "execution_count": 0,
      "outputs": []
    },
    {
      "cell_type": "markdown",
      "metadata": {
        "id": "3TD5uWnbLU4b",
        "colab_type": "text"
      },
      "source": [
        "# Random Forest\n"
      ]
    },
    {
      "cell_type": "code",
      "metadata": {
        "colab_type": "code",
        "id": "V2dbovhZLUEs",
        "colab": {}
      },
      "source": [
        "from sklearn.ensemble import RandomForestClassifier\n"
      ],
      "execution_count": 0,
      "outputs": []
    },
    {
      "cell_type": "code",
      "metadata": {
        "colab_type": "code",
        "outputId": "f12887cb-67ef-4c72-dc28-42a02d647a15",
        "id": "3ccRT5TWLUE6",
        "colab": {
          "base_uri": "https://localhost:8080/",
          "height": 190
        }
      },
      "source": [
        "# all parameters not specified are set to their defaults\n",
        "randomForest = RandomForestClassifier()\n",
        "randomForest.fit(x_train, y_train)"
      ],
      "execution_count": 0,
      "outputs": [
        {
          "output_type": "stream",
          "text": [
            "/usr/local/lib/python3.6/dist-packages/sklearn/ensemble/forest.py:245: FutureWarning: The default value of n_estimators will change from 10 in version 0.20 to 100 in 0.22.\n",
            "  \"10 in version 0.20 to 100 in 0.22.\", FutureWarning)\n"
          ],
          "name": "stderr"
        },
        {
          "output_type": "execute_result",
          "data": {
            "text/plain": [
              "RandomForestClassifier(bootstrap=True, class_weight=None, criterion='gini',\n",
              "                       max_depth=None, max_features='auto', max_leaf_nodes=None,\n",
              "                       min_impurity_decrease=0.0, min_impurity_split=None,\n",
              "                       min_samples_leaf=1, min_samples_split=2,\n",
              "                       min_weight_fraction_leaf=0.0, n_estimators=10,\n",
              "                       n_jobs=None, oob_score=False, random_state=None,\n",
              "                       verbose=0, warm_start=False)"
            ]
          },
          "metadata": {
            "tags": []
          },
          "execution_count": 129
        }
      ]
    },
    {
      "cell_type": "code",
      "metadata": {
        "colab_type": "code",
        "outputId": "d16c2407-9cbb-4157-8fef-993cd6330ad3",
        "id": "tYod0CYVLUFK",
        "colab": {
          "base_uri": "https://localhost:8080/",
          "height": 51
        }
      },
      "source": [
        "rfe = RFE(randomForest, 8)\n",
        "\n",
        "rfe = rfe.fit(x_train, y_train)\n",
        "# print summaries for the selection of attributes\n",
        "print(rfe.support_)\n",
        "print(rfe.ranking_)"
      ],
      "execution_count": 0,
      "outputs": [
        {
          "output_type": "stream",
          "text": [
            "[ True  True  True  True  True  True False False  True  True]\n",
            "[1 1 1 1 1 1 3 2 1 1]\n"
          ],
          "name": "stdout"
        }
      ]
    },
    {
      "cell_type": "code",
      "metadata": {
        "colab_type": "code",
        "id": "Yc8wbKuRLUFY",
        "colab": {}
      },
      "source": [
        "from sklearn import metrics \n",
        "y_pred=randomForest.predict(x_test)"
      ],
      "execution_count": 0,
      "outputs": []
    },
    {
      "cell_type": "code",
      "metadata": {
        "colab_type": "code",
        "outputId": "9dd5ea42-fbe4-4bff-b518-32de2fe7de58",
        "id": "5jJ4vicpLUFj",
        "colab": {
          "base_uri": "https://localhost:8080/",
          "height": 34
        }
      },
      "source": [
        "\n",
        "print(\"Accuracy:\",metrics.accuracy_score(y_test, y_pred))\n"
      ],
      "execution_count": 0,
      "outputs": [
        {
          "output_type": "stream",
          "text": [
            "Accuracy: 0.9438497294237218\n"
          ],
          "name": "stdout"
        }
      ]
    },
    {
      "cell_type": "code",
      "metadata": {
        "colab_type": "code",
        "outputId": "5b2f39f7-bbf2-482d-ac18-3ea4e552a049",
        "id": "O9RsUg4yLUFl",
        "colab": {
          "base_uri": "https://localhost:8080/",
          "height": 34
        }
      },
      "source": [
        "from sklearn.metrics import roc_auc_score\n",
        "\n",
        "# Calculate roc auc\n",
        "roc_value = roc_auc_score(y_test, y_pred)\n",
        "roc_value"
      ],
      "execution_count": 0,
      "outputs": [
        {
          "output_type": "execute_result",
          "data": {
            "text/plain": [
              "0.9330646887095082"
            ]
          },
          "metadata": {
            "tags": []
          },
          "execution_count": 132
        }
      ]
    },
    {
      "cell_type": "code",
      "metadata": {
        "colab_type": "code",
        "outputId": "30d4036d-5b55-4f70-b157-7500d6c71c48",
        "id": "WfKHs6v1LUFr",
        "colab": {
          "base_uri": "https://localhost:8080/",
          "height": 204
        }
      },
      "source": [
        "from sklearn.metrics import confusion_matrix, classification_report\n",
        "print(classification_report(y_test, y_pred))\n",
        "confusion_matrix(y_test, y_pred)"
      ],
      "execution_count": 0,
      "outputs": [
        {
          "output_type": "stream",
          "text": [
            "              precision    recall  f1-score   support\n",
            "\n",
            "           0       0.99      0.95      0.97   1623861\n",
            "           1       0.54      0.92      0.68    110770\n",
            "\n",
            "    accuracy                           0.94   1734631\n",
            "   macro avg       0.76      0.93      0.82   1734631\n",
            "weighted avg       0.96      0.94      0.95   1734631\n",
            "\n"
          ],
          "name": "stdout"
        },
        {
          "output_type": "execute_result",
          "data": {
            "text/plain": [
              "array([[1535245,   88616],\n",
              "       [   8784,  101986]])"
            ]
          },
          "metadata": {
            "tags": []
          },
          "execution_count": 133
        }
      ]
    },
    {
      "cell_type": "code",
      "metadata": {
        "colab_type": "code",
        "outputId": "0646decd-7a97-4222-af77-11ea0adad3c9",
        "id": "ArzcSbXELUFs",
        "colab": {
          "base_uri": "https://localhost:8080/",
          "height": 204
        }
      },
      "source": [
        "feature_imp = pd.Series(model.feature_importances_,index=x_train_df.columns).sort_values(ascending=False)\n",
        "feature_imp"
      ],
      "execution_count": 0,
      "outputs": [
        {
          "output_type": "execute_result",
          "data": {
            "text/plain": [
              "1    0.259471\n",
              "2    0.153830\n",
              "3    0.110120\n",
              "0    0.087433\n",
              "9    0.080495\n",
              "5    0.071826\n",
              "4    0.068782\n",
              "7    0.059513\n",
              "8    0.058841\n",
              "6    0.049688\n",
              "dtype: float64"
            ]
          },
          "metadata": {
            "tags": []
          },
          "execution_count": 134
        }
      ]
    },
    {
      "cell_type": "markdown",
      "metadata": {
        "id": "S8wpbC5kSWQ3",
        "colab_type": "text"
      },
      "source": [
        "#Random Forest Tuned"
      ]
    },
    {
      "cell_type": "code",
      "metadata": {
        "id": "FtWh2JIfSVmG",
        "colab_type": "code",
        "colab": {}
      },
      "source": [
        "from sklearn.ensemble import RandomForestClassifier\n",
        "randomForest = RandomForestClassifier(n_estimators=501, \n",
        "                               bootstrap = True,\n",
        "                               max_features = 'sqrt',\n",
        "                               random_state = 13)"
      ],
      "execution_count": 0,
      "outputs": []
    },
    {
      "cell_type": "code",
      "metadata": {
        "id": "uyudyD4GSe3e",
        "colab_type": "code",
        "outputId": "2f9b3411-bfd5-4d50-a6b3-8f6ae6aeb2b9",
        "colab": {
          "base_uri": "https://localhost:8080/",
          "height": 136
        }
      },
      "source": [
        "randomForest.fit(x_train, y_train)"
      ],
      "execution_count": 0,
      "outputs": [
        {
          "output_type": "execute_result",
          "data": {
            "text/plain": [
              "RandomForestClassifier(bootstrap=True, class_weight=None, criterion='gini',\n",
              "                       max_depth=None, max_features='sqrt', max_leaf_nodes=None,\n",
              "                       min_impurity_decrease=0.0, min_impurity_split=None,\n",
              "                       min_samples_leaf=1, min_samples_split=2,\n",
              "                       min_weight_fraction_leaf=0.0, n_estimators=501,\n",
              "                       n_jobs=None, oob_score=False, random_state=13, verbose=0,\n",
              "                       warm_start=False)"
            ]
          },
          "metadata": {
            "tags": []
          },
          "execution_count": 143
        }
      ]
    },
    {
      "cell_type": "code",
      "metadata": {
        "colab_type": "code",
        "id": "00guCKpaSkL4",
        "colab": {}
      },
      "source": [
        "from sklearn import metrics \n",
        "y_pred=randomForest.predict(x_test)"
      ],
      "execution_count": 0,
      "outputs": []
    },
    {
      "cell_type": "code",
      "metadata": {
        "colab_type": "code",
        "outputId": "61b5c53d-c028-469c-f97a-6e9d62f128e4",
        "id": "2LHS2FEiSkL7",
        "colab": {
          "base_uri": "https://localhost:8080/",
          "height": 34
        }
      },
      "source": [
        "\n",
        "print(\"Accuracy:\",metrics.accuracy_score(y_test, y_pred))\n"
      ],
      "execution_count": 0,
      "outputs": [
        {
          "output_type": "stream",
          "text": [
            "Accuracy: 0.9444043142316724\n"
          ],
          "name": "stdout"
        }
      ]
    },
    {
      "cell_type": "code",
      "metadata": {
        "colab_type": "code",
        "outputId": "de5fa663-58f3-4c26-eaa0-f334acc3e856",
        "id": "l73MoLoWSkL-",
        "colab": {
          "base_uri": "https://localhost:8080/",
          "height": 34
        }
      },
      "source": [
        "from sklearn.metrics import roc_auc_score\n",
        "\n",
        "# Calculate roc auc\n",
        "roc_value = roc_auc_score(y_test, y_pred)\n",
        "roc_value"
      ],
      "execution_count": 0,
      "outputs": [
        {
          "output_type": "execute_result",
          "data": {
            "text/plain": [
              "0.9414531430028227"
            ]
          },
          "metadata": {
            "tags": []
          },
          "execution_count": 146
        }
      ]
    },
    {
      "cell_type": "code",
      "metadata": {
        "colab_type": "code",
        "outputId": "a22b5214-497b-4843-a7d7-43f9ecb37e74",
        "id": "MDyGWq6lSkMB",
        "colab": {
          "base_uri": "https://localhost:8080/",
          "height": 204
        }
      },
      "source": [
        "from sklearn.metrics import confusion_matrix, classification_report\n",
        "print(classification_report(y_test, y_pred))\n",
        "confusion_matrix(y_test, y_pred)"
      ],
      "execution_count": 0,
      "outputs": [
        {
          "output_type": "stream",
          "text": [
            "              precision    recall  f1-score   support\n",
            "\n",
            "           0       1.00      0.94      0.97   1623861\n",
            "           1       0.54      0.94      0.68    110770\n",
            "\n",
            "    accuracy                           0.94   1734631\n",
            "   macro avg       0.77      0.94      0.83   1734631\n",
            "weighted avg       0.97      0.94      0.95   1734631\n",
            "\n"
          ],
          "name": "stdout"
        },
        {
          "output_type": "execute_result",
          "data": {
            "text/plain": [
              "array([[1534283,   89578],\n",
              "       [   6860,  103910]])"
            ]
          },
          "metadata": {
            "tags": []
          },
          "execution_count": 147
        }
      ]
    },
    {
      "cell_type": "code",
      "metadata": {
        "colab_type": "code",
        "outputId": "5838e1ee-8466-448d-a541-28340054abdc",
        "id": "Ov8a09BxSkMD",
        "colab": {
          "base_uri": "https://localhost:8080/",
          "height": 204
        }
      },
      "source": [
        "feature_imp = pd.Series(model.feature_importances_,index=x_train_df.columns).sort_values(ascending=False)\n",
        "feature_imp"
      ],
      "execution_count": 0,
      "outputs": [
        {
          "output_type": "execute_result",
          "data": {
            "text/plain": [
              "1    0.259471\n",
              "2    0.153830\n",
              "3    0.110120\n",
              "0    0.087433\n",
              "9    0.080495\n",
              "5    0.071826\n",
              "4    0.068782\n",
              "7    0.059513\n",
              "8    0.058841\n",
              "6    0.049688\n",
              "dtype: float64"
            ]
          },
          "metadata": {
            "tags": []
          },
          "execution_count": 148
        }
      ]
    },
    {
      "cell_type": "markdown",
      "metadata": {
        "id": "x_wUo8UGNsn9",
        "colab_type": "text"
      },
      "source": [
        "# Bagging with Decision Tree Classifier"
      ]
    },
    {
      "cell_type": "code",
      "metadata": {
        "id": "cAv8OOjCN8ne",
        "colab_type": "code",
        "colab": {}
      },
      "source": [
        "from sklearn.ensemble import BaggingClassifier\n",
        "from sklearn.tree import DecisionTreeClassifier\n",
        "\n",
        "dtc = DecisionTreeClassifier(criterion=\"entropy\")\n",
        "bag_model=BaggingClassifier(base_estimator=dtc, n_estimators=100, bootstrap=True)\n",
        "bag_model=bag_model.fit(x_train, y_train)"
      ],
      "execution_count": 0,
      "outputs": []
    },
    {
      "cell_type": "code",
      "metadata": {
        "colab_type": "code",
        "id": "UMgh7YHoSBCV",
        "colab": {}
      },
      "source": [
        ""
      ],
      "execution_count": 0,
      "outputs": []
    },
    {
      "cell_type": "code",
      "metadata": {
        "colab_type": "code",
        "id": "BK8w47LzOWvc",
        "colab": {}
      },
      "source": [
        "from sklearn import metrics \n",
        "y_pred=bag_model.predict(x_test)"
      ],
      "execution_count": 0,
      "outputs": []
    },
    {
      "cell_type": "code",
      "metadata": {
        "colab_type": "code",
        "outputId": "9b13bde6-3f1d-4c63-bfff-ce7a26a2ca0b",
        "id": "3byWy5aDOWvm",
        "colab": {
          "base_uri": "https://localhost:8080/",
          "height": 34
        }
      },
      "source": [
        "\n",
        "print(\"Accuracy:\",metrics.accuracy_score(y_test, y_pred))\n"
      ],
      "execution_count": 0,
      "outputs": [
        {
          "output_type": "stream",
          "text": [
            "Accuracy: 0.9404270994811\n"
          ],
          "name": "stdout"
        }
      ]
    },
    {
      "cell_type": "code",
      "metadata": {
        "colab_type": "code",
        "outputId": "a87da2bb-d6c1-4c30-9312-2909b11b77b1",
        "id": "Fob80ireOWvr",
        "colab": {
          "base_uri": "https://localhost:8080/",
          "height": 34
        }
      },
      "source": [
        "from sklearn.metrics import roc_auc_score\n",
        "\n",
        "# Calculate roc auc\n",
        "roc_value = roc_auc_score(y_test, y_pred)\n",
        "roc_value"
      ],
      "execution_count": 0,
      "outputs": [
        {
          "output_type": "execute_result",
          "data": {
            "text/plain": [
              "0.9415370082733812"
            ]
          },
          "metadata": {
            "tags": []
          },
          "execution_count": 139
        }
      ]
    },
    {
      "cell_type": "code",
      "metadata": {
        "colab_type": "code",
        "outputId": "499c61df-2d1c-4e7b-db80-afb435019667",
        "id": "Kp3hTkVVOWvy",
        "colab": {
          "base_uri": "https://localhost:8080/",
          "height": 204
        }
      },
      "source": [
        "from sklearn.metrics import confusion_matrix, classification_report\n",
        "print(classification_report(y_test, y_pred))\n",
        "confusion_matrix(y_test, y_pred)"
      ],
      "execution_count": 0,
      "outputs": [
        {
          "output_type": "stream",
          "text": [
            "              precision    recall  f1-score   support\n",
            "\n",
            "           0       1.00      0.94      0.97   1623861\n",
            "           1       0.52      0.94      0.67    110770\n",
            "\n",
            "    accuracy                           0.94   1734631\n",
            "   macro avg       0.76      0.94      0.82   1734631\n",
            "weighted avg       0.97      0.94      0.95   1734631\n",
            "\n"
          ],
          "name": "stdout"
        },
        {
          "output_type": "execute_result",
          "data": {
            "text/plain": [
              "array([[1526859,   97002],\n",
              "       [   6335,  104435]])"
            ]
          },
          "metadata": {
            "tags": []
          },
          "execution_count": 140
        }
      ]
    },
    {
      "cell_type": "code",
      "metadata": {
        "colab_type": "code",
        "outputId": "2f255588-4384-42ca-a258-8d4b0dd57ec5",
        "id": "XjDuTpxQOWv1",
        "colab": {
          "base_uri": "https://localhost:8080/",
          "height": 204
        }
      },
      "source": [
        "feature_imp = pd.Series(model.feature_importances_,index=x_train_df.columns).sort_values(ascending=False)\n",
        "feature_imp"
      ],
      "execution_count": 0,
      "outputs": [
        {
          "output_type": "execute_result",
          "data": {
            "text/plain": [
              "1    0.259471\n",
              "2    0.153830\n",
              "3    0.110120\n",
              "0    0.087433\n",
              "9    0.080495\n",
              "5    0.071826\n",
              "4    0.068782\n",
              "7    0.059513\n",
              "8    0.058841\n",
              "6    0.049688\n",
              "dtype: float64"
            ]
          },
          "metadata": {
            "tags": []
          },
          "execution_count": 141
        }
      ]
    },
    {
      "cell_type": "code",
      "metadata": {
        "id": "X8c50FsXN81I",
        "colab_type": "code",
        "colab": {}
      },
      "source": [
        ""
      ],
      "execution_count": 0,
      "outputs": []
    },
    {
      "cell_type": "markdown",
      "metadata": {
        "id": "P2T_H418UrP8",
        "colab_type": "text"
      },
      "source": [
        "# Gausian Naive Bayes"
      ]
    },
    {
      "cell_type": "code",
      "metadata": {
        "id": "wVQQUphEUxA3",
        "colab_type": "code",
        "colab": {}
      },
      "source": [
        "from sklearn.naive_bayes import GaussianNB\n",
        "naiveBayes = GaussianNB()\n",
        "naiveBayes = naiveBayes.fit(x_train, y_train)"
      ],
      "execution_count": 0,
      "outputs": []
    },
    {
      "cell_type": "code",
      "metadata": {
        "colab_type": "code",
        "id": "NPebtuG2VCfI",
        "colab": {}
      },
      "source": [
        "from sklearn import metrics \n",
        "y_pred=naiveBayes.predict(x_test)"
      ],
      "execution_count": 0,
      "outputs": []
    },
    {
      "cell_type": "code",
      "metadata": {
        "colab_type": "code",
        "outputId": "2da1e5e2-fd08-4334-f05a-22d0a56fefd0",
        "id": "RUHKYpnEVCfU",
        "colab": {
          "base_uri": "https://localhost:8080/",
          "height": 34
        }
      },
      "source": [
        "\n",
        "print(\"Accuracy:\",metrics.accuracy_score(y_test, y_pred))\n"
      ],
      "execution_count": 0,
      "outputs": [
        {
          "output_type": "stream",
          "text": [
            "Accuracy: 0.3846991089171126\n"
          ],
          "name": "stdout"
        }
      ]
    },
    {
      "cell_type": "code",
      "metadata": {
        "colab_type": "code",
        "outputId": "b4ca9cfe-7fb4-4e3e-df2c-d8153facfab1",
        "id": "0dn3_UzNVCfa",
        "colab": {
          "base_uri": "https://localhost:8080/",
          "height": 34
        }
      },
      "source": [
        "from sklearn.metrics import roc_auc_score\n",
        "\n",
        "# Calculate roc auc\n",
        "roc_value = roc_auc_score(y_test, y_pred)\n",
        "roc_value"
      ],
      "execution_count": 0,
      "outputs": [
        {
          "output_type": "execute_result",
          "data": {
            "text/plain": [
              "0.6153192212895856"
            ]
          },
          "metadata": {
            "tags": []
          },
          "execution_count": 152
        }
      ]
    },
    {
      "cell_type": "code",
      "metadata": {
        "colab_type": "code",
        "outputId": "12b4a8ce-07b0-4b85-ec41-aeb941864f23",
        "id": "S2R4oORyVCfd",
        "colab": {
          "base_uri": "https://localhost:8080/",
          "height": 204
        }
      },
      "source": [
        "from sklearn.metrics import confusion_matrix, classification_report\n",
        "print(classification_report(y_test, y_pred))\n",
        "confusion_matrix(y_test, y_pred)"
      ],
      "execution_count": 0,
      "outputs": [
        {
          "output_type": "stream",
          "text": [
            "              precision    recall  f1-score   support\n",
            "\n",
            "           0       0.98      0.35      0.52   1623861\n",
            "           1       0.08      0.88      0.15    110770\n",
            "\n",
            "    accuracy                           0.38   1734631\n",
            "   macro avg       0.53      0.62      0.34   1734631\n",
            "weighted avg       0.92      0.38      0.49   1734631\n",
            "\n"
          ],
          "name": "stdout"
        },
        {
          "output_type": "execute_result",
          "data": {
            "text/plain": [
              "array([[ 569866, 1053995],\n",
              "       [  13325,   97445]])"
            ]
          },
          "metadata": {
            "tags": []
          },
          "execution_count": 153
        }
      ]
    },
    {
      "cell_type": "code",
      "metadata": {
        "colab_type": "code",
        "outputId": "325a7753-a8a1-4657-edc2-9d5682c38e4d",
        "id": "cnv4NJc9VCfi",
        "colab": {
          "base_uri": "https://localhost:8080/",
          "height": 204
        }
      },
      "source": [
        "feature_imp = pd.Series(model.feature_importances_,index=x_train_df.columns).sort_values(ascending=False)\n",
        "feature_imp"
      ],
      "execution_count": 0,
      "outputs": [
        {
          "output_type": "execute_result",
          "data": {
            "text/plain": [
              "1    0.259471\n",
              "2    0.153830\n",
              "3    0.110120\n",
              "0    0.087433\n",
              "9    0.080495\n",
              "5    0.071826\n",
              "4    0.068782\n",
              "7    0.059513\n",
              "8    0.058841\n",
              "6    0.049688\n",
              "dtype: float64"
            ]
          },
          "metadata": {
            "tags": []
          },
          "execution_count": 154
        }
      ]
    },
    {
      "cell_type": "markdown",
      "metadata": {
        "id": "g4ihNI7mYba6",
        "colab_type": "text"
      },
      "source": [
        "# ADA Boost"
      ]
    },
    {
      "cell_type": "code",
      "metadata": {
        "colab_type": "code",
        "id": "ZyN4vV--Yicm",
        "colab": {
          "base_uri": "https://localhost:8080/",
          "height": 272
        },
        "outputId": "e1fe2d03-2e17-43cf-ccde-792eb38db1f7"
      },
      "source": [
        "from sklearn.ensemble import AdaBoostClassifier\n",
        "from sklearn.tree import DecisionTreeClassifier\n",
        "ad = AdaBoostClassifier(DecisionTreeClassifier(),n_estimators=200)\n",
        "ad.fit(x_train, y_train)\n"
      ],
      "execution_count": 106,
      "outputs": [
        {
          "output_type": "execute_result",
          "data": {
            "text/plain": [
              "AdaBoostClassifier(algorithm='SAMME.R',\n",
              "                   base_estimator=DecisionTreeClassifier(class_weight=None,\n",
              "                                                         criterion='gini',\n",
              "                                                         max_depth=None,\n",
              "                                                         max_features=None,\n",
              "                                                         max_leaf_nodes=None,\n",
              "                                                         min_impurity_decrease=0.0,\n",
              "                                                         min_impurity_split=None,\n",
              "                                                         min_samples_leaf=1,\n",
              "                                                         min_samples_split=2,\n",
              "                                                         min_weight_fraction_leaf=0.0,\n",
              "                                                         presort=False,\n",
              "                                                         random_state=None,\n",
              "                                                         splitter='best'),\n",
              "                   learning_rate=1.0, n_estimators=200, random_state=None)"
            ]
          },
          "metadata": {
            "tags": []
          },
          "execution_count": 106
        }
      ]
    },
    {
      "cell_type": "code",
      "metadata": {
        "colab_type": "code",
        "id": "sKduwMtiYicr",
        "colab": {}
      },
      "source": [
        "from sklearn import metrics \n",
        "y_pred=ad.predict(x_test)"
      ],
      "execution_count": 0,
      "outputs": []
    },
    {
      "cell_type": "code",
      "metadata": {
        "colab_type": "code",
        "outputId": "129498bb-3d67-4c1d-e442-8f79f874f107",
        "id": "EdCI3W0KYicv",
        "colab": {
          "base_uri": "https://localhost:8080/",
          "height": 34
        }
      },
      "source": [
        "\n",
        "print(\"Accuracy:\",metrics.accuracy_score(y_test, y_pred))\n"
      ],
      "execution_count": 130,
      "outputs": [
        {
          "output_type": "stream",
          "text": [
            "Accuracy: 0.9265924568395238\n"
          ],
          "name": "stdout"
        }
      ]
    },
    {
      "cell_type": "code",
      "metadata": {
        "colab_type": "code",
        "outputId": "3a46d53c-4102-4972-d878-b2382bb7bb09",
        "id": "jqTsn732Yicz",
        "colab": {
          "base_uri": "https://localhost:8080/",
          "height": 34
        }
      },
      "source": [
        "from sklearn.metrics import roc_auc_score\n",
        "\n",
        "# Calculate roc auc\n",
        "roc_value = roc_auc_score(y_test, y_pred)\n",
        "roc_value"
      ],
      "execution_count": 131,
      "outputs": [
        {
          "output_type": "execute_result",
          "data": {
            "text/plain": [
              "0.9268631246402588"
            ]
          },
          "metadata": {
            "tags": []
          },
          "execution_count": 131
        }
      ]
    },
    {
      "cell_type": "code",
      "metadata": {
        "colab_type": "code",
        "outputId": "436d4e82-571e-45e2-9b5a-073d0cfcf512",
        "id": "nBcOPG_4Yic9",
        "colab": {
          "base_uri": "https://localhost:8080/",
          "height": 204
        }
      },
      "source": [
        "from sklearn.metrics import confusion_matrix, classification_report\n",
        "print(classification_report(y_test, y_pred))\n",
        "confusion_matrix(y_test, y_pred)"
      ],
      "execution_count": 132,
      "outputs": [
        {
          "output_type": "stream",
          "text": [
            "              precision    recall  f1-score   support\n",
            "\n",
            "           0       0.99      0.93      0.96   1623861\n",
            "           1       0.46      0.93      0.62    110770\n",
            "\n",
            "    accuracy                           0.93   1734631\n",
            "   macro avg       0.73      0.93      0.79   1734631\n",
            "weighted avg       0.96      0.93      0.94   1734631\n",
            "\n"
          ],
          "name": "stdout"
        },
        {
          "output_type": "execute_result",
          "data": {
            "text/plain": [
              "array([[1504593,  119268],\n",
              "       [   8067,  102703]])"
            ]
          },
          "metadata": {
            "tags": []
          },
          "execution_count": 132
        }
      ]
    },
    {
      "cell_type": "code",
      "metadata": {
        "colab_type": "code",
        "outputId": "ec8a00e0-00c5-4c17-d034-0626a4ff1d75",
        "id": "obJjlKTsYic_",
        "colab": {
          "base_uri": "https://localhost:8080/",
          "height": 238
        }
      },
      "source": [
        "feature_imp = pd.Series(ad.feature_importances_,index=x_train_df.columns).sort_values(ascending=False)\n",
        "feature_imp"
      ],
      "execution_count": 134,
      "outputs": [
        {
          "output_type": "stream",
          "text": [
            "/usr/local/lib/python3.6/dist-packages/sklearn/tree/tree.py:527: RuntimeWarning: invalid value encountered in true_divide\n",
            "  return self.tree_.compute_feature_importances()\n"
          ],
          "name": "stderr"
        },
        {
          "output_type": "execute_result",
          "data": {
            "text/plain": [
              "0   NaN\n",
              "1   NaN\n",
              "2   NaN\n",
              "3   NaN\n",
              "4   NaN\n",
              "5   NaN\n",
              "6   NaN\n",
              "7   NaN\n",
              "8   NaN\n",
              "9   NaN\n",
              "dtype: float64"
            ]
          },
          "metadata": {
            "tags": []
          },
          "execution_count": 134
        }
      ]
    }
  ]
}